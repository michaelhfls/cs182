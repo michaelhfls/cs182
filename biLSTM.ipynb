{
  "nbformat": 4,
  "nbformat_minor": 0,
  "metadata": {
    "colab": {
      "name": "biLSTM.ipynb",
      "provenance": [],
      "collapsed_sections": []
    },
    "kernelspec": {
      "name": "python3",
      "display_name": "Python 3"
    }
  },
  "cells": [
    {
      "cell_type": "code",
      "metadata": {
        "id": "rgQuk81wGMbk",
        "colab_type": "code",
        "outputId": "6e762a16-51a1-494b-870f-b2780685b0c3",
        "colab": {
          "base_uri": "https://localhost:8080/",
          "height": 35
        }
      },
      "source": [
        "import numpy as np\n",
        "import pandas as pd\n",
        "from scipy import sparse\n",
        "\n",
        "from sklearn.pipeline import Pipeline, make_pipeline\n",
        "from sklearn.feature_extraction.text import TfidfVectorizer\n",
        "from sklearn.base import BaseEstimator, ClassifierMixin\n",
        "from sklearn.linear_model import LogisticRegression\n",
        "from sklearn.model_selection import cross_val_score\n",
        "from sklearn import metrics\n",
        "from sklearn.metrics import roc_auc_score\n",
        "from sklearn.model_selection import train_test_split\n",
        "\n",
        "from keras.preprocessing.text import Tokenizer\n",
        "from keras.preprocessing.sequence import pad_sequences\n",
        "from keras.layers import Dense, Input, LSTM, Embedding, Dropout, Activation, SpatialDropout1D, GRU\n",
        "from keras.layers import Bidirectional, GlobalAveragePooling1D, GlobalMaxPooling1D, concatenate\n",
        "from keras.models import Model, Sequential\n",
        "from keras import initializers, regularizers, constraints, optimizers, layers\n",
        "from keras.utils import to_categorical\n",
        "from keras.callbacks import EarlyStopping, ModelCheckpoint\n",
        "%matplotlib inline"
      ],
      "execution_count": 1,
      "outputs": [
        {
          "output_type": "stream",
          "text": [
            "Using TensorFlow backend.\n"
          ],
          "name": "stderr"
        }
      ]
    },
    {
      "cell_type": "code",
      "metadata": {
        "id": "yaqsOgN5N8_D",
        "colab_type": "code",
        "outputId": "1e64fb63-edff-463d-e99e-f13d392981a4",
        "colab": {
          "base_uri": "https://localhost:8080/",
          "height": 35
        }
      },
      "source": [
        "from google.colab import drive\n",
        "drive.mount('/content/drive')"
      ],
      "execution_count": 2,
      "outputs": [
        {
          "output_type": "stream",
          "text": [
            "Drive already mounted at /content/drive; to attempt to forcibly remount, call drive.mount(\"/content/drive\", force_remount=True).\n"
          ],
          "name": "stdout"
        }
      ]
    },
    {
      "cell_type": "code",
      "metadata": {
        "id": "Th3tMrJdOFpK",
        "colab_type": "code",
        "colab": {}
      },
      "source": [
        "read_path = \"/content/drive/My Drive/cs182final/yelp_review_training_dataset.jsonl\"\n",
        "data = pd.read_json(read_path, lines = True)"
      ],
      "execution_count": 0,
      "outputs": []
    },
    {
      "cell_type": "code",
      "metadata": {
        "id": "hAgXlE9WOOww",
        "colab_type": "code",
        "colab": {}
      },
      "source": [
        "data = data.drop([\"review_id\"], axis =1)"
      ],
      "execution_count": 0,
      "outputs": []
    },
    {
      "cell_type": "code",
      "metadata": {
        "id": "8UPJVWlwOYx_",
        "colab_type": "code",
        "outputId": "095c92dd-1f34-4a23-a4b1-087f01300add",
        "colab": {
          "base_uri": "https://localhost:8080/",
          "height": 202
        }
      },
      "source": [
        "data.head()"
      ],
      "execution_count": 5,
      "outputs": [
        {
          "output_type": "execute_result",
          "data": {
            "text/html": [
              "<div>\n",
              "<style scoped>\n",
              "    .dataframe tbody tr th:only-of-type {\n",
              "        vertical-align: middle;\n",
              "    }\n",
              "\n",
              "    .dataframe tbody tr th {\n",
              "        vertical-align: top;\n",
              "    }\n",
              "\n",
              "    .dataframe thead th {\n",
              "        text-align: right;\n",
              "    }\n",
              "</style>\n",
              "<table border=\"1\" class=\"dataframe\">\n",
              "  <thead>\n",
              "    <tr style=\"text-align: right;\">\n",
              "      <th></th>\n",
              "      <th>text</th>\n",
              "      <th>stars</th>\n",
              "    </tr>\n",
              "  </thead>\n",
              "  <tbody>\n",
              "    <tr>\n",
              "      <th>0</th>\n",
              "      <td>Total bill for this horrible service? Over $8G...</td>\n",
              "      <td>1</td>\n",
              "    </tr>\n",
              "    <tr>\n",
              "      <th>1</th>\n",
              "      <td>I *adore* Travis at the Hard Rock's new Kelly ...</td>\n",
              "      <td>5</td>\n",
              "    </tr>\n",
              "    <tr>\n",
              "      <th>2</th>\n",
              "      <td>I have to say that this office really has it t...</td>\n",
              "      <td>5</td>\n",
              "    </tr>\n",
              "    <tr>\n",
              "      <th>3</th>\n",
              "      <td>Went in for a lunch. Steak sandwich was delici...</td>\n",
              "      <td>5</td>\n",
              "    </tr>\n",
              "    <tr>\n",
              "      <th>4</th>\n",
              "      <td>Today was my second out of three sessions I ha...</td>\n",
              "      <td>1</td>\n",
              "    </tr>\n",
              "  </tbody>\n",
              "</table>\n",
              "</div>"
            ],
            "text/plain": [
              "                                                text  stars\n",
              "0  Total bill for this horrible service? Over $8G...      1\n",
              "1  I *adore* Travis at the Hard Rock's new Kelly ...      5\n",
              "2  I have to say that this office really has it t...      5\n",
              "3  Went in for a lunch. Steak sandwich was delici...      5\n",
              "4  Today was my second out of three sessions I ha...      1"
            ]
          },
          "metadata": {
            "tags": []
          },
          "execution_count": 5
        }
      ]
    },
    {
      "cell_type": "code",
      "metadata": {
        "id": "HoVEoaJOOaY1",
        "colab_type": "code",
        "outputId": "bf69ebfb-edda-40d2-b7c9-f1256ee59c64",
        "colab": {
          "base_uri": "https://localhost:8080/",
          "height": 202
        }
      },
      "source": [
        "data[\"text\"] = data['text'].str.replace('[^\\w\\s]','').str.lower()\n",
        "data[\"text\"] = data['text'].str.replace('\\d+', '')\n",
        "data.head()"
      ],
      "execution_count": 6,
      "outputs": [
        {
          "output_type": "execute_result",
          "data": {
            "text/html": [
              "<div>\n",
              "<style scoped>\n",
              "    .dataframe tbody tr th:only-of-type {\n",
              "        vertical-align: middle;\n",
              "    }\n",
              "\n",
              "    .dataframe tbody tr th {\n",
              "        vertical-align: top;\n",
              "    }\n",
              "\n",
              "    .dataframe thead th {\n",
              "        text-align: right;\n",
              "    }\n",
              "</style>\n",
              "<table border=\"1\" class=\"dataframe\">\n",
              "  <thead>\n",
              "    <tr style=\"text-align: right;\">\n",
              "      <th></th>\n",
              "      <th>text</th>\n",
              "      <th>stars</th>\n",
              "    </tr>\n",
              "  </thead>\n",
              "  <tbody>\n",
              "    <tr>\n",
              "      <th>0</th>\n",
              "      <td>total bill for this horrible service over gs t...</td>\n",
              "      <td>1</td>\n",
              "    </tr>\n",
              "    <tr>\n",
              "      <th>1</th>\n",
              "      <td>i adore travis at the hard rocks new kelly car...</td>\n",
              "      <td>5</td>\n",
              "    </tr>\n",
              "    <tr>\n",
              "      <th>2</th>\n",
              "      <td>i have to say that this office really has it t...</td>\n",
              "      <td>5</td>\n",
              "    </tr>\n",
              "    <tr>\n",
              "      <th>3</th>\n",
              "      <td>went in for a lunch steak sandwich was delicio...</td>\n",
              "      <td>5</td>\n",
              "    </tr>\n",
              "    <tr>\n",
              "      <th>4</th>\n",
              "      <td>today was my second out of three sessions i ha...</td>\n",
              "      <td>1</td>\n",
              "    </tr>\n",
              "  </tbody>\n",
              "</table>\n",
              "</div>"
            ],
            "text/plain": [
              "                                                text  stars\n",
              "0  total bill for this horrible service over gs t...      1\n",
              "1  i adore travis at the hard rocks new kelly car...      5\n",
              "2  i have to say that this office really has it t...      5\n",
              "3  went in for a lunch steak sandwich was delicio...      5\n",
              "4  today was my second out of three sessions i ha...      1"
            ]
          },
          "metadata": {
            "tags": []
          },
          "execution_count": 6
        }
      ]
    },
    {
      "cell_type": "code",
      "metadata": {
        "id": "-tyeVVWkQHwP",
        "colab_type": "code",
        "outputId": "d7b914d5-1f54-40b6-fdf7-5024d4cc96a6",
        "colab": {
          "base_uri": "https://localhost:8080/",
          "height": 35
        }
      },
      "source": [
        "data.shape"
      ],
      "execution_count": 7,
      "outputs": [
        {
          "output_type": "execute_result",
          "data": {
            "text/plain": [
              "(533581, 2)"
            ]
          },
          "metadata": {
            "tags": []
          },
          "execution_count": 7
        }
      ]
    },
    {
      "cell_type": "code",
      "metadata": {
        "id": "FMf2P3zrOcmz",
        "colab_type": "code",
        "colab": {}
      },
      "source": [
        "shuffled = data.sample(frac=1)\n",
        "shuffled_sample = data.iloc[:10000]\n",
        "train, validation = train_test_split(shuffled_sample, test_size=0.2)"
      ],
      "execution_count": 0,
      "outputs": []
    },
    {
      "cell_type": "code",
      "metadata": {
        "id": "pPtRRXFVOgew",
        "colab_type": "code",
        "outputId": "9eae45cd-beaa-49d8-c588-a0109304cdbc",
        "colab": {
          "base_uri": "https://localhost:8080/",
          "height": 35
        }
      },
      "source": [
        "train.shape, validation.shape"
      ],
      "execution_count": 9,
      "outputs": [
        {
          "output_type": "execute_result",
          "data": {
            "text/plain": [
              "((8000, 2), (2000, 2))"
            ]
          },
          "metadata": {
            "tags": []
          },
          "execution_count": 9
        }
      ]
    },
    {
      "cell_type": "code",
      "metadata": {
        "id": "WG262unCO4Gr",
        "colab_type": "code",
        "outputId": "0643b515-59cb-41e6-cad9-a77c0c9373c0",
        "colab": {
          "base_uri": "https://localhost:8080/",
          "height": 202
        }
      },
      "source": [
        "train.head()"
      ],
      "execution_count": 10,
      "outputs": [
        {
          "output_type": "execute_result",
          "data": {
            "text/html": [
              "<div>\n",
              "<style scoped>\n",
              "    .dataframe tbody tr th:only-of-type {\n",
              "        vertical-align: middle;\n",
              "    }\n",
              "\n",
              "    .dataframe tbody tr th {\n",
              "        vertical-align: top;\n",
              "    }\n",
              "\n",
              "    .dataframe thead th {\n",
              "        text-align: right;\n",
              "    }\n",
              "</style>\n",
              "<table border=\"1\" class=\"dataframe\">\n",
              "  <thead>\n",
              "    <tr style=\"text-align: right;\">\n",
              "      <th></th>\n",
              "      <th>text</th>\n",
              "      <th>stars</th>\n",
              "    </tr>\n",
              "  </thead>\n",
              "  <tbody>\n",
              "    <tr>\n",
              "      <th>3463</th>\n",
              "      <td>i love this place elizabeth is the most profes...</td>\n",
              "      <td>5</td>\n",
              "    </tr>\n",
              "    <tr>\n",
              "      <th>4786</th>\n",
              "      <td>we stayed at the mgm grand to take a tour of t...</td>\n",
              "      <td>5</td>\n",
              "    </tr>\n",
              "    <tr>\n",
              "      <th>7818</th>\n",
              "      <td>pros\\ngated community\\nclean area\\ngiant full ...</td>\n",
              "      <td>3</td>\n",
              "    </tr>\n",
              "    <tr>\n",
              "      <th>9387</th>\n",
              "      <td>extrêmement déçu par la qualité du service si ...</td>\n",
              "      <td>1</td>\n",
              "    </tr>\n",
              "    <tr>\n",
              "      <th>6824</th>\n",
              "      <td>actually \\n\\ni popped in here last night for a...</td>\n",
              "      <td>3</td>\n",
              "    </tr>\n",
              "  </tbody>\n",
              "</table>\n",
              "</div>"
            ],
            "text/plain": [
              "                                                   text  stars\n",
              "3463  i love this place elizabeth is the most profes...      5\n",
              "4786  we stayed at the mgm grand to take a tour of t...      5\n",
              "7818  pros\\ngated community\\nclean area\\ngiant full ...      3\n",
              "9387  extrêmement déçu par la qualité du service si ...      1\n",
              "6824  actually \\n\\ni popped in here last night for a...      3"
            ]
          },
          "metadata": {
            "tags": []
          },
          "execution_count": 10
        }
      ]
    },
    {
      "cell_type": "code",
      "metadata": {
        "id": "ocwC3PkSPR8k",
        "colab_type": "code",
        "outputId": "dc11f0d8-6622-4e8a-b9be-8603cc8183f4",
        "colab": {
          "base_uri": "https://localhost:8080/",
          "height": 202
        }
      },
      "source": [
        "train = pd.get_dummies(train, columns = ['stars'])\n",
        "train.head()"
      ],
      "execution_count": 11,
      "outputs": [
        {
          "output_type": "execute_result",
          "data": {
            "text/html": [
              "<div>\n",
              "<style scoped>\n",
              "    .dataframe tbody tr th:only-of-type {\n",
              "        vertical-align: middle;\n",
              "    }\n",
              "\n",
              "    .dataframe tbody tr th {\n",
              "        vertical-align: top;\n",
              "    }\n",
              "\n",
              "    .dataframe thead th {\n",
              "        text-align: right;\n",
              "    }\n",
              "</style>\n",
              "<table border=\"1\" class=\"dataframe\">\n",
              "  <thead>\n",
              "    <tr style=\"text-align: right;\">\n",
              "      <th></th>\n",
              "      <th>text</th>\n",
              "      <th>stars_1</th>\n",
              "      <th>stars_2</th>\n",
              "      <th>stars_3</th>\n",
              "      <th>stars_4</th>\n",
              "      <th>stars_5</th>\n",
              "    </tr>\n",
              "  </thead>\n",
              "  <tbody>\n",
              "    <tr>\n",
              "      <th>3463</th>\n",
              "      <td>i love this place elizabeth is the most profes...</td>\n",
              "      <td>0</td>\n",
              "      <td>0</td>\n",
              "      <td>0</td>\n",
              "      <td>0</td>\n",
              "      <td>1</td>\n",
              "    </tr>\n",
              "    <tr>\n",
              "      <th>4786</th>\n",
              "      <td>we stayed at the mgm grand to take a tour of t...</td>\n",
              "      <td>0</td>\n",
              "      <td>0</td>\n",
              "      <td>0</td>\n",
              "      <td>0</td>\n",
              "      <td>1</td>\n",
              "    </tr>\n",
              "    <tr>\n",
              "      <th>7818</th>\n",
              "      <td>pros\\ngated community\\nclean area\\ngiant full ...</td>\n",
              "      <td>0</td>\n",
              "      <td>0</td>\n",
              "      <td>1</td>\n",
              "      <td>0</td>\n",
              "      <td>0</td>\n",
              "    </tr>\n",
              "    <tr>\n",
              "      <th>9387</th>\n",
              "      <td>extrêmement déçu par la qualité du service si ...</td>\n",
              "      <td>1</td>\n",
              "      <td>0</td>\n",
              "      <td>0</td>\n",
              "      <td>0</td>\n",
              "      <td>0</td>\n",
              "    </tr>\n",
              "    <tr>\n",
              "      <th>6824</th>\n",
              "      <td>actually \\n\\ni popped in here last night for a...</td>\n",
              "      <td>0</td>\n",
              "      <td>0</td>\n",
              "      <td>1</td>\n",
              "      <td>0</td>\n",
              "      <td>0</td>\n",
              "    </tr>\n",
              "  </tbody>\n",
              "</table>\n",
              "</div>"
            ],
            "text/plain": [
              "                                                   text  ...  stars_5\n",
              "3463  i love this place elizabeth is the most profes...  ...        1\n",
              "4786  we stayed at the mgm grand to take a tour of t...  ...        1\n",
              "7818  pros\\ngated community\\nclean area\\ngiant full ...  ...        0\n",
              "9387  extrêmement déçu par la qualité du service si ...  ...        0\n",
              "6824  actually \\n\\ni popped in here last night for a...  ...        0\n",
              "\n",
              "[5 rows x 6 columns]"
            ]
          },
          "metadata": {
            "tags": []
          },
          "execution_count": 11
        }
      ]
    },
    {
      "cell_type": "code",
      "metadata": {
        "id": "cxcMzKBpPZU2",
        "colab_type": "code",
        "outputId": "0b717df8-38e4-48f1-826e-d1e8c4f500b4",
        "colab": {
          "base_uri": "https://localhost:8080/",
          "height": 35
        }
      },
      "source": [
        "validation = pd.get_dummies(validation, columns = ['stars'])\n",
        "train.shape, validation.shape"
      ],
      "execution_count": 12,
      "outputs": [
        {
          "output_type": "execute_result",
          "data": {
            "text/plain": [
              "((8000, 6), (2000, 6))"
            ]
          },
          "metadata": {
            "tags": []
          },
          "execution_count": 12
        }
      ]
    },
    {
      "cell_type": "code",
      "metadata": {
        "id": "NRclZ_H5R0KU",
        "colab_type": "code",
        "outputId": "e78ef1df-1e6b-4b37-ce9f-4c8d575af700",
        "colab": {
          "base_uri": "https://localhost:8080/",
          "height": 202
        }
      },
      "source": [
        "train.head()"
      ],
      "execution_count": 13,
      "outputs": [
        {
          "output_type": "execute_result",
          "data": {
            "text/html": [
              "<div>\n",
              "<style scoped>\n",
              "    .dataframe tbody tr th:only-of-type {\n",
              "        vertical-align: middle;\n",
              "    }\n",
              "\n",
              "    .dataframe tbody tr th {\n",
              "        vertical-align: top;\n",
              "    }\n",
              "\n",
              "    .dataframe thead th {\n",
              "        text-align: right;\n",
              "    }\n",
              "</style>\n",
              "<table border=\"1\" class=\"dataframe\">\n",
              "  <thead>\n",
              "    <tr style=\"text-align: right;\">\n",
              "      <th></th>\n",
              "      <th>text</th>\n",
              "      <th>stars_1</th>\n",
              "      <th>stars_2</th>\n",
              "      <th>stars_3</th>\n",
              "      <th>stars_4</th>\n",
              "      <th>stars_5</th>\n",
              "    </tr>\n",
              "  </thead>\n",
              "  <tbody>\n",
              "    <tr>\n",
              "      <th>3463</th>\n",
              "      <td>i love this place elizabeth is the most profes...</td>\n",
              "      <td>0</td>\n",
              "      <td>0</td>\n",
              "      <td>0</td>\n",
              "      <td>0</td>\n",
              "      <td>1</td>\n",
              "    </tr>\n",
              "    <tr>\n",
              "      <th>4786</th>\n",
              "      <td>we stayed at the mgm grand to take a tour of t...</td>\n",
              "      <td>0</td>\n",
              "      <td>0</td>\n",
              "      <td>0</td>\n",
              "      <td>0</td>\n",
              "      <td>1</td>\n",
              "    </tr>\n",
              "    <tr>\n",
              "      <th>7818</th>\n",
              "      <td>pros\\ngated community\\nclean area\\ngiant full ...</td>\n",
              "      <td>0</td>\n",
              "      <td>0</td>\n",
              "      <td>1</td>\n",
              "      <td>0</td>\n",
              "      <td>0</td>\n",
              "    </tr>\n",
              "    <tr>\n",
              "      <th>9387</th>\n",
              "      <td>extrêmement déçu par la qualité du service si ...</td>\n",
              "      <td>1</td>\n",
              "      <td>0</td>\n",
              "      <td>0</td>\n",
              "      <td>0</td>\n",
              "      <td>0</td>\n",
              "    </tr>\n",
              "    <tr>\n",
              "      <th>6824</th>\n",
              "      <td>actually \\n\\ni popped in here last night for a...</td>\n",
              "      <td>0</td>\n",
              "      <td>0</td>\n",
              "      <td>1</td>\n",
              "      <td>0</td>\n",
              "      <td>0</td>\n",
              "    </tr>\n",
              "  </tbody>\n",
              "</table>\n",
              "</div>"
            ],
            "text/plain": [
              "                                                   text  ...  stars_5\n",
              "3463  i love this place elizabeth is the most profes...  ...        1\n",
              "4786  we stayed at the mgm grand to take a tour of t...  ...        1\n",
              "7818  pros\\ngated community\\nclean area\\ngiant full ...  ...        0\n",
              "9387  extrêmement déçu par la qualité du service si ...  ...        0\n",
              "6824  actually \\n\\ni popped in here last night for a...  ...        0\n",
              "\n",
              "[5 rows x 6 columns]"
            ]
          },
          "metadata": {
            "tags": []
          },
          "execution_count": 13
        }
      ]
    },
    {
      "cell_type": "code",
      "metadata": {
        "id": "z7Ibr29uRYJu",
        "colab_type": "code",
        "outputId": "80c44d1a-50c8-42e0-b6f2-557d193ff390",
        "colab": {
          "base_uri": "https://localhost:8080/",
          "height": 139
        }
      },
      "source": [
        "class_names = ['stars_1', 'stars_2', 'stars_3', 'stars_4', 'stars_5']\n",
        "# Splitting off y variable\n",
        "y = train[class_names].values\n",
        "y"
      ],
      "execution_count": 14,
      "outputs": [
        {
          "output_type": "execute_result",
          "data": {
            "text/plain": [
              "array([[0, 0, 0, 0, 1],\n",
              "       [0, 0, 0, 0, 1],\n",
              "       [0, 0, 1, 0, 0],\n",
              "       ...,\n",
              "       [0, 0, 0, 0, 1],\n",
              "       [0, 0, 0, 0, 1],\n",
              "       [1, 0, 0, 0, 0]], dtype=uint8)"
            ]
          },
          "metadata": {
            "tags": []
          },
          "execution_count": 14
        }
      ]
    },
    {
      "cell_type": "code",
      "metadata": {
        "id": "GKJ2WMQie0ic",
        "colab_type": "code",
        "colab": {}
      },
      "source": [
        "# max number of unique words \n",
        "max_features = 20000\n",
        "# max number of words from review to use\n",
        "maxlen = 200\n",
        "# batch size\n",
        "batchsize = 32"
      ],
      "execution_count": 0,
      "outputs": []
    },
    {
      "cell_type": "code",
      "metadata": {
        "id": "JBZyvneMe6YF",
        "colab_type": "code",
        "colab": {}
      },
      "source": [
        "tokenizer = Tokenizer(num_words=max_features)\n",
        "tokenizer.fit_on_texts(list(train['text'].values))"
      ],
      "execution_count": 0,
      "outputs": []
    },
    {
      "cell_type": "code",
      "metadata": {
        "id": "UBI_i1Lygjdv",
        "colab_type": "code",
        "outputId": "50711081-5b87-407a-d9bf-39a4f38171fc",
        "colab": {
          "base_uri": "https://localhost:8080/",
          "height": 35
        }
      },
      "source": [
        "X_train = tokenizer.texts_to_sequences(train['text'].values)\n",
        "X_validation = tokenizer.texts_to_sequences(validation['text'].values)\n",
        "x_train = pad_sequences(X_train, maxlen = maxlen)\n",
        "x_validation = pad_sequences(X_validation, maxlen = maxlen)\n",
        "x_train.shape"
      ],
      "execution_count": 17,
      "outputs": [
        {
          "output_type": "execute_result",
          "data": {
            "text/plain": [
              "(8000, 200)"
            ]
          },
          "metadata": {
            "tags": []
          },
          "execution_count": 17
        }
      ]
    },
    {
      "cell_type": "code",
      "metadata": {
        "id": "SPi3PpVAl_Z3",
        "colab_type": "code",
        "colab": {
          "base_uri": "https://localhost:8080/",
          "height": 35
        },
        "outputId": "cc19ddee-d0c3-4f2c-d387-cc11c3b15b46"
      },
      "source": [
        "model = Sequential()\n",
        "model.add(Embedding(max_features, 200, input_length=maxlen))\n",
        "model.add(Bidirectional(LSTM(50)))\n",
        "model.add(Dense(5, activation='softmax'))\n",
        "model.compile(optimizer='adam', loss='categorical_crossentropy', metrics=['accuracy'])"
      ],
      "execution_count": 18,
      "outputs": [
        {
          "output_type": "execute_result",
          "data": {
            "text/plain": [
              "<keras.engine.sequential.Sequential at 0x7fd087e722e8>"
            ]
          },
          "metadata": {
            "tags": []
          },
          "execution_count": 18
        }
      ]
    },
    {
      "cell_type": "code",
      "metadata": {
        "id": "xGHG5JR5mvB7",
        "colab_type": "code",
        "outputId": "ce31e78b-5e5c-4d40-a8c6-0e35b8703f9d",
        "colab": {
          "base_uri": "https://localhost:8080/",
          "height": 783
        }
      },
      "source": [
        "model.fit(x_train, y, batch_size = batchsize, epochs = 20)"
      ],
      "execution_count": 24,
      "outputs": [
        {
          "output_type": "stream",
          "text": [
            "/usr/local/lib/python3.6/dist-packages/tensorflow/python/framework/indexed_slices.py:434: UserWarning: Converting sparse IndexedSlices to a dense Tensor of unknown shape. This may consume a large amount of memory.\n",
            "  \"Converting sparse IndexedSlices to a dense Tensor of unknown shape. \"\n"
          ],
          "name": "stderr"
        },
        {
          "output_type": "stream",
          "text": [
            "Epoch 1/20\n",
            "8000/8000 [==============================] - 80s 10ms/step - loss: 1.0885 - accuracy: 0.5749\n",
            "Epoch 2/20\n",
            "8000/8000 [==============================] - 80s 10ms/step - loss: 0.7197 - accuracy: 0.7151\n",
            "Epoch 3/20\n",
            "8000/8000 [==============================] - 79s 10ms/step - loss: 0.5651 - accuracy: 0.7816\n",
            "Epoch 4/20\n",
            "8000/8000 [==============================] - 85s 11ms/step - loss: 0.3737 - accuracy: 0.8639\n",
            "Epoch 5/20\n",
            "8000/8000 [==============================] - 80s 10ms/step - loss: 0.2572 - accuracy: 0.9155\n",
            "Epoch 6/20\n",
            "8000/8000 [==============================] - 79s 10ms/step - loss: 0.1552 - accuracy: 0.9511\n",
            "Epoch 7/20\n",
            "8000/8000 [==============================] - 79s 10ms/step - loss: 0.1382 - accuracy: 0.9574\n",
            "Epoch 8/20\n",
            "8000/8000 [==============================] - 79s 10ms/step - loss: 0.0839 - accuracy: 0.9758\n",
            "Epoch 9/20\n",
            "8000/8000 [==============================] - 79s 10ms/step - loss: 0.0535 - accuracy: 0.9851\n",
            "Epoch 10/20\n",
            "8000/8000 [==============================] - 79s 10ms/step - loss: 0.0483 - accuracy: 0.9870\n",
            "Epoch 11/20\n",
            "8000/8000 [==============================] - 79s 10ms/step - loss: 0.0320 - accuracy: 0.9921\n",
            "Epoch 12/20\n",
            "8000/8000 [==============================] - 83s 10ms/step - loss: 0.0329 - accuracy: 0.9914\n",
            "Epoch 13/20\n",
            "8000/8000 [==============================] - 80s 10ms/step - loss: 0.0245 - accuracy: 0.9946\n",
            "Epoch 14/20\n",
            "8000/8000 [==============================] - 80s 10ms/step - loss: 0.0445 - accuracy: 0.9871\n",
            "Epoch 15/20\n",
            "8000/8000 [==============================] - 80s 10ms/step - loss: 0.0337 - accuracy: 0.9901\n",
            "Epoch 16/20\n",
            "8000/8000 [==============================] - 79s 10ms/step - loss: 0.0199 - accuracy: 0.9937\n",
            "Epoch 17/20\n",
            "8000/8000 [==============================] - 80s 10ms/step - loss: 0.0225 - accuracy: 0.9936\n",
            "Epoch 18/20\n",
            "8000/8000 [==============================] - 79s 10ms/step - loss: 0.0106 - accuracy: 0.9979\n",
            "Epoch 19/20\n",
            "8000/8000 [==============================] - 80s 10ms/step - loss: 0.0101 - accuracy: 0.9974\n",
            "Epoch 20/20\n",
            "8000/8000 [==============================] - 83s 10ms/step - loss: 0.0119 - accuracy: 0.9969\n"
          ],
          "name": "stdout"
        },
        {
          "output_type": "execute_result",
          "data": {
            "text/plain": [
              "<keras.callbacks.callbacks.History at 0x7f330db69eb8>"
            ]
          },
          "metadata": {
            "tags": []
          },
          "execution_count": 24
        }
      ]
    },
    {
      "cell_type": "code",
      "metadata": {
        "id": "D0Blqc00h6Zb",
        "colab_type": "code",
        "outputId": "4be533fb-ab48-42a0-fedf-14730521c0d5",
        "colab": {
          "base_uri": "https://localhost:8080/",
          "height": 35
        }
      },
      "source": [
        "y_validation = model.predict([x_validation], batch_size=batchsize, verbose = 1)"
      ],
      "execution_count": 25,
      "outputs": [
        {
          "output_type": "stream",
          "text": [
            "2000/2000 [==============================] - 4s 2ms/step\n"
          ],
          "name": "stdout"
        }
      ]
    },
    {
      "cell_type": "code",
      "metadata": {
        "id": "96fUp5uNfN4C",
        "colab_type": "code",
        "outputId": "fb698af1-6d62-4371-e0d1-45f81f7541d8",
        "colab": {
          "base_uri": "https://localhost:8080/",
          "height": 52
        }
      },
      "source": [
        "model.evaluate(x_validation, validation[class_names].values, verbose = 1, batch_size=batchsize)"
      ],
      "execution_count": 26,
      "outputs": [
        {
          "output_type": "stream",
          "text": [
            "2000/2000 [==============================] - 4s 2ms/step\n"
          ],
          "name": "stdout"
        },
        {
          "output_type": "execute_result",
          "data": {
            "text/plain": [
              "[2.3191450176239012, 0.6140000224113464]"
            ]
          },
          "metadata": {
            "tags": []
          },
          "execution_count": 26
        }
      ]
    },
    {
      "cell_type": "code",
      "metadata": {
        "id": "f6vrURoVfm-g",
        "colab_type": "code",
        "colab": {}
      },
      "source": [
        "# v = metrics.classification_report(np.argmax(test[class_names].values, axis = 1),np.argmax(y_test, axis = 1))\n",
        "# print(v)"
      ],
      "execution_count": 0,
      "outputs": []
    },
    {
      "cell_type": "code",
      "metadata": {
        "id": "zYjnAhohp3lL",
        "colab_type": "code",
        "colab": {}
      },
      "source": [
        ""
      ],
      "execution_count": 0,
      "outputs": []
    }
  ]
}