{
  "nbformat": 4,
  "nbformat_minor": 0,
  "metadata": {
    "kernelspec": {
      "display_name": "Python 3",
      "language": "python",
      "name": "python3"
    },
    "language_info": {
      "codemirror_mode": {
        "name": "ipython",
        "version": 3
      },
      "file_extension": ".py",
      "mimetype": "text/x-python",
      "name": "python",
      "nbconvert_exporter": "python",
      "pygments_lexer": "ipython3",
      "version": "3.7.4"
    },
    "colab": {
      "name": "robert+LSTM.ipynb",
      "provenance": [],
      "collapsed_sections": []
    },
    "accelerator": "GPU",
    "widgets": {
      "application/vnd.jupyter.widget-state+json": {
        "5863fcc3f83b41a885b1db76cf06cd0a": {
          "model_module": "@jupyter-widgets/controls",
          "model_name": "HBoxModel",
          "state": {
            "_view_name": "HBoxView",
            "_dom_classes": [],
            "_model_name": "HBoxModel",
            "_view_module": "@jupyter-widgets/controls",
            "_model_module_version": "1.5.0",
            "_view_count": null,
            "_view_module_version": "1.5.0",
            "box_style": "",
            "layout": "IPY_MODEL_1255bdf6b95b47a0b7d90fb22d763d56",
            "_model_module": "@jupyter-widgets/controls",
            "children": [
              "IPY_MODEL_5b1ee62218734c4fa44ee63578dfb7ee",
              "IPY_MODEL_903dd2f893dc4e119952df757ae30179"
            ]
          }
        },
        "1255bdf6b95b47a0b7d90fb22d763d56": {
          "model_module": "@jupyter-widgets/base",
          "model_name": "LayoutModel",
          "state": {
            "_view_name": "LayoutView",
            "grid_template_rows": null,
            "right": null,
            "justify_content": null,
            "_view_module": "@jupyter-widgets/base",
            "overflow": null,
            "_model_module_version": "1.2.0",
            "_view_count": null,
            "flex_flow": null,
            "width": null,
            "min_width": null,
            "border": null,
            "align_items": null,
            "bottom": null,
            "_model_module": "@jupyter-widgets/base",
            "top": null,
            "grid_column": null,
            "overflow_y": null,
            "overflow_x": null,
            "grid_auto_flow": null,
            "grid_area": null,
            "grid_template_columns": null,
            "flex": null,
            "_model_name": "LayoutModel",
            "justify_items": null,
            "grid_row": null,
            "max_height": null,
            "align_content": null,
            "visibility": null,
            "align_self": null,
            "height": null,
            "min_height": null,
            "padding": null,
            "grid_auto_rows": null,
            "grid_gap": null,
            "max_width": null,
            "order": null,
            "_view_module_version": "1.2.0",
            "grid_template_areas": null,
            "object_position": null,
            "object_fit": null,
            "grid_auto_columns": null,
            "margin": null,
            "display": null,
            "left": null
          }
        },
        "5b1ee62218734c4fa44ee63578dfb7ee": {
          "model_module": "@jupyter-widgets/controls",
          "model_name": "FloatProgressModel",
          "state": {
            "_view_name": "ProgressView",
            "style": "IPY_MODEL_6e6cb0db4a924fa3861da2b6facfe3b0",
            "_dom_classes": [],
            "description": "Downloading: 100%",
            "_model_name": "FloatProgressModel",
            "bar_style": "success",
            "max": 481,
            "_view_module": "@jupyter-widgets/controls",
            "_model_module_version": "1.5.0",
            "value": 481,
            "_view_count": null,
            "_view_module_version": "1.5.0",
            "orientation": "horizontal",
            "min": 0,
            "description_tooltip": null,
            "_model_module": "@jupyter-widgets/controls",
            "layout": "IPY_MODEL_e08e37cd97244f8d8f3edf7b28290252"
          }
        },
        "903dd2f893dc4e119952df757ae30179": {
          "model_module": "@jupyter-widgets/controls",
          "model_name": "HTMLModel",
          "state": {
            "_view_name": "HTMLView",
            "style": "IPY_MODEL_40bfe41ffdf745b7bf91529fb0283cda",
            "_dom_classes": [],
            "description": "",
            "_model_name": "HTMLModel",
            "placeholder": "​",
            "_view_module": "@jupyter-widgets/controls",
            "_model_module_version": "1.5.0",
            "value": " 481/481 [00:00&lt;00:00, 1.39kB/s]",
            "_view_count": null,
            "_view_module_version": "1.5.0",
            "description_tooltip": null,
            "_model_module": "@jupyter-widgets/controls",
            "layout": "IPY_MODEL_b12a0122c0ab4eb7b9599c660e52c85b"
          }
        },
        "6e6cb0db4a924fa3861da2b6facfe3b0": {
          "model_module": "@jupyter-widgets/controls",
          "model_name": "ProgressStyleModel",
          "state": {
            "_view_name": "StyleView",
            "_model_name": "ProgressStyleModel",
            "description_width": "initial",
            "_view_module": "@jupyter-widgets/base",
            "_model_module_version": "1.5.0",
            "_view_count": null,
            "_view_module_version": "1.2.0",
            "bar_color": null,
            "_model_module": "@jupyter-widgets/controls"
          }
        },
        "e08e37cd97244f8d8f3edf7b28290252": {
          "model_module": "@jupyter-widgets/base",
          "model_name": "LayoutModel",
          "state": {
            "_view_name": "LayoutView",
            "grid_template_rows": null,
            "right": null,
            "justify_content": null,
            "_view_module": "@jupyter-widgets/base",
            "overflow": null,
            "_model_module_version": "1.2.0",
            "_view_count": null,
            "flex_flow": null,
            "width": null,
            "min_width": null,
            "border": null,
            "align_items": null,
            "bottom": null,
            "_model_module": "@jupyter-widgets/base",
            "top": null,
            "grid_column": null,
            "overflow_y": null,
            "overflow_x": null,
            "grid_auto_flow": null,
            "grid_area": null,
            "grid_template_columns": null,
            "flex": null,
            "_model_name": "LayoutModel",
            "justify_items": null,
            "grid_row": null,
            "max_height": null,
            "align_content": null,
            "visibility": null,
            "align_self": null,
            "height": null,
            "min_height": null,
            "padding": null,
            "grid_auto_rows": null,
            "grid_gap": null,
            "max_width": null,
            "order": null,
            "_view_module_version": "1.2.0",
            "grid_template_areas": null,
            "object_position": null,
            "object_fit": null,
            "grid_auto_columns": null,
            "margin": null,
            "display": null,
            "left": null
          }
        },
        "40bfe41ffdf745b7bf91529fb0283cda": {
          "model_module": "@jupyter-widgets/controls",
          "model_name": "DescriptionStyleModel",
          "state": {
            "_view_name": "StyleView",
            "_model_name": "DescriptionStyleModel",
            "description_width": "",
            "_view_module": "@jupyter-widgets/base",
            "_model_module_version": "1.5.0",
            "_view_count": null,
            "_view_module_version": "1.2.0",
            "_model_module": "@jupyter-widgets/controls"
          }
        },
        "b12a0122c0ab4eb7b9599c660e52c85b": {
          "model_module": "@jupyter-widgets/base",
          "model_name": "LayoutModel",
          "state": {
            "_view_name": "LayoutView",
            "grid_template_rows": null,
            "right": null,
            "justify_content": null,
            "_view_module": "@jupyter-widgets/base",
            "overflow": null,
            "_model_module_version": "1.2.0",
            "_view_count": null,
            "flex_flow": null,
            "width": null,
            "min_width": null,
            "border": null,
            "align_items": null,
            "bottom": null,
            "_model_module": "@jupyter-widgets/base",
            "top": null,
            "grid_column": null,
            "overflow_y": null,
            "overflow_x": null,
            "grid_auto_flow": null,
            "grid_area": null,
            "grid_template_columns": null,
            "flex": null,
            "_model_name": "LayoutModel",
            "justify_items": null,
            "grid_row": null,
            "max_height": null,
            "align_content": null,
            "visibility": null,
            "align_self": null,
            "height": null,
            "min_height": null,
            "padding": null,
            "grid_auto_rows": null,
            "grid_gap": null,
            "max_width": null,
            "order": null,
            "_view_module_version": "1.2.0",
            "grid_template_areas": null,
            "object_position": null,
            "object_fit": null,
            "grid_auto_columns": null,
            "margin": null,
            "display": null,
            "left": null
          }
        },
        "6e767d4ddf064fa9a48515cc1562023b": {
          "model_module": "@jupyter-widgets/controls",
          "model_name": "HBoxModel",
          "state": {
            "_view_name": "HBoxView",
            "_dom_classes": [],
            "_model_name": "HBoxModel",
            "_view_module": "@jupyter-widgets/controls",
            "_model_module_version": "1.5.0",
            "_view_count": null,
            "_view_module_version": "1.5.0",
            "box_style": "",
            "layout": "IPY_MODEL_8cfaa326821a4583b65e7d06ec71c843",
            "_model_module": "@jupyter-widgets/controls",
            "children": [
              "IPY_MODEL_6531c162c875492d8c446a36107a5f40",
              "IPY_MODEL_064cc55f80fc4ab6be22270970a5a81e"
            ]
          }
        },
        "8cfaa326821a4583b65e7d06ec71c843": {
          "model_module": "@jupyter-widgets/base",
          "model_name": "LayoutModel",
          "state": {
            "_view_name": "LayoutView",
            "grid_template_rows": null,
            "right": null,
            "justify_content": null,
            "_view_module": "@jupyter-widgets/base",
            "overflow": null,
            "_model_module_version": "1.2.0",
            "_view_count": null,
            "flex_flow": null,
            "width": null,
            "min_width": null,
            "border": null,
            "align_items": null,
            "bottom": null,
            "_model_module": "@jupyter-widgets/base",
            "top": null,
            "grid_column": null,
            "overflow_y": null,
            "overflow_x": null,
            "grid_auto_flow": null,
            "grid_area": null,
            "grid_template_columns": null,
            "flex": null,
            "_model_name": "LayoutModel",
            "justify_items": null,
            "grid_row": null,
            "max_height": null,
            "align_content": null,
            "visibility": null,
            "align_self": null,
            "height": null,
            "min_height": null,
            "padding": null,
            "grid_auto_rows": null,
            "grid_gap": null,
            "max_width": null,
            "order": null,
            "_view_module_version": "1.2.0",
            "grid_template_areas": null,
            "object_position": null,
            "object_fit": null,
            "grid_auto_columns": null,
            "margin": null,
            "display": null,
            "left": null
          }
        },
        "6531c162c875492d8c446a36107a5f40": {
          "model_module": "@jupyter-widgets/controls",
          "model_name": "FloatProgressModel",
          "state": {
            "_view_name": "ProgressView",
            "style": "IPY_MODEL_2590cc3f30c54c3ba252da0ac07cb87e",
            "_dom_classes": [],
            "description": "Downloading: 100%",
            "_model_name": "FloatProgressModel",
            "bar_style": "success",
            "max": 501200538,
            "_view_module": "@jupyter-widgets/controls",
            "_model_module_version": "1.5.0",
            "value": 501200538,
            "_view_count": null,
            "_view_module_version": "1.5.0",
            "orientation": "horizontal",
            "min": 0,
            "description_tooltip": null,
            "_model_module": "@jupyter-widgets/controls",
            "layout": "IPY_MODEL_f09f253c37014f64ac0df610e5707960"
          }
        },
        "064cc55f80fc4ab6be22270970a5a81e": {
          "model_module": "@jupyter-widgets/controls",
          "model_name": "HTMLModel",
          "state": {
            "_view_name": "HTMLView",
            "style": "IPY_MODEL_535e518be3da454ca56e3215c7042bbb",
            "_dom_classes": [],
            "description": "",
            "_model_name": "HTMLModel",
            "placeholder": "​",
            "_view_module": "@jupyter-widgets/controls",
            "_model_module_version": "1.5.0",
            "value": " 501M/501M [00:24&lt;00:00, 20.2MB/s]",
            "_view_count": null,
            "_view_module_version": "1.5.0",
            "description_tooltip": null,
            "_model_module": "@jupyter-widgets/controls",
            "layout": "IPY_MODEL_e8491934663d4359ae0dbda0a1a0981f"
          }
        },
        "2590cc3f30c54c3ba252da0ac07cb87e": {
          "model_module": "@jupyter-widgets/controls",
          "model_name": "ProgressStyleModel",
          "state": {
            "_view_name": "StyleView",
            "_model_name": "ProgressStyleModel",
            "description_width": "initial",
            "_view_module": "@jupyter-widgets/base",
            "_model_module_version": "1.5.0",
            "_view_count": null,
            "_view_module_version": "1.2.0",
            "bar_color": null,
            "_model_module": "@jupyter-widgets/controls"
          }
        },
        "f09f253c37014f64ac0df610e5707960": {
          "model_module": "@jupyter-widgets/base",
          "model_name": "LayoutModel",
          "state": {
            "_view_name": "LayoutView",
            "grid_template_rows": null,
            "right": null,
            "justify_content": null,
            "_view_module": "@jupyter-widgets/base",
            "overflow": null,
            "_model_module_version": "1.2.0",
            "_view_count": null,
            "flex_flow": null,
            "width": null,
            "min_width": null,
            "border": null,
            "align_items": null,
            "bottom": null,
            "_model_module": "@jupyter-widgets/base",
            "top": null,
            "grid_column": null,
            "overflow_y": null,
            "overflow_x": null,
            "grid_auto_flow": null,
            "grid_area": null,
            "grid_template_columns": null,
            "flex": null,
            "_model_name": "LayoutModel",
            "justify_items": null,
            "grid_row": null,
            "max_height": null,
            "align_content": null,
            "visibility": null,
            "align_self": null,
            "height": null,
            "min_height": null,
            "padding": null,
            "grid_auto_rows": null,
            "grid_gap": null,
            "max_width": null,
            "order": null,
            "_view_module_version": "1.2.0",
            "grid_template_areas": null,
            "object_position": null,
            "object_fit": null,
            "grid_auto_columns": null,
            "margin": null,
            "display": null,
            "left": null
          }
        },
        "535e518be3da454ca56e3215c7042bbb": {
          "model_module": "@jupyter-widgets/controls",
          "model_name": "DescriptionStyleModel",
          "state": {
            "_view_name": "StyleView",
            "_model_name": "DescriptionStyleModel",
            "description_width": "",
            "_view_module": "@jupyter-widgets/base",
            "_model_module_version": "1.5.0",
            "_view_count": null,
            "_view_module_version": "1.2.0",
            "_model_module": "@jupyter-widgets/controls"
          }
        },
        "e8491934663d4359ae0dbda0a1a0981f": {
          "model_module": "@jupyter-widgets/base",
          "model_name": "LayoutModel",
          "state": {
            "_view_name": "LayoutView",
            "grid_template_rows": null,
            "right": null,
            "justify_content": null,
            "_view_module": "@jupyter-widgets/base",
            "overflow": null,
            "_model_module_version": "1.2.0",
            "_view_count": null,
            "flex_flow": null,
            "width": null,
            "min_width": null,
            "border": null,
            "align_items": null,
            "bottom": null,
            "_model_module": "@jupyter-widgets/base",
            "top": null,
            "grid_column": null,
            "overflow_y": null,
            "overflow_x": null,
            "grid_auto_flow": null,
            "grid_area": null,
            "grid_template_columns": null,
            "flex": null,
            "_model_name": "LayoutModel",
            "justify_items": null,
            "grid_row": null,
            "max_height": null,
            "align_content": null,
            "visibility": null,
            "align_self": null,
            "height": null,
            "min_height": null,
            "padding": null,
            "grid_auto_rows": null,
            "grid_gap": null,
            "max_width": null,
            "order": null,
            "_view_module_version": "1.2.0",
            "grid_template_areas": null,
            "object_position": null,
            "object_fit": null,
            "grid_auto_columns": null,
            "margin": null,
            "display": null,
            "left": null
          }
        },
        "bdba5c8ed2f143faae45751c11eb125b": {
          "model_module": "@jupyter-widgets/controls",
          "model_name": "HBoxModel",
          "state": {
            "_view_name": "HBoxView",
            "_dom_classes": [],
            "_model_name": "HBoxModel",
            "_view_module": "@jupyter-widgets/controls",
            "_model_module_version": "1.5.0",
            "_view_count": null,
            "_view_module_version": "1.5.0",
            "box_style": "",
            "layout": "IPY_MODEL_9d0d89c50d0e4f39bf280c1da788ff39",
            "_model_module": "@jupyter-widgets/controls",
            "children": [
              "IPY_MODEL_e856e792822243828d3286cc912236b0",
              "IPY_MODEL_4d24aa8ea707401fa100c54cbdcfde83"
            ]
          }
        },
        "9d0d89c50d0e4f39bf280c1da788ff39": {
          "model_module": "@jupyter-widgets/base",
          "model_name": "LayoutModel",
          "state": {
            "_view_name": "LayoutView",
            "grid_template_rows": null,
            "right": null,
            "justify_content": null,
            "_view_module": "@jupyter-widgets/base",
            "overflow": null,
            "_model_module_version": "1.2.0",
            "_view_count": null,
            "flex_flow": null,
            "width": null,
            "min_width": null,
            "border": null,
            "align_items": null,
            "bottom": null,
            "_model_module": "@jupyter-widgets/base",
            "top": null,
            "grid_column": null,
            "overflow_y": null,
            "overflow_x": null,
            "grid_auto_flow": null,
            "grid_area": null,
            "grid_template_columns": null,
            "flex": null,
            "_model_name": "LayoutModel",
            "justify_items": null,
            "grid_row": null,
            "max_height": null,
            "align_content": null,
            "visibility": null,
            "align_self": null,
            "height": null,
            "min_height": null,
            "padding": null,
            "grid_auto_rows": null,
            "grid_gap": null,
            "max_width": null,
            "order": null,
            "_view_module_version": "1.2.0",
            "grid_template_areas": null,
            "object_position": null,
            "object_fit": null,
            "grid_auto_columns": null,
            "margin": null,
            "display": null,
            "left": null
          }
        },
        "e856e792822243828d3286cc912236b0": {
          "model_module": "@jupyter-widgets/controls",
          "model_name": "FloatProgressModel",
          "state": {
            "_view_name": "ProgressView",
            "style": "IPY_MODEL_405c1fc5dea8408f8f31754339eeaf2a",
            "_dom_classes": [],
            "description": "Downloading: 100%",
            "_model_name": "FloatProgressModel",
            "bar_style": "success",
            "max": 898823,
            "_view_module": "@jupyter-widgets/controls",
            "_model_module_version": "1.5.0",
            "value": 898823,
            "_view_count": null,
            "_view_module_version": "1.5.0",
            "orientation": "horizontal",
            "min": 0,
            "description_tooltip": null,
            "_model_module": "@jupyter-widgets/controls",
            "layout": "IPY_MODEL_f2fe9809cadf41408ffbfd42e1b19fdf"
          }
        },
        "4d24aa8ea707401fa100c54cbdcfde83": {
          "model_module": "@jupyter-widgets/controls",
          "model_name": "HTMLModel",
          "state": {
            "_view_name": "HTMLView",
            "style": "IPY_MODEL_82fa5234e6274f7d804388fd84ff246e",
            "_dom_classes": [],
            "description": "",
            "_model_name": "HTMLModel",
            "placeholder": "​",
            "_view_module": "@jupyter-widgets/controls",
            "_model_module_version": "1.5.0",
            "value": " 899k/899k [00:01&lt;00:00, 726kB/s]",
            "_view_count": null,
            "_view_module_version": "1.5.0",
            "description_tooltip": null,
            "_model_module": "@jupyter-widgets/controls",
            "layout": "IPY_MODEL_522d3fe6bf664f85a797a632fa0b2d9d"
          }
        },
        "405c1fc5dea8408f8f31754339eeaf2a": {
          "model_module": "@jupyter-widgets/controls",
          "model_name": "ProgressStyleModel",
          "state": {
            "_view_name": "StyleView",
            "_model_name": "ProgressStyleModel",
            "description_width": "initial",
            "_view_module": "@jupyter-widgets/base",
            "_model_module_version": "1.5.0",
            "_view_count": null,
            "_view_module_version": "1.2.0",
            "bar_color": null,
            "_model_module": "@jupyter-widgets/controls"
          }
        },
        "f2fe9809cadf41408ffbfd42e1b19fdf": {
          "model_module": "@jupyter-widgets/base",
          "model_name": "LayoutModel",
          "state": {
            "_view_name": "LayoutView",
            "grid_template_rows": null,
            "right": null,
            "justify_content": null,
            "_view_module": "@jupyter-widgets/base",
            "overflow": null,
            "_model_module_version": "1.2.0",
            "_view_count": null,
            "flex_flow": null,
            "width": null,
            "min_width": null,
            "border": null,
            "align_items": null,
            "bottom": null,
            "_model_module": "@jupyter-widgets/base",
            "top": null,
            "grid_column": null,
            "overflow_y": null,
            "overflow_x": null,
            "grid_auto_flow": null,
            "grid_area": null,
            "grid_template_columns": null,
            "flex": null,
            "_model_name": "LayoutModel",
            "justify_items": null,
            "grid_row": null,
            "max_height": null,
            "align_content": null,
            "visibility": null,
            "align_self": null,
            "height": null,
            "min_height": null,
            "padding": null,
            "grid_auto_rows": null,
            "grid_gap": null,
            "max_width": null,
            "order": null,
            "_view_module_version": "1.2.0",
            "grid_template_areas": null,
            "object_position": null,
            "object_fit": null,
            "grid_auto_columns": null,
            "margin": null,
            "display": null,
            "left": null
          }
        },
        "82fa5234e6274f7d804388fd84ff246e": {
          "model_module": "@jupyter-widgets/controls",
          "model_name": "DescriptionStyleModel",
          "state": {
            "_view_name": "StyleView",
            "_model_name": "DescriptionStyleModel",
            "description_width": "",
            "_view_module": "@jupyter-widgets/base",
            "_model_module_version": "1.5.0",
            "_view_count": null,
            "_view_module_version": "1.2.0",
            "_model_module": "@jupyter-widgets/controls"
          }
        },
        "522d3fe6bf664f85a797a632fa0b2d9d": {
          "model_module": "@jupyter-widgets/base",
          "model_name": "LayoutModel",
          "state": {
            "_view_name": "LayoutView",
            "grid_template_rows": null,
            "right": null,
            "justify_content": null,
            "_view_module": "@jupyter-widgets/base",
            "overflow": null,
            "_model_module_version": "1.2.0",
            "_view_count": null,
            "flex_flow": null,
            "width": null,
            "min_width": null,
            "border": null,
            "align_items": null,
            "bottom": null,
            "_model_module": "@jupyter-widgets/base",
            "top": null,
            "grid_column": null,
            "overflow_y": null,
            "overflow_x": null,
            "grid_auto_flow": null,
            "grid_area": null,
            "grid_template_columns": null,
            "flex": null,
            "_model_name": "LayoutModel",
            "justify_items": null,
            "grid_row": null,
            "max_height": null,
            "align_content": null,
            "visibility": null,
            "align_self": null,
            "height": null,
            "min_height": null,
            "padding": null,
            "grid_auto_rows": null,
            "grid_gap": null,
            "max_width": null,
            "order": null,
            "_view_module_version": "1.2.0",
            "grid_template_areas": null,
            "object_position": null,
            "object_fit": null,
            "grid_auto_columns": null,
            "margin": null,
            "display": null,
            "left": null
          }
        },
        "0ee0ea513d254fb1a4aed409187a07b0": {
          "model_module": "@jupyter-widgets/controls",
          "model_name": "HBoxModel",
          "state": {
            "_view_name": "HBoxView",
            "_dom_classes": [],
            "_model_name": "HBoxModel",
            "_view_module": "@jupyter-widgets/controls",
            "_model_module_version": "1.5.0",
            "_view_count": null,
            "_view_module_version": "1.5.0",
            "box_style": "",
            "layout": "IPY_MODEL_1e9c227a379b46af809474da4525f55f",
            "_model_module": "@jupyter-widgets/controls",
            "children": [
              "IPY_MODEL_8acbce97dd764f37bc3f05ade9967ff3",
              "IPY_MODEL_466412a4d06b411d97a3b1b9c89bebe2"
            ]
          }
        },
        "1e9c227a379b46af809474da4525f55f": {
          "model_module": "@jupyter-widgets/base",
          "model_name": "LayoutModel",
          "state": {
            "_view_name": "LayoutView",
            "grid_template_rows": null,
            "right": null,
            "justify_content": null,
            "_view_module": "@jupyter-widgets/base",
            "overflow": null,
            "_model_module_version": "1.2.0",
            "_view_count": null,
            "flex_flow": null,
            "width": null,
            "min_width": null,
            "border": null,
            "align_items": null,
            "bottom": null,
            "_model_module": "@jupyter-widgets/base",
            "top": null,
            "grid_column": null,
            "overflow_y": null,
            "overflow_x": null,
            "grid_auto_flow": null,
            "grid_area": null,
            "grid_template_columns": null,
            "flex": null,
            "_model_name": "LayoutModel",
            "justify_items": null,
            "grid_row": null,
            "max_height": null,
            "align_content": null,
            "visibility": null,
            "align_self": null,
            "height": null,
            "min_height": null,
            "padding": null,
            "grid_auto_rows": null,
            "grid_gap": null,
            "max_width": null,
            "order": null,
            "_view_module_version": "1.2.0",
            "grid_template_areas": null,
            "object_position": null,
            "object_fit": null,
            "grid_auto_columns": null,
            "margin": null,
            "display": null,
            "left": null
          }
        },
        "8acbce97dd764f37bc3f05ade9967ff3": {
          "model_module": "@jupyter-widgets/controls",
          "model_name": "FloatProgressModel",
          "state": {
            "_view_name": "ProgressView",
            "style": "IPY_MODEL_795a920b579d43bfbade601065bdefb1",
            "_dom_classes": [],
            "description": "Downloading: 100%",
            "_model_name": "FloatProgressModel",
            "bar_style": "success",
            "max": 456318,
            "_view_module": "@jupyter-widgets/controls",
            "_model_module_version": "1.5.0",
            "value": 456318,
            "_view_count": null,
            "_view_module_version": "1.5.0",
            "orientation": "horizontal",
            "min": 0,
            "description_tooltip": null,
            "_model_module": "@jupyter-widgets/controls",
            "layout": "IPY_MODEL_4539357d5d5e4ea4a1b66845efed0382"
          }
        },
        "466412a4d06b411d97a3b1b9c89bebe2": {
          "model_module": "@jupyter-widgets/controls",
          "model_name": "HTMLModel",
          "state": {
            "_view_name": "HTMLView",
            "style": "IPY_MODEL_9f26ffba3a8244598b5488f0694b0db7",
            "_dom_classes": [],
            "description": "",
            "_model_name": "HTMLModel",
            "placeholder": "​",
            "_view_module": "@jupyter-widgets/controls",
            "_model_module_version": "1.5.0",
            "value": " 456k/456k [00:00&lt;00:00, 1.41MB/s]",
            "_view_count": null,
            "_view_module_version": "1.5.0",
            "description_tooltip": null,
            "_model_module": "@jupyter-widgets/controls",
            "layout": "IPY_MODEL_65761d1bc7754865beeeea01a723da4e"
          }
        },
        "795a920b579d43bfbade601065bdefb1": {
          "model_module": "@jupyter-widgets/controls",
          "model_name": "ProgressStyleModel",
          "state": {
            "_view_name": "StyleView",
            "_model_name": "ProgressStyleModel",
            "description_width": "initial",
            "_view_module": "@jupyter-widgets/base",
            "_model_module_version": "1.5.0",
            "_view_count": null,
            "_view_module_version": "1.2.0",
            "bar_color": null,
            "_model_module": "@jupyter-widgets/controls"
          }
        },
        "4539357d5d5e4ea4a1b66845efed0382": {
          "model_module": "@jupyter-widgets/base",
          "model_name": "LayoutModel",
          "state": {
            "_view_name": "LayoutView",
            "grid_template_rows": null,
            "right": null,
            "justify_content": null,
            "_view_module": "@jupyter-widgets/base",
            "overflow": null,
            "_model_module_version": "1.2.0",
            "_view_count": null,
            "flex_flow": null,
            "width": null,
            "min_width": null,
            "border": null,
            "align_items": null,
            "bottom": null,
            "_model_module": "@jupyter-widgets/base",
            "top": null,
            "grid_column": null,
            "overflow_y": null,
            "overflow_x": null,
            "grid_auto_flow": null,
            "grid_area": null,
            "grid_template_columns": null,
            "flex": null,
            "_model_name": "LayoutModel",
            "justify_items": null,
            "grid_row": null,
            "max_height": null,
            "align_content": null,
            "visibility": null,
            "align_self": null,
            "height": null,
            "min_height": null,
            "padding": null,
            "grid_auto_rows": null,
            "grid_gap": null,
            "max_width": null,
            "order": null,
            "_view_module_version": "1.2.0",
            "grid_template_areas": null,
            "object_position": null,
            "object_fit": null,
            "grid_auto_columns": null,
            "margin": null,
            "display": null,
            "left": null
          }
        },
        "9f26ffba3a8244598b5488f0694b0db7": {
          "model_module": "@jupyter-widgets/controls",
          "model_name": "DescriptionStyleModel",
          "state": {
            "_view_name": "StyleView",
            "_model_name": "DescriptionStyleModel",
            "description_width": "",
            "_view_module": "@jupyter-widgets/base",
            "_model_module_version": "1.5.0",
            "_view_count": null,
            "_view_module_version": "1.2.0",
            "_model_module": "@jupyter-widgets/controls"
          }
        },
        "65761d1bc7754865beeeea01a723da4e": {
          "model_module": "@jupyter-widgets/base",
          "model_name": "LayoutModel",
          "state": {
            "_view_name": "LayoutView",
            "grid_template_rows": null,
            "right": null,
            "justify_content": null,
            "_view_module": "@jupyter-widgets/base",
            "overflow": null,
            "_model_module_version": "1.2.0",
            "_view_count": null,
            "flex_flow": null,
            "width": null,
            "min_width": null,
            "border": null,
            "align_items": null,
            "bottom": null,
            "_model_module": "@jupyter-widgets/base",
            "top": null,
            "grid_column": null,
            "overflow_y": null,
            "overflow_x": null,
            "grid_auto_flow": null,
            "grid_area": null,
            "grid_template_columns": null,
            "flex": null,
            "_model_name": "LayoutModel",
            "justify_items": null,
            "grid_row": null,
            "max_height": null,
            "align_content": null,
            "visibility": null,
            "align_self": null,
            "height": null,
            "min_height": null,
            "padding": null,
            "grid_auto_rows": null,
            "grid_gap": null,
            "max_width": null,
            "order": null,
            "_view_module_version": "1.2.0",
            "grid_template_areas": null,
            "object_position": null,
            "object_fit": null,
            "grid_auto_columns": null,
            "margin": null,
            "display": null,
            "left": null
          }
        },
        "2c73c3ae9ef34864a16571294e4112c1": {
          "model_module": "@jupyter-widgets/controls",
          "model_name": "HBoxModel",
          "state": {
            "_view_name": "HBoxView",
            "_dom_classes": [],
            "_model_name": "HBoxModel",
            "_view_module": "@jupyter-widgets/controls",
            "_model_module_version": "1.5.0",
            "_view_count": null,
            "_view_module_version": "1.5.0",
            "box_style": "",
            "layout": "IPY_MODEL_77c9fd5bd40b4c2a80c246d9c4a372a9",
            "_model_module": "@jupyter-widgets/controls",
            "children": [
              "IPY_MODEL_111aac041eba4fb8a134561413019b6c",
              "IPY_MODEL_e9e73ee04c1f4eabb377461684f8fb45"
            ]
          }
        },
        "77c9fd5bd40b4c2a80c246d9c4a372a9": {
          "model_module": "@jupyter-widgets/base",
          "model_name": "LayoutModel",
          "state": {
            "_view_name": "LayoutView",
            "grid_template_rows": null,
            "right": null,
            "justify_content": null,
            "_view_module": "@jupyter-widgets/base",
            "overflow": null,
            "_model_module_version": "1.2.0",
            "_view_count": null,
            "flex_flow": null,
            "width": null,
            "min_width": null,
            "border": null,
            "align_items": null,
            "bottom": null,
            "_model_module": "@jupyter-widgets/base",
            "top": null,
            "grid_column": null,
            "overflow_y": null,
            "overflow_x": null,
            "grid_auto_flow": null,
            "grid_area": null,
            "grid_template_columns": null,
            "flex": null,
            "_model_name": "LayoutModel",
            "justify_items": null,
            "grid_row": null,
            "max_height": null,
            "align_content": null,
            "visibility": null,
            "align_self": null,
            "height": null,
            "min_height": null,
            "padding": null,
            "grid_auto_rows": null,
            "grid_gap": null,
            "max_width": null,
            "order": null,
            "_view_module_version": "1.2.0",
            "grid_template_areas": null,
            "object_position": null,
            "object_fit": null,
            "grid_auto_columns": null,
            "margin": null,
            "display": null,
            "left": null
          }
        },
        "111aac041eba4fb8a134561413019b6c": {
          "model_module": "@jupyter-widgets/controls",
          "model_name": "FloatProgressModel",
          "state": {
            "_view_name": "ProgressView",
            "style": "IPY_MODEL_5420c804cd3448d994b2415646d463be",
            "_dom_classes": [],
            "description": "100%",
            "_model_name": "FloatProgressModel",
            "bar_style": "success",
            "max": 8000,
            "_view_module": "@jupyter-widgets/controls",
            "_model_module_version": "1.5.0",
            "value": 8000,
            "_view_count": null,
            "_view_module_version": "1.5.0",
            "orientation": "horizontal",
            "min": 0,
            "description_tooltip": null,
            "_model_module": "@jupyter-widgets/controls",
            "layout": "IPY_MODEL_a0a06f42648948478edb35e3375f9696"
          }
        },
        "e9e73ee04c1f4eabb377461684f8fb45": {
          "model_module": "@jupyter-widgets/controls",
          "model_name": "HTMLModel",
          "state": {
            "_view_name": "HTMLView",
            "style": "IPY_MODEL_b4db81bfd7474b46a4f90274c44a7e53",
            "_dom_classes": [],
            "description": "",
            "_model_name": "HTMLModel",
            "placeholder": "​",
            "_view_module": "@jupyter-widgets/controls",
            "_model_module_version": "1.5.0",
            "value": " 8000/8000 [03:07&lt;00:00, 42.69it/s]",
            "_view_count": null,
            "_view_module_version": "1.5.0",
            "description_tooltip": null,
            "_model_module": "@jupyter-widgets/controls",
            "layout": "IPY_MODEL_396426fec94f44eab0d7b957df619c43"
          }
        },
        "5420c804cd3448d994b2415646d463be": {
          "model_module": "@jupyter-widgets/controls",
          "model_name": "ProgressStyleModel",
          "state": {
            "_view_name": "StyleView",
            "_model_name": "ProgressStyleModel",
            "description_width": "initial",
            "_view_module": "@jupyter-widgets/base",
            "_model_module_version": "1.5.0",
            "_view_count": null,
            "_view_module_version": "1.2.0",
            "bar_color": null,
            "_model_module": "@jupyter-widgets/controls"
          }
        },
        "a0a06f42648948478edb35e3375f9696": {
          "model_module": "@jupyter-widgets/base",
          "model_name": "LayoutModel",
          "state": {
            "_view_name": "LayoutView",
            "grid_template_rows": null,
            "right": null,
            "justify_content": null,
            "_view_module": "@jupyter-widgets/base",
            "overflow": null,
            "_model_module_version": "1.2.0",
            "_view_count": null,
            "flex_flow": null,
            "width": null,
            "min_width": null,
            "border": null,
            "align_items": null,
            "bottom": null,
            "_model_module": "@jupyter-widgets/base",
            "top": null,
            "grid_column": null,
            "overflow_y": null,
            "overflow_x": null,
            "grid_auto_flow": null,
            "grid_area": null,
            "grid_template_columns": null,
            "flex": null,
            "_model_name": "LayoutModel",
            "justify_items": null,
            "grid_row": null,
            "max_height": null,
            "align_content": null,
            "visibility": null,
            "align_self": null,
            "height": null,
            "min_height": null,
            "padding": null,
            "grid_auto_rows": null,
            "grid_gap": null,
            "max_width": null,
            "order": null,
            "_view_module_version": "1.2.0",
            "grid_template_areas": null,
            "object_position": null,
            "object_fit": null,
            "grid_auto_columns": null,
            "margin": null,
            "display": null,
            "left": null
          }
        },
        "b4db81bfd7474b46a4f90274c44a7e53": {
          "model_module": "@jupyter-widgets/controls",
          "model_name": "DescriptionStyleModel",
          "state": {
            "_view_name": "StyleView",
            "_model_name": "DescriptionStyleModel",
            "description_width": "",
            "_view_module": "@jupyter-widgets/base",
            "_model_module_version": "1.5.0",
            "_view_count": null,
            "_view_module_version": "1.2.0",
            "_model_module": "@jupyter-widgets/controls"
          }
        },
        "396426fec94f44eab0d7b957df619c43": {
          "model_module": "@jupyter-widgets/base",
          "model_name": "LayoutModel",
          "state": {
            "_view_name": "LayoutView",
            "grid_template_rows": null,
            "right": null,
            "justify_content": null,
            "_view_module": "@jupyter-widgets/base",
            "overflow": null,
            "_model_module_version": "1.2.0",
            "_view_count": null,
            "flex_flow": null,
            "width": null,
            "min_width": null,
            "border": null,
            "align_items": null,
            "bottom": null,
            "_model_module": "@jupyter-widgets/base",
            "top": null,
            "grid_column": null,
            "overflow_y": null,
            "overflow_x": null,
            "grid_auto_flow": null,
            "grid_area": null,
            "grid_template_columns": null,
            "flex": null,
            "_model_name": "LayoutModel",
            "justify_items": null,
            "grid_row": null,
            "max_height": null,
            "align_content": null,
            "visibility": null,
            "align_self": null,
            "height": null,
            "min_height": null,
            "padding": null,
            "grid_auto_rows": null,
            "grid_gap": null,
            "max_width": null,
            "order": null,
            "_view_module_version": "1.2.0",
            "grid_template_areas": null,
            "object_position": null,
            "object_fit": null,
            "grid_auto_columns": null,
            "margin": null,
            "display": null,
            "left": null
          }
        },
        "2e2801217757421d9995599d6d297590": {
          "model_module": "@jupyter-widgets/controls",
          "model_name": "HBoxModel",
          "state": {
            "_view_name": "HBoxView",
            "_dom_classes": [],
            "_model_name": "HBoxModel",
            "_view_module": "@jupyter-widgets/controls",
            "_model_module_version": "1.5.0",
            "_view_count": null,
            "_view_module_version": "1.5.0",
            "box_style": "",
            "layout": "IPY_MODEL_9090172459584ff4a790448c74c53a50",
            "_model_module": "@jupyter-widgets/controls",
            "children": [
              "IPY_MODEL_34f39718fc1f4ee2becbb7fc97e89e9f",
              "IPY_MODEL_11a9cb557345448d8042aaaa13528fdc"
            ]
          }
        },
        "9090172459584ff4a790448c74c53a50": {
          "model_module": "@jupyter-widgets/base",
          "model_name": "LayoutModel",
          "state": {
            "_view_name": "LayoutView",
            "grid_template_rows": null,
            "right": null,
            "justify_content": null,
            "_view_module": "@jupyter-widgets/base",
            "overflow": null,
            "_model_module_version": "1.2.0",
            "_view_count": null,
            "flex_flow": null,
            "width": null,
            "min_width": null,
            "border": null,
            "align_items": null,
            "bottom": null,
            "_model_module": "@jupyter-widgets/base",
            "top": null,
            "grid_column": null,
            "overflow_y": null,
            "overflow_x": null,
            "grid_auto_flow": null,
            "grid_area": null,
            "grid_template_columns": null,
            "flex": null,
            "_model_name": "LayoutModel",
            "justify_items": null,
            "grid_row": null,
            "max_height": null,
            "align_content": null,
            "visibility": null,
            "align_self": null,
            "height": null,
            "min_height": null,
            "padding": null,
            "grid_auto_rows": null,
            "grid_gap": null,
            "max_width": null,
            "order": null,
            "_view_module_version": "1.2.0",
            "grid_template_areas": null,
            "object_position": null,
            "object_fit": null,
            "grid_auto_columns": null,
            "margin": null,
            "display": null,
            "left": null
          }
        },
        "34f39718fc1f4ee2becbb7fc97e89e9f": {
          "model_module": "@jupyter-widgets/controls",
          "model_name": "FloatProgressModel",
          "state": {
            "_view_name": "ProgressView",
            "style": "IPY_MODEL_f4e0aebcc9ca407f99c03b3532ac5ce0",
            "_dom_classes": [],
            "description": "Epoch: 100%",
            "_model_name": "FloatProgressModel",
            "bar_style": "success",
            "max": 1,
            "_view_module": "@jupyter-widgets/controls",
            "_model_module_version": "1.5.0",
            "value": 1,
            "_view_count": null,
            "_view_module_version": "1.5.0",
            "orientation": "horizontal",
            "min": 0,
            "description_tooltip": null,
            "_model_module": "@jupyter-widgets/controls",
            "layout": "IPY_MODEL_07c60714b122401289f6b300a89f7b7c"
          }
        },
        "11a9cb557345448d8042aaaa13528fdc": {
          "model_module": "@jupyter-widgets/controls",
          "model_name": "HTMLModel",
          "state": {
            "_view_name": "HTMLView",
            "style": "IPY_MODEL_65c0632bbfa64781a5be1fb3d2d91bf6",
            "_dom_classes": [],
            "description": "",
            "_model_name": "HTMLModel",
            "placeholder": "​",
            "_view_module": "@jupyter-widgets/controls",
            "_model_module_version": "1.5.0",
            "value": " 1/1 [03:34&lt;00:00, 214.08s/it]",
            "_view_count": null,
            "_view_module_version": "1.5.0",
            "description_tooltip": null,
            "_model_module": "@jupyter-widgets/controls",
            "layout": "IPY_MODEL_bf26c2a005eb4177b85e5a3781693742"
          }
        },
        "f4e0aebcc9ca407f99c03b3532ac5ce0": {
          "model_module": "@jupyter-widgets/controls",
          "model_name": "ProgressStyleModel",
          "state": {
            "_view_name": "StyleView",
            "_model_name": "ProgressStyleModel",
            "description_width": "initial",
            "_view_module": "@jupyter-widgets/base",
            "_model_module_version": "1.5.0",
            "_view_count": null,
            "_view_module_version": "1.2.0",
            "bar_color": null,
            "_model_module": "@jupyter-widgets/controls"
          }
        },
        "07c60714b122401289f6b300a89f7b7c": {
          "model_module": "@jupyter-widgets/base",
          "model_name": "LayoutModel",
          "state": {
            "_view_name": "LayoutView",
            "grid_template_rows": null,
            "right": null,
            "justify_content": null,
            "_view_module": "@jupyter-widgets/base",
            "overflow": null,
            "_model_module_version": "1.2.0",
            "_view_count": null,
            "flex_flow": null,
            "width": null,
            "min_width": null,
            "border": null,
            "align_items": null,
            "bottom": null,
            "_model_module": "@jupyter-widgets/base",
            "top": null,
            "grid_column": null,
            "overflow_y": null,
            "overflow_x": null,
            "grid_auto_flow": null,
            "grid_area": null,
            "grid_template_columns": null,
            "flex": null,
            "_model_name": "LayoutModel",
            "justify_items": null,
            "grid_row": null,
            "max_height": null,
            "align_content": null,
            "visibility": null,
            "align_self": null,
            "height": null,
            "min_height": null,
            "padding": null,
            "grid_auto_rows": null,
            "grid_gap": null,
            "max_width": null,
            "order": null,
            "_view_module_version": "1.2.0",
            "grid_template_areas": null,
            "object_position": null,
            "object_fit": null,
            "grid_auto_columns": null,
            "margin": null,
            "display": null,
            "left": null
          }
        },
        "65c0632bbfa64781a5be1fb3d2d91bf6": {
          "model_module": "@jupyter-widgets/controls",
          "model_name": "DescriptionStyleModel",
          "state": {
            "_view_name": "StyleView",
            "_model_name": "DescriptionStyleModel",
            "description_width": "",
            "_view_module": "@jupyter-widgets/base",
            "_model_module_version": "1.5.0",
            "_view_count": null,
            "_view_module_version": "1.2.0",
            "_model_module": "@jupyter-widgets/controls"
          }
        },
        "bf26c2a005eb4177b85e5a3781693742": {
          "model_module": "@jupyter-widgets/base",
          "model_name": "LayoutModel",
          "state": {
            "_view_name": "LayoutView",
            "grid_template_rows": null,
            "right": null,
            "justify_content": null,
            "_view_module": "@jupyter-widgets/base",
            "overflow": null,
            "_model_module_version": "1.2.0",
            "_view_count": null,
            "flex_flow": null,
            "width": null,
            "min_width": null,
            "border": null,
            "align_items": null,
            "bottom": null,
            "_model_module": "@jupyter-widgets/base",
            "top": null,
            "grid_column": null,
            "overflow_y": null,
            "overflow_x": null,
            "grid_auto_flow": null,
            "grid_area": null,
            "grid_template_columns": null,
            "flex": null,
            "_model_name": "LayoutModel",
            "justify_items": null,
            "grid_row": null,
            "max_height": null,
            "align_content": null,
            "visibility": null,
            "align_self": null,
            "height": null,
            "min_height": null,
            "padding": null,
            "grid_auto_rows": null,
            "grid_gap": null,
            "max_width": null,
            "order": null,
            "_view_module_version": "1.2.0",
            "grid_template_areas": null,
            "object_position": null,
            "object_fit": null,
            "grid_auto_columns": null,
            "margin": null,
            "display": null,
            "left": null
          }
        },
        "68c6a3d501d94d129b8ad3d588a80f25": {
          "model_module": "@jupyter-widgets/controls",
          "model_name": "HBoxModel",
          "state": {
            "_view_name": "HBoxView",
            "_dom_classes": [],
            "_model_name": "HBoxModel",
            "_view_module": "@jupyter-widgets/controls",
            "_model_module_version": "1.5.0",
            "_view_count": null,
            "_view_module_version": "1.5.0",
            "box_style": "",
            "layout": "IPY_MODEL_20c2531f370d4beea3c668c5a59d22fb",
            "_model_module": "@jupyter-widgets/controls",
            "children": [
              "IPY_MODEL_ec358242ea494231927cbe789a4d89e2",
              "IPY_MODEL_004df367b4f949bc8d69551239709c91"
            ]
          }
        },
        "20c2531f370d4beea3c668c5a59d22fb": {
          "model_module": "@jupyter-widgets/base",
          "model_name": "LayoutModel",
          "state": {
            "_view_name": "LayoutView",
            "grid_template_rows": null,
            "right": null,
            "justify_content": null,
            "_view_module": "@jupyter-widgets/base",
            "overflow": null,
            "_model_module_version": "1.2.0",
            "_view_count": null,
            "flex_flow": null,
            "width": null,
            "min_width": null,
            "border": null,
            "align_items": null,
            "bottom": null,
            "_model_module": "@jupyter-widgets/base",
            "top": null,
            "grid_column": null,
            "overflow_y": null,
            "overflow_x": null,
            "grid_auto_flow": null,
            "grid_area": null,
            "grid_template_columns": null,
            "flex": null,
            "_model_name": "LayoutModel",
            "justify_items": null,
            "grid_row": null,
            "max_height": null,
            "align_content": null,
            "visibility": null,
            "align_self": null,
            "height": null,
            "min_height": null,
            "padding": null,
            "grid_auto_rows": null,
            "grid_gap": null,
            "max_width": null,
            "order": null,
            "_view_module_version": "1.2.0",
            "grid_template_areas": null,
            "object_position": null,
            "object_fit": null,
            "grid_auto_columns": null,
            "margin": null,
            "display": null,
            "left": null
          }
        },
        "ec358242ea494231927cbe789a4d89e2": {
          "model_module": "@jupyter-widgets/controls",
          "model_name": "FloatProgressModel",
          "state": {
            "_view_name": "ProgressView",
            "style": "IPY_MODEL_f2b288f30763478c83ae77d28aab451b",
            "_dom_classes": [],
            "description": "Current iteration: 100%",
            "_model_name": "FloatProgressModel",
            "bar_style": "success",
            "max": 1000,
            "_view_module": "@jupyter-widgets/controls",
            "_model_module_version": "1.5.0",
            "value": 1000,
            "_view_count": null,
            "_view_module_version": "1.5.0",
            "orientation": "horizontal",
            "min": 0,
            "description_tooltip": null,
            "_model_module": "@jupyter-widgets/controls",
            "layout": "IPY_MODEL_375b88c3eaf24410a2c504db3dab2b19"
          }
        },
        "004df367b4f949bc8d69551239709c91": {
          "model_module": "@jupyter-widgets/controls",
          "model_name": "HTMLModel",
          "state": {
            "_view_name": "HTMLView",
            "style": "IPY_MODEL_90d02570ced1470abc14652101862bf1",
            "_dom_classes": [],
            "description": "",
            "_model_name": "HTMLModel",
            "placeholder": "​",
            "_view_module": "@jupyter-widgets/controls",
            "_model_module_version": "1.5.0",
            "value": " 1000/1000 [03:34&lt;00:00,  4.67it/s]",
            "_view_count": null,
            "_view_module_version": "1.5.0",
            "description_tooltip": null,
            "_model_module": "@jupyter-widgets/controls",
            "layout": "IPY_MODEL_7c4ae93b35d8443794467fa3532c6076"
          }
        },
        "f2b288f30763478c83ae77d28aab451b": {
          "model_module": "@jupyter-widgets/controls",
          "model_name": "ProgressStyleModel",
          "state": {
            "_view_name": "StyleView",
            "_model_name": "ProgressStyleModel",
            "description_width": "initial",
            "_view_module": "@jupyter-widgets/base",
            "_model_module_version": "1.5.0",
            "_view_count": null,
            "_view_module_version": "1.2.0",
            "bar_color": null,
            "_model_module": "@jupyter-widgets/controls"
          }
        },
        "375b88c3eaf24410a2c504db3dab2b19": {
          "model_module": "@jupyter-widgets/base",
          "model_name": "LayoutModel",
          "state": {
            "_view_name": "LayoutView",
            "grid_template_rows": null,
            "right": null,
            "justify_content": null,
            "_view_module": "@jupyter-widgets/base",
            "overflow": null,
            "_model_module_version": "1.2.0",
            "_view_count": null,
            "flex_flow": null,
            "width": null,
            "min_width": null,
            "border": null,
            "align_items": null,
            "bottom": null,
            "_model_module": "@jupyter-widgets/base",
            "top": null,
            "grid_column": null,
            "overflow_y": null,
            "overflow_x": null,
            "grid_auto_flow": null,
            "grid_area": null,
            "grid_template_columns": null,
            "flex": null,
            "_model_name": "LayoutModel",
            "justify_items": null,
            "grid_row": null,
            "max_height": null,
            "align_content": null,
            "visibility": null,
            "align_self": null,
            "height": null,
            "min_height": null,
            "padding": null,
            "grid_auto_rows": null,
            "grid_gap": null,
            "max_width": null,
            "order": null,
            "_view_module_version": "1.2.0",
            "grid_template_areas": null,
            "object_position": null,
            "object_fit": null,
            "grid_auto_columns": null,
            "margin": null,
            "display": null,
            "left": null
          }
        },
        "90d02570ced1470abc14652101862bf1": {
          "model_module": "@jupyter-widgets/controls",
          "model_name": "DescriptionStyleModel",
          "state": {
            "_view_name": "StyleView",
            "_model_name": "DescriptionStyleModel",
            "description_width": "",
            "_view_module": "@jupyter-widgets/base",
            "_model_module_version": "1.5.0",
            "_view_count": null,
            "_view_module_version": "1.2.0",
            "_model_module": "@jupyter-widgets/controls"
          }
        },
        "7c4ae93b35d8443794467fa3532c6076": {
          "model_module": "@jupyter-widgets/base",
          "model_name": "LayoutModel",
          "state": {
            "_view_name": "LayoutView",
            "grid_template_rows": null,
            "right": null,
            "justify_content": null,
            "_view_module": "@jupyter-widgets/base",
            "overflow": null,
            "_model_module_version": "1.2.0",
            "_view_count": null,
            "flex_flow": null,
            "width": null,
            "min_width": null,
            "border": null,
            "align_items": null,
            "bottom": null,
            "_model_module": "@jupyter-widgets/base",
            "top": null,
            "grid_column": null,
            "overflow_y": null,
            "overflow_x": null,
            "grid_auto_flow": null,
            "grid_area": null,
            "grid_template_columns": null,
            "flex": null,
            "_model_name": "LayoutModel",
            "justify_items": null,
            "grid_row": null,
            "max_height": null,
            "align_content": null,
            "visibility": null,
            "align_self": null,
            "height": null,
            "min_height": null,
            "padding": null,
            "grid_auto_rows": null,
            "grid_gap": null,
            "max_width": null,
            "order": null,
            "_view_module_version": "1.2.0",
            "grid_template_areas": null,
            "object_position": null,
            "object_fit": null,
            "grid_auto_columns": null,
            "margin": null,
            "display": null,
            "left": null
          }
        },
        "14eb107097134a1081200120b4855bd9": {
          "model_module": "@jupyter-widgets/controls",
          "model_name": "HBoxModel",
          "state": {
            "_view_name": "HBoxView",
            "_dom_classes": [],
            "_model_name": "HBoxModel",
            "_view_module": "@jupyter-widgets/controls",
            "_model_module_version": "1.5.0",
            "_view_count": null,
            "_view_module_version": "1.5.0",
            "box_style": "",
            "layout": "IPY_MODEL_31d0f6f38236478bb6f9997a60ea4638",
            "_model_module": "@jupyter-widgets/controls",
            "children": [
              "IPY_MODEL_155aba58f4dd411db6679b5c1772e18a",
              "IPY_MODEL_8a6cc7b57bff49cf80b288c75400189a"
            ]
          }
        },
        "31d0f6f38236478bb6f9997a60ea4638": {
          "model_module": "@jupyter-widgets/base",
          "model_name": "LayoutModel",
          "state": {
            "_view_name": "LayoutView",
            "grid_template_rows": null,
            "right": null,
            "justify_content": null,
            "_view_module": "@jupyter-widgets/base",
            "overflow": null,
            "_model_module_version": "1.2.0",
            "_view_count": null,
            "flex_flow": null,
            "width": null,
            "min_width": null,
            "border": null,
            "align_items": null,
            "bottom": null,
            "_model_module": "@jupyter-widgets/base",
            "top": null,
            "grid_column": null,
            "overflow_y": null,
            "overflow_x": null,
            "grid_auto_flow": null,
            "grid_area": null,
            "grid_template_columns": null,
            "flex": null,
            "_model_name": "LayoutModel",
            "justify_items": null,
            "grid_row": null,
            "max_height": null,
            "align_content": null,
            "visibility": null,
            "align_self": null,
            "height": null,
            "min_height": null,
            "padding": null,
            "grid_auto_rows": null,
            "grid_gap": null,
            "max_width": null,
            "order": null,
            "_view_module_version": "1.2.0",
            "grid_template_areas": null,
            "object_position": null,
            "object_fit": null,
            "grid_auto_columns": null,
            "margin": null,
            "display": null,
            "left": null
          }
        },
        "155aba58f4dd411db6679b5c1772e18a": {
          "model_module": "@jupyter-widgets/controls",
          "model_name": "FloatProgressModel",
          "state": {
            "_view_name": "ProgressView",
            "style": "IPY_MODEL_2c555bb502974fd097f3e7e01c40d9a7",
            "_dom_classes": [],
            "description": "100%",
            "_model_name": "FloatProgressModel",
            "bar_style": "success",
            "max": 2000,
            "_view_module": "@jupyter-widgets/controls",
            "_model_module_version": "1.5.0",
            "value": 2000,
            "_view_count": null,
            "_view_module_version": "1.5.0",
            "orientation": "horizontal",
            "min": 0,
            "description_tooltip": null,
            "_model_module": "@jupyter-widgets/controls",
            "layout": "IPY_MODEL_161081284b4c43e6a458fbd81d5071b2"
          }
        },
        "8a6cc7b57bff49cf80b288c75400189a": {
          "model_module": "@jupyter-widgets/controls",
          "model_name": "HTMLModel",
          "state": {
            "_view_name": "HTMLView",
            "style": "IPY_MODEL_613850f7732d480c90c119d8fb65ff8f",
            "_dom_classes": [],
            "description": "",
            "_model_name": "HTMLModel",
            "placeholder": "​",
            "_view_module": "@jupyter-widgets/controls",
            "_model_module_version": "1.5.0",
            "value": " 2000/2000 [00:14&lt;00:00, 140.53it/s]",
            "_view_count": null,
            "_view_module_version": "1.5.0",
            "description_tooltip": null,
            "_model_module": "@jupyter-widgets/controls",
            "layout": "IPY_MODEL_77da921c1b5640b991f454c7acf72dde"
          }
        },
        "2c555bb502974fd097f3e7e01c40d9a7": {
          "model_module": "@jupyter-widgets/controls",
          "model_name": "ProgressStyleModel",
          "state": {
            "_view_name": "StyleView",
            "_model_name": "ProgressStyleModel",
            "description_width": "initial",
            "_view_module": "@jupyter-widgets/base",
            "_model_module_version": "1.5.0",
            "_view_count": null,
            "_view_module_version": "1.2.0",
            "bar_color": null,
            "_model_module": "@jupyter-widgets/controls"
          }
        },
        "161081284b4c43e6a458fbd81d5071b2": {
          "model_module": "@jupyter-widgets/base",
          "model_name": "LayoutModel",
          "state": {
            "_view_name": "LayoutView",
            "grid_template_rows": null,
            "right": null,
            "justify_content": null,
            "_view_module": "@jupyter-widgets/base",
            "overflow": null,
            "_model_module_version": "1.2.0",
            "_view_count": null,
            "flex_flow": null,
            "width": null,
            "min_width": null,
            "border": null,
            "align_items": null,
            "bottom": null,
            "_model_module": "@jupyter-widgets/base",
            "top": null,
            "grid_column": null,
            "overflow_y": null,
            "overflow_x": null,
            "grid_auto_flow": null,
            "grid_area": null,
            "grid_template_columns": null,
            "flex": null,
            "_model_name": "LayoutModel",
            "justify_items": null,
            "grid_row": null,
            "max_height": null,
            "align_content": null,
            "visibility": null,
            "align_self": null,
            "height": null,
            "min_height": null,
            "padding": null,
            "grid_auto_rows": null,
            "grid_gap": null,
            "max_width": null,
            "order": null,
            "_view_module_version": "1.2.0",
            "grid_template_areas": null,
            "object_position": null,
            "object_fit": null,
            "grid_auto_columns": null,
            "margin": null,
            "display": null,
            "left": null
          }
        },
        "613850f7732d480c90c119d8fb65ff8f": {
          "model_module": "@jupyter-widgets/controls",
          "model_name": "DescriptionStyleModel",
          "state": {
            "_view_name": "StyleView",
            "_model_name": "DescriptionStyleModel",
            "description_width": "",
            "_view_module": "@jupyter-widgets/base",
            "_model_module_version": "1.5.0",
            "_view_count": null,
            "_view_module_version": "1.2.0",
            "_model_module": "@jupyter-widgets/controls"
          }
        },
        "77da921c1b5640b991f454c7acf72dde": {
          "model_module": "@jupyter-widgets/base",
          "model_name": "LayoutModel",
          "state": {
            "_view_name": "LayoutView",
            "grid_template_rows": null,
            "right": null,
            "justify_content": null,
            "_view_module": "@jupyter-widgets/base",
            "overflow": null,
            "_model_module_version": "1.2.0",
            "_view_count": null,
            "flex_flow": null,
            "width": null,
            "min_width": null,
            "border": null,
            "align_items": null,
            "bottom": null,
            "_model_module": "@jupyter-widgets/base",
            "top": null,
            "grid_column": null,
            "overflow_y": null,
            "overflow_x": null,
            "grid_auto_flow": null,
            "grid_area": null,
            "grid_template_columns": null,
            "flex": null,
            "_model_name": "LayoutModel",
            "justify_items": null,
            "grid_row": null,
            "max_height": null,
            "align_content": null,
            "visibility": null,
            "align_self": null,
            "height": null,
            "min_height": null,
            "padding": null,
            "grid_auto_rows": null,
            "grid_gap": null,
            "max_width": null,
            "order": null,
            "_view_module_version": "1.2.0",
            "grid_template_areas": null,
            "object_position": null,
            "object_fit": null,
            "grid_auto_columns": null,
            "margin": null,
            "display": null,
            "left": null
          }
        },
        "cc1080de8a9b40078fb1225afeb74bc0": {
          "model_module": "@jupyter-widgets/controls",
          "model_name": "HBoxModel",
          "state": {
            "_view_name": "HBoxView",
            "_dom_classes": [],
            "_model_name": "HBoxModel",
            "_view_module": "@jupyter-widgets/controls",
            "_model_module_version": "1.5.0",
            "_view_count": null,
            "_view_module_version": "1.5.0",
            "box_style": "",
            "layout": "IPY_MODEL_c210b5f6fa4746529d3e4d295c16fe50",
            "_model_module": "@jupyter-widgets/controls",
            "children": [
              "IPY_MODEL_5fb94cb841f24351b9608037bd02c027",
              "IPY_MODEL_4b8ac5454f214866a41afbde8dcbc997"
            ]
          }
        },
        "c210b5f6fa4746529d3e4d295c16fe50": {
          "model_module": "@jupyter-widgets/base",
          "model_name": "LayoutModel",
          "state": {
            "_view_name": "LayoutView",
            "grid_template_rows": null,
            "right": null,
            "justify_content": null,
            "_view_module": "@jupyter-widgets/base",
            "overflow": null,
            "_model_module_version": "1.2.0",
            "_view_count": null,
            "flex_flow": null,
            "width": null,
            "min_width": null,
            "border": null,
            "align_items": null,
            "bottom": null,
            "_model_module": "@jupyter-widgets/base",
            "top": null,
            "grid_column": null,
            "overflow_y": null,
            "overflow_x": null,
            "grid_auto_flow": null,
            "grid_area": null,
            "grid_template_columns": null,
            "flex": null,
            "_model_name": "LayoutModel",
            "justify_items": null,
            "grid_row": null,
            "max_height": null,
            "align_content": null,
            "visibility": null,
            "align_self": null,
            "height": null,
            "min_height": null,
            "padding": null,
            "grid_auto_rows": null,
            "grid_gap": null,
            "max_width": null,
            "order": null,
            "_view_module_version": "1.2.0",
            "grid_template_areas": null,
            "object_position": null,
            "object_fit": null,
            "grid_auto_columns": null,
            "margin": null,
            "display": null,
            "left": null
          }
        },
        "5fb94cb841f24351b9608037bd02c027": {
          "model_module": "@jupyter-widgets/controls",
          "model_name": "FloatProgressModel",
          "state": {
            "_view_name": "ProgressView",
            "style": "IPY_MODEL_f040e69c3d8c424b9d16147c569e2092",
            "_dom_classes": [],
            "description": "100%",
            "_model_name": "FloatProgressModel",
            "bar_style": "success",
            "max": 250,
            "_view_module": "@jupyter-widgets/controls",
            "_model_module_version": "1.5.0",
            "value": 250,
            "_view_count": null,
            "_view_module_version": "1.5.0",
            "orientation": "horizontal",
            "min": 0,
            "description_tooltip": null,
            "_model_module": "@jupyter-widgets/controls",
            "layout": "IPY_MODEL_8c4dc85895c74eb28a36cf6941bbe3a0"
          }
        },
        "4b8ac5454f214866a41afbde8dcbc997": {
          "model_module": "@jupyter-widgets/controls",
          "model_name": "HTMLModel",
          "state": {
            "_view_name": "HTMLView",
            "style": "IPY_MODEL_05de7590466f491cb03c63740ae36923",
            "_dom_classes": [],
            "description": "",
            "_model_name": "HTMLModel",
            "placeholder": "​",
            "_view_module": "@jupyter-widgets/controls",
            "_model_module_version": "1.5.0",
            "value": " 250/250 [00:12&lt;00:00, 20.68it/s]",
            "_view_count": null,
            "_view_module_version": "1.5.0",
            "description_tooltip": null,
            "_model_module": "@jupyter-widgets/controls",
            "layout": "IPY_MODEL_df36f089a62a481d8a74f5098cb28438"
          }
        },
        "f040e69c3d8c424b9d16147c569e2092": {
          "model_module": "@jupyter-widgets/controls",
          "model_name": "ProgressStyleModel",
          "state": {
            "_view_name": "StyleView",
            "_model_name": "ProgressStyleModel",
            "description_width": "initial",
            "_view_module": "@jupyter-widgets/base",
            "_model_module_version": "1.5.0",
            "_view_count": null,
            "_view_module_version": "1.2.0",
            "bar_color": null,
            "_model_module": "@jupyter-widgets/controls"
          }
        },
        "8c4dc85895c74eb28a36cf6941bbe3a0": {
          "model_module": "@jupyter-widgets/base",
          "model_name": "LayoutModel",
          "state": {
            "_view_name": "LayoutView",
            "grid_template_rows": null,
            "right": null,
            "justify_content": null,
            "_view_module": "@jupyter-widgets/base",
            "overflow": null,
            "_model_module_version": "1.2.0",
            "_view_count": null,
            "flex_flow": null,
            "width": null,
            "min_width": null,
            "border": null,
            "align_items": null,
            "bottom": null,
            "_model_module": "@jupyter-widgets/base",
            "top": null,
            "grid_column": null,
            "overflow_y": null,
            "overflow_x": null,
            "grid_auto_flow": null,
            "grid_area": null,
            "grid_template_columns": null,
            "flex": null,
            "_model_name": "LayoutModel",
            "justify_items": null,
            "grid_row": null,
            "max_height": null,
            "align_content": null,
            "visibility": null,
            "align_self": null,
            "height": null,
            "min_height": null,
            "padding": null,
            "grid_auto_rows": null,
            "grid_gap": null,
            "max_width": null,
            "order": null,
            "_view_module_version": "1.2.0",
            "grid_template_areas": null,
            "object_position": null,
            "object_fit": null,
            "grid_auto_columns": null,
            "margin": null,
            "display": null,
            "left": null
          }
        },
        "05de7590466f491cb03c63740ae36923": {
          "model_module": "@jupyter-widgets/controls",
          "model_name": "DescriptionStyleModel",
          "state": {
            "_view_name": "StyleView",
            "_model_name": "DescriptionStyleModel",
            "description_width": "",
            "_view_module": "@jupyter-widgets/base",
            "_model_module_version": "1.5.0",
            "_view_count": null,
            "_view_module_version": "1.2.0",
            "_model_module": "@jupyter-widgets/controls"
          }
        },
        "df36f089a62a481d8a74f5098cb28438": {
          "model_module": "@jupyter-widgets/base",
          "model_name": "LayoutModel",
          "state": {
            "_view_name": "LayoutView",
            "grid_template_rows": null,
            "right": null,
            "justify_content": null,
            "_view_module": "@jupyter-widgets/base",
            "overflow": null,
            "_model_module_version": "1.2.0",
            "_view_count": null,
            "flex_flow": null,
            "width": null,
            "min_width": null,
            "border": null,
            "align_items": null,
            "bottom": null,
            "_model_module": "@jupyter-widgets/base",
            "top": null,
            "grid_column": null,
            "overflow_y": null,
            "overflow_x": null,
            "grid_auto_flow": null,
            "grid_area": null,
            "grid_template_columns": null,
            "flex": null,
            "_model_name": "LayoutModel",
            "justify_items": null,
            "grid_row": null,
            "max_height": null,
            "align_content": null,
            "visibility": null,
            "align_self": null,
            "height": null,
            "min_height": null,
            "padding": null,
            "grid_auto_rows": null,
            "grid_gap": null,
            "max_width": null,
            "order": null,
            "_view_module_version": "1.2.0",
            "grid_template_areas": null,
            "object_position": null,
            "object_fit": null,
            "grid_auto_columns": null,
            "margin": null,
            "display": null,
            "left": null
          }
        }
      }
    }
  },
  "cells": [
    {
      "cell_type": "code",
      "metadata": {
        "id": "CgB3l4lh9cYq",
        "colab_type": "code",
        "outputId": "8dcb1606-1fe2-40d9-f4cf-73e4157a72fc",
        "colab": {
          "base_uri": "https://localhost:8080/",
          "height": 1000
        }
      },
      "source": [
        "!pip install tensorboardx\n",
        "!pip install transformers\n",
        "!pip install simpletransformers"
      ],
      "execution_count": 1,
      "outputs": [
        {
          "output_type": "stream",
          "text": [
            "Collecting tensorboardx\n",
            "\u001b[?25l  Downloading https://files.pythonhosted.org/packages/35/f1/5843425495765c8c2dd0784a851a93ef204d314fc87bcc2bbb9f662a3ad1/tensorboardX-2.0-py2.py3-none-any.whl (195kB)\n",
            "\r\u001b[K     |█▊                              | 10kB 24.7MB/s eta 0:00:01\r\u001b[K     |███▍                            | 20kB 3.1MB/s eta 0:00:01\r\u001b[K     |█████                           | 30kB 4.2MB/s eta 0:00:01\r\u001b[K     |██████▊                         | 40kB 4.6MB/s eta 0:00:01\r\u001b[K     |████████▍                       | 51kB 3.7MB/s eta 0:00:01\r\u001b[K     |██████████                      | 61kB 4.1MB/s eta 0:00:01\r\u001b[K     |███████████▊                    | 71kB 4.6MB/s eta 0:00:01\r\u001b[K     |█████████████▍                  | 81kB 5.0MB/s eta 0:00:01\r\u001b[K     |███████████████                 | 92kB 5.2MB/s eta 0:00:01\r\u001b[K     |████████████████▊               | 102kB 5.0MB/s eta 0:00:01\r\u001b[K     |██████████████████▍             | 112kB 5.0MB/s eta 0:00:01\r\u001b[K     |████████████████████            | 122kB 5.0MB/s eta 0:00:01\r\u001b[K     |█████████████████████▊          | 133kB 5.0MB/s eta 0:00:01\r\u001b[K     |███████████████████████▌        | 143kB 5.0MB/s eta 0:00:01\r\u001b[K     |█████████████████████████▏      | 153kB 5.0MB/s eta 0:00:01\r\u001b[K     |██████████████████████████▉     | 163kB 5.0MB/s eta 0:00:01\r\u001b[K     |████████████████████████████▌   | 174kB 5.0MB/s eta 0:00:01\r\u001b[K     |██████████████████████████████▏ | 184kB 5.0MB/s eta 0:00:01\r\u001b[K     |███████████████████████████████▉| 194kB 5.0MB/s eta 0:00:01\r\u001b[K     |████████████████████████████████| 204kB 5.0MB/s \n",
            "\u001b[?25hRequirement already satisfied: protobuf>=3.8.0 in /usr/local/lib/python3.6/dist-packages (from tensorboardx) (3.10.0)\n",
            "Requirement already satisfied: six in /usr/local/lib/python3.6/dist-packages (from tensorboardx) (1.12.0)\n",
            "Requirement already satisfied: numpy in /usr/local/lib/python3.6/dist-packages (from tensorboardx) (1.18.4)\n",
            "Requirement already satisfied: setuptools in /usr/local/lib/python3.6/dist-packages (from protobuf>=3.8.0->tensorboardx) (46.1.3)\n",
            "Installing collected packages: tensorboardx\n",
            "Successfully installed tensorboardx-2.0\n",
            "Collecting transformers\n",
            "\u001b[?25l  Downloading https://files.pythonhosted.org/packages/cd/38/c9527aa055241c66c4d785381eaf6f80a28c224cae97daa1f8b183b5fabb/transformers-2.9.0-py3-none-any.whl (635kB)\n",
            "\u001b[K     |████████████████████████████████| 645kB 4.8MB/s \n",
            "\u001b[?25hRequirement already satisfied: requests in /usr/local/lib/python3.6/dist-packages (from transformers) (2.23.0)\n",
            "Requirement already satisfied: filelock in /usr/local/lib/python3.6/dist-packages (from transformers) (3.0.12)\n",
            "Collecting tokenizers==0.7.0\n",
            "\u001b[?25l  Downloading https://files.pythonhosted.org/packages/14/e5/a26eb4716523808bb0a799fcfdceb6ebf77a18169d9591b2f46a9adb87d9/tokenizers-0.7.0-cp36-cp36m-manylinux1_x86_64.whl (3.8MB)\n",
            "\u001b[K     |████████████████████████████████| 3.8MB 53.0MB/s \n",
            "\u001b[?25hRequirement already satisfied: regex!=2019.12.17 in /usr/local/lib/python3.6/dist-packages (from transformers) (2019.12.20)\n",
            "Requirement already satisfied: tqdm>=4.27 in /usr/local/lib/python3.6/dist-packages (from transformers) (4.41.1)\n",
            "Requirement already satisfied: numpy in /usr/local/lib/python3.6/dist-packages (from transformers) (1.18.4)\n",
            "Collecting sacremoses\n",
            "\u001b[?25l  Downloading https://files.pythonhosted.org/packages/7d/34/09d19aff26edcc8eb2a01bed8e98f13a1537005d31e95233fd48216eed10/sacremoses-0.0.43.tar.gz (883kB)\n",
            "\u001b[K     |████████████████████████████████| 890kB 49.6MB/s \n",
            "\u001b[?25hRequirement already satisfied: dataclasses; python_version < \"3.7\" in /usr/local/lib/python3.6/dist-packages (from transformers) (0.7)\n",
            "Collecting sentencepiece\n",
            "\u001b[?25l  Downloading https://files.pythonhosted.org/packages/3b/88/49e772d686088e1278766ad68a463513642a2a877487decbd691dec02955/sentencepiece-0.1.90-cp36-cp36m-manylinux1_x86_64.whl (1.1MB)\n",
            "\u001b[K     |████████████████████████████████| 1.1MB 54.5MB/s \n",
            "\u001b[?25hRequirement already satisfied: certifi>=2017.4.17 in /usr/local/lib/python3.6/dist-packages (from requests->transformers) (2020.4.5.1)\n",
            "Requirement already satisfied: idna<3,>=2.5 in /usr/local/lib/python3.6/dist-packages (from requests->transformers) (2.9)\n",
            "Requirement already satisfied: chardet<4,>=3.0.2 in /usr/local/lib/python3.6/dist-packages (from requests->transformers) (3.0.4)\n",
            "Requirement already satisfied: urllib3!=1.25.0,!=1.25.1,<1.26,>=1.21.1 in /usr/local/lib/python3.6/dist-packages (from requests->transformers) (1.24.3)\n",
            "Requirement already satisfied: six in /usr/local/lib/python3.6/dist-packages (from sacremoses->transformers) (1.12.0)\n",
            "Requirement already satisfied: click in /usr/local/lib/python3.6/dist-packages (from sacremoses->transformers) (7.1.2)\n",
            "Requirement already satisfied: joblib in /usr/local/lib/python3.6/dist-packages (from sacremoses->transformers) (0.14.1)\n",
            "Building wheels for collected packages: sacremoses\n",
            "  Building wheel for sacremoses (setup.py) ... \u001b[?25l\u001b[?25hdone\n",
            "  Created wheel for sacremoses: filename=sacremoses-0.0.43-cp36-none-any.whl size=893260 sha256=a69ee072b3c4876708f063076efa5e7745a7ef11557b1a408d3f8100b1b58e17\n",
            "  Stored in directory: /root/.cache/pip/wheels/29/3c/fd/7ce5c3f0666dab31a50123635e6fb5e19ceb42ce38d4e58f45\n",
            "Successfully built sacremoses\n",
            "Installing collected packages: tokenizers, sacremoses, sentencepiece, transformers\n",
            "Successfully installed sacremoses-0.0.43 sentencepiece-0.1.90 tokenizers-0.7.0 transformers-2.9.0\n",
            "Collecting simpletransformers\n",
            "\u001b[?25l  Downloading https://files.pythonhosted.org/packages/70/bf/92b49029605dc8d3d00c4579007b83c723d3407c9d85ef7e676fa471eb99/simpletransformers-0.28.2-py3-none-any.whl (184kB)\n",
            "\u001b[K     |████████████████████████████████| 194kB 4.7MB/s \n",
            "\u001b[?25hRequirement already satisfied: requests in /usr/local/lib/python3.6/dist-packages (from simpletransformers) (2.23.0)\n",
            "Requirement already satisfied: scikit-learn in /usr/local/lib/python3.6/dist-packages (from simpletransformers) (0.22.2.post1)\n",
            "Requirement already satisfied: numpy in /usr/local/lib/python3.6/dist-packages (from simpletransformers) (1.18.4)\n",
            "Requirement already satisfied: tensorboardx in /usr/local/lib/python3.6/dist-packages (from simpletransformers) (2.0)\n",
            "Requirement already satisfied: pandas in /usr/local/lib/python3.6/dist-packages (from simpletransformers) (1.0.3)\n",
            "Requirement already satisfied: transformers>=2.9.0 in /usr/local/lib/python3.6/dist-packages (from simpletransformers) (2.9.0)\n",
            "Requirement already satisfied: tokenizers in /usr/local/lib/python3.6/dist-packages (from simpletransformers) (0.7.0)\n",
            "Requirement already satisfied: scipy in /usr/local/lib/python3.6/dist-packages (from simpletransformers) (1.4.1)\n",
            "Requirement already satisfied: tqdm in /usr/local/lib/python3.6/dist-packages (from simpletransformers) (4.41.1)\n",
            "Collecting seqeval\n",
            "  Downloading https://files.pythonhosted.org/packages/34/91/068aca8d60ce56dd9ba4506850e876aba5e66a6f2f29aa223224b50df0de/seqeval-0.0.12.tar.gz\n",
            "Requirement already satisfied: regex in /usr/local/lib/python3.6/dist-packages (from simpletransformers) (2019.12.20)\n",
            "Requirement already satisfied: certifi>=2017.4.17 in /usr/local/lib/python3.6/dist-packages (from requests->simpletransformers) (2020.4.5.1)\n",
            "Requirement already satisfied: idna<3,>=2.5 in /usr/local/lib/python3.6/dist-packages (from requests->simpletransformers) (2.9)\n",
            "Requirement already satisfied: urllib3!=1.25.0,!=1.25.1,<1.26,>=1.21.1 in /usr/local/lib/python3.6/dist-packages (from requests->simpletransformers) (1.24.3)\n",
            "Requirement already satisfied: chardet<4,>=3.0.2 in /usr/local/lib/python3.6/dist-packages (from requests->simpletransformers) (3.0.4)\n",
            "Requirement already satisfied: joblib>=0.11 in /usr/local/lib/python3.6/dist-packages (from scikit-learn->simpletransformers) (0.14.1)\n",
            "Requirement already satisfied: protobuf>=3.8.0 in /usr/local/lib/python3.6/dist-packages (from tensorboardx->simpletransformers) (3.10.0)\n",
            "Requirement already satisfied: six in /usr/local/lib/python3.6/dist-packages (from tensorboardx->simpletransformers) (1.12.0)\n",
            "Requirement already satisfied: python-dateutil>=2.6.1 in /usr/local/lib/python3.6/dist-packages (from pandas->simpletransformers) (2.8.1)\n",
            "Requirement already satisfied: pytz>=2017.2 in /usr/local/lib/python3.6/dist-packages (from pandas->simpletransformers) (2018.9)\n",
            "Requirement already satisfied: sentencepiece in /usr/local/lib/python3.6/dist-packages (from transformers>=2.9.0->simpletransformers) (0.1.90)\n",
            "Requirement already satisfied: filelock in /usr/local/lib/python3.6/dist-packages (from transformers>=2.9.0->simpletransformers) (3.0.12)\n",
            "Requirement already satisfied: dataclasses; python_version < \"3.7\" in /usr/local/lib/python3.6/dist-packages (from transformers>=2.9.0->simpletransformers) (0.7)\n",
            "Requirement already satisfied: sacremoses in /usr/local/lib/python3.6/dist-packages (from transformers>=2.9.0->simpletransformers) (0.0.43)\n",
            "Requirement already satisfied: Keras>=2.2.4 in /usr/local/lib/python3.6/dist-packages (from seqeval->simpletransformers) (2.3.1)\n",
            "Requirement already satisfied: setuptools in /usr/local/lib/python3.6/dist-packages (from protobuf>=3.8.0->tensorboardx->simpletransformers) (46.1.3)\n",
            "Requirement already satisfied: click in /usr/local/lib/python3.6/dist-packages (from sacremoses->transformers>=2.9.0->simpletransformers) (7.1.2)\n",
            "Requirement already satisfied: pyyaml in /usr/local/lib/python3.6/dist-packages (from Keras>=2.2.4->seqeval->simpletransformers) (3.13)\n",
            "Requirement already satisfied: keras-applications>=1.0.6 in /usr/local/lib/python3.6/dist-packages (from Keras>=2.2.4->seqeval->simpletransformers) (1.0.8)\n",
            "Requirement already satisfied: h5py in /usr/local/lib/python3.6/dist-packages (from Keras>=2.2.4->seqeval->simpletransformers) (2.10.0)\n",
            "Requirement already satisfied: keras-preprocessing>=1.0.5 in /usr/local/lib/python3.6/dist-packages (from Keras>=2.2.4->seqeval->simpletransformers) (1.1.0)\n",
            "Building wheels for collected packages: seqeval\n",
            "  Building wheel for seqeval (setup.py) ... \u001b[?25l\u001b[?25hdone\n",
            "  Created wheel for seqeval: filename=seqeval-0.0.12-cp36-none-any.whl size=7424 sha256=968e3b6f73e56795f96ac6e1f6e573ea185e92dc3cfb7b003ba51b46820f1937\n",
            "  Stored in directory: /root/.cache/pip/wheels/4f/32/0a/df3b340a82583566975377d65e724895b3fad101a3fb729f68\n",
            "Successfully built seqeval\n",
            "Installing collected packages: seqeval, simpletransformers\n",
            "Successfully installed seqeval-0.0.12 simpletransformers-0.28.2\n"
          ],
          "name": "stdout"
        }
      ]
    },
    {
      "cell_type": "code",
      "metadata": {
        "id": "O6xxCJrsZdIz",
        "colab_type": "code",
        "outputId": "249e3515-c352-4d2c-ce74-33bab3f97310",
        "colab": {
          "base_uri": "https://localhost:8080/",
          "height": 1000
        }
      },
      "source": [
        "!git clone https://github.com/NVIDIA/apex\n",
        "!pip install -v --no-cache-dir  ./apex"
      ],
      "execution_count": 2,
      "outputs": [
        {
          "output_type": "stream",
          "text": [
            "Cloning into 'apex'...\n",
            "remote: Enumerating objects: 8, done.\u001b[K\n",
            "remote: Counting objects: 100% (8/8), done.\u001b[K\n",
            "remote: Compressing objects: 100% (8/8), done.\u001b[K\n",
            "remote: Total 6734 (delta 0), reused 1 (delta 0), pack-reused 6726\u001b[K\n",
            "Receiving objects: 100% (6734/6734), 13.74 MiB | 28.48 MiB/s, done.\n",
            "Resolving deltas: 100% (4494/4494), done.\n",
            "Created temporary directory: /tmp/pip-ephem-wheel-cache-4xptsqbo\n",
            "Created temporary directory: /tmp/pip-req-tracker-2e8wriga\n",
            "Created requirements tracker '/tmp/pip-req-tracker-2e8wriga'\n",
            "Created temporary directory: /tmp/pip-install-fwgzjssi\n",
            "Processing ./apex\n",
            "  Created temporary directory: /tmp/pip-req-build-81jv9bm7\n",
            "  Added file:///content/apex to build tracker '/tmp/pip-req-tracker-2e8wriga'\n",
            "    Running setup.py (path:/tmp/pip-req-build-81jv9bm7/setup.py) egg_info for package from file:///content/apex\n",
            "    Running command python setup.py egg_info\n",
            "    torch.__version__  =  1.5.0+cu101\n",
            "    running egg_info\n",
            "    creating /tmp/pip-req-build-81jv9bm7/pip-egg-info/apex.egg-info\n",
            "    writing /tmp/pip-req-build-81jv9bm7/pip-egg-info/apex.egg-info/PKG-INFO\n",
            "    writing dependency_links to /tmp/pip-req-build-81jv9bm7/pip-egg-info/apex.egg-info/dependency_links.txt\n",
            "    writing top-level names to /tmp/pip-req-build-81jv9bm7/pip-egg-info/apex.egg-info/top_level.txt\n",
            "    writing manifest file '/tmp/pip-req-build-81jv9bm7/pip-egg-info/apex.egg-info/SOURCES.txt'\n",
            "    writing manifest file '/tmp/pip-req-build-81jv9bm7/pip-egg-info/apex.egg-info/SOURCES.txt'\n",
            "    /tmp/pip-req-build-81jv9bm7/setup.py:46: UserWarning: Option --pyprof not specified. Not installing PyProf dependencies!\n",
            "      warnings.warn(\"Option --pyprof not specified. Not installing PyProf dependencies!\")\n",
            "  Source in /tmp/pip-req-build-81jv9bm7 has version 0.1, which satisfies requirement apex==0.1 from file:///content/apex\n",
            "  Removed apex==0.1 from file:///content/apex from build tracker '/tmp/pip-req-tracker-2e8wriga'\n",
            "Building wheels for collected packages: apex\n",
            "  Created temporary directory: /tmp/pip-wheel-muvscor2\n",
            "  Building wheel for apex (setup.py) ... \u001b[?25l  Destination directory: /tmp/pip-wheel-muvscor2\n",
            "  Running command /usr/bin/python3 -u -c 'import sys, setuptools, tokenize; sys.argv[0] = '\"'\"'/tmp/pip-req-build-81jv9bm7/setup.py'\"'\"'; __file__='\"'\"'/tmp/pip-req-build-81jv9bm7/setup.py'\"'\"';f=getattr(tokenize, '\"'\"'open'\"'\"', open)(__file__);code=f.read().replace('\"'\"'\\r\\n'\"'\"', '\"'\"'\\n'\"'\"');f.close();exec(compile(code, __file__, '\"'\"'exec'\"'\"'))' bdist_wheel -d /tmp/pip-wheel-muvscor2 --python-tag cp36\n",
            "  torch.__version__  =  1.5.0+cu101\n",
            "  /tmp/pip-req-build-81jv9bm7/setup.py:46: UserWarning: Option --pyprof not specified. Not installing PyProf dependencies!\n",
            "    warnings.warn(\"Option --pyprof not specified. Not installing PyProf dependencies!\")\n",
            "  running bdist_wheel\n",
            "  running build\n",
            "  running build_py\n",
            "  creating build\n",
            "  creating build/lib\n",
            "  creating build/lib/apex\n",
            "  copying apex/__init__.py -> build/lib/apex\n",
            "  creating build/lib/apex/multi_tensor_apply\n",
            "  copying apex/multi_tensor_apply/__init__.py -> build/lib/apex/multi_tensor_apply\n",
            "  copying apex/multi_tensor_apply/multi_tensor_apply.py -> build/lib/apex/multi_tensor_apply\n",
            "  creating build/lib/apex/pyprof\n",
            "  copying apex/pyprof/__init__.py -> build/lib/apex/pyprof\n",
            "  creating build/lib/apex/optimizers\n",
            "  copying apex/optimizers/__init__.py -> build/lib/apex/optimizers\n",
            "  copying apex/optimizers/fused_lamb.py -> build/lib/apex/optimizers\n",
            "  copying apex/optimizers/fused_adam.py -> build/lib/apex/optimizers\n",
            "  copying apex/optimizers/fused_sgd.py -> build/lib/apex/optimizers\n",
            "  copying apex/optimizers/fused_novograd.py -> build/lib/apex/optimizers\n",
            "  creating build/lib/apex/mlp\n",
            "  copying apex/mlp/__init__.py -> build/lib/apex/mlp\n",
            "  copying apex/mlp/mlp.py -> build/lib/apex/mlp\n",
            "  creating build/lib/apex/fp16_utils\n",
            "  copying apex/fp16_utils/__init__.py -> build/lib/apex/fp16_utils\n",
            "  copying apex/fp16_utils/fp16_optimizer.py -> build/lib/apex/fp16_utils\n",
            "  copying apex/fp16_utils/fp16util.py -> build/lib/apex/fp16_utils\n",
            "  copying apex/fp16_utils/loss_scaler.py -> build/lib/apex/fp16_utils\n",
            "  creating build/lib/apex/parallel\n",
            "  copying apex/parallel/__init__.py -> build/lib/apex/parallel\n",
            "  copying apex/parallel/sync_batchnorm_kernel.py -> build/lib/apex/parallel\n",
            "  copying apex/parallel/sync_batchnorm.py -> build/lib/apex/parallel\n",
            "  copying apex/parallel/distributed.py -> build/lib/apex/parallel\n",
            "  copying apex/parallel/optimized_sync_batchnorm.py -> build/lib/apex/parallel\n",
            "  copying apex/parallel/LARC.py -> build/lib/apex/parallel\n",
            "  copying apex/parallel/multiproc.py -> build/lib/apex/parallel\n",
            "  copying apex/parallel/optimized_sync_batchnorm_kernel.py -> build/lib/apex/parallel\n",
            "  creating build/lib/apex/RNN\n",
            "  copying apex/RNN/__init__.py -> build/lib/apex/RNN\n",
            "  copying apex/RNN/RNNBackend.py -> build/lib/apex/RNN\n",
            "  copying apex/RNN/models.py -> build/lib/apex/RNN\n",
            "  copying apex/RNN/cells.py -> build/lib/apex/RNN\n",
            "  creating build/lib/apex/reparameterization\n",
            "  copying apex/reparameterization/__init__.py -> build/lib/apex/reparameterization\n",
            "  copying apex/reparameterization/reparameterization.py -> build/lib/apex/reparameterization\n",
            "  copying apex/reparameterization/weight_norm.py -> build/lib/apex/reparameterization\n",
            "  creating build/lib/apex/contrib\n",
            "  copying apex/contrib/__init__.py -> build/lib/apex/contrib\n",
            "  creating build/lib/apex/normalization\n",
            "  copying apex/normalization/__init__.py -> build/lib/apex/normalization\n",
            "  copying apex/normalization/fused_layer_norm.py -> build/lib/apex/normalization\n",
            "  creating build/lib/apex/amp\n",
            "  copying apex/amp/__init__.py -> build/lib/apex/amp\n",
            "  copying apex/amp/frontend.py -> build/lib/apex/amp\n",
            "  copying apex/amp/opt.py -> build/lib/apex/amp\n",
            "  copying apex/amp/wrap.py -> build/lib/apex/amp\n",
            "  copying apex/amp/utils.py -> build/lib/apex/amp\n",
            "  copying apex/amp/__version__.py -> build/lib/apex/amp\n",
            "  copying apex/amp/rnn_compat.py -> build/lib/apex/amp\n",
            "  copying apex/amp/amp.py -> build/lib/apex/amp\n",
            "  copying apex/amp/_process_optimizer.py -> build/lib/apex/amp\n",
            "  copying apex/amp/_amp_state.py -> build/lib/apex/amp\n",
            "  copying apex/amp/handle.py -> build/lib/apex/amp\n",
            "  copying apex/amp/compat.py -> build/lib/apex/amp\n",
            "  copying apex/amp/scaler.py -> build/lib/apex/amp\n",
            "  copying apex/amp/_initialize.py -> build/lib/apex/amp\n",
            "  creating build/lib/apex/pyprof/nvtx\n",
            "  copying apex/pyprof/nvtx/__init__.py -> build/lib/apex/pyprof/nvtx\n",
            "  copying apex/pyprof/nvtx/nvmarker.py -> build/lib/apex/pyprof/nvtx\n",
            "  creating build/lib/apex/pyprof/parse\n",
            "  copying apex/pyprof/parse/__init__.py -> build/lib/apex/pyprof/parse\n",
            "  copying apex/pyprof/parse/parse.py -> build/lib/apex/pyprof/parse\n",
            "  copying apex/pyprof/parse/nvvp.py -> build/lib/apex/pyprof/parse\n",
            "  copying apex/pyprof/parse/__main__.py -> build/lib/apex/pyprof/parse\n",
            "  copying apex/pyprof/parse/kernel.py -> build/lib/apex/pyprof/parse\n",
            "  copying apex/pyprof/parse/db.py -> build/lib/apex/pyprof/parse\n",
            "  creating build/lib/apex/pyprof/prof\n",
            "  copying apex/pyprof/prof/blas.py -> build/lib/apex/pyprof/prof\n",
            "  copying apex/pyprof/prof/usage.py -> build/lib/apex/pyprof/prof\n",
            "  copying apex/pyprof/prof/softmax.py -> build/lib/apex/pyprof/prof\n",
            "  copying apex/pyprof/prof/dropout.py -> build/lib/apex/pyprof/prof\n",
            "  copying apex/pyprof/prof/__init__.py -> build/lib/apex/pyprof/prof\n",
            "  copying apex/pyprof/prof/linear.py -> build/lib/apex/pyprof/prof\n",
            "  copying apex/pyprof/prof/utility.py -> build/lib/apex/pyprof/prof\n",
            "  copying apex/pyprof/prof/misc.py -> build/lib/apex/pyprof/prof\n",
            "  copying apex/pyprof/prof/conv.py -> build/lib/apex/pyprof/prof\n",
            "  copying apex/pyprof/prof/reduction.py -> build/lib/apex/pyprof/prof\n",
            "  copying apex/pyprof/prof/prof.py -> build/lib/apex/pyprof/prof\n",
            "  copying apex/pyprof/prof/optim.py -> build/lib/apex/pyprof/prof\n",
            "  copying apex/pyprof/prof/recurrentCell.py -> build/lib/apex/pyprof/prof\n",
            "  copying apex/pyprof/prof/normalization.py -> build/lib/apex/pyprof/prof\n",
            "  copying apex/pyprof/prof/data.py -> build/lib/apex/pyprof/prof\n",
            "  copying apex/pyprof/prof/convert.py -> build/lib/apex/pyprof/prof\n",
            "  copying apex/pyprof/prof/loss.py -> build/lib/apex/pyprof/prof\n",
            "  copying apex/pyprof/prof/pooling.py -> build/lib/apex/pyprof/prof\n",
            "  copying apex/pyprof/prof/__main__.py -> build/lib/apex/pyprof/prof\n",
            "  copying apex/pyprof/prof/index_slice_join_mutate.py -> build/lib/apex/pyprof/prof\n",
            "  copying apex/pyprof/prof/pointwise.py -> build/lib/apex/pyprof/prof\n",
            "  copying apex/pyprof/prof/embedding.py -> build/lib/apex/pyprof/prof\n",
            "  copying apex/pyprof/prof/randomSample.py -> build/lib/apex/pyprof/prof\n",
            "  copying apex/pyprof/prof/base.py -> build/lib/apex/pyprof/prof\n",
            "  copying apex/pyprof/prof/output.py -> build/lib/apex/pyprof/prof\n",
            "  copying apex/pyprof/prof/activation.py -> build/lib/apex/pyprof/prof\n",
            "  creating build/lib/apex/contrib/multihead_attn\n",
            "  copying apex/contrib/multihead_attn/__init__.py -> build/lib/apex/contrib/multihead_attn\n",
            "  copying apex/contrib/multihead_attn/fast_self_multihead_attn_func.py -> build/lib/apex/contrib/multihead_attn\n",
            "  copying apex/contrib/multihead_attn/self_multihead_attn.py -> build/lib/apex/contrib/multihead_attn\n",
            "  copying apex/contrib/multihead_attn/encdec_multihead_attn_func.py -> build/lib/apex/contrib/multihead_attn\n",
            "  copying apex/contrib/multihead_attn/self_multihead_attn_func.py -> build/lib/apex/contrib/multihead_attn\n",
            "  copying apex/contrib/multihead_attn/fast_encdec_multihead_attn_func.py -> build/lib/apex/contrib/multihead_attn\n",
            "  copying apex/contrib/multihead_attn/encdec_multihead_attn.py -> build/lib/apex/contrib/multihead_attn\n",
            "  copying apex/contrib/multihead_attn/fast_self_multihead_attn_norm_add_func.py -> build/lib/apex/contrib/multihead_attn\n",
            "  copying apex/contrib/multihead_attn/fast_encdec_multihead_attn_norm_add_func.py -> build/lib/apex/contrib/multihead_attn\n",
            "  creating build/lib/apex/contrib/optimizers\n",
            "  copying apex/contrib/optimizers/__init__.py -> build/lib/apex/contrib/optimizers\n",
            "  copying apex/contrib/optimizers/fused_lamb.py -> build/lib/apex/contrib/optimizers\n",
            "  copying apex/contrib/optimizers/fused_adam.py -> build/lib/apex/contrib/optimizers\n",
            "  copying apex/contrib/optimizers/distributed_fused_adam.py -> build/lib/apex/contrib/optimizers\n",
            "  copying apex/contrib/optimizers/fp16_optimizer.py -> build/lib/apex/contrib/optimizers\n",
            "  copying apex/contrib/optimizers/distributed_fused_adam_v2.py -> build/lib/apex/contrib/optimizers\n",
            "  copying apex/contrib/optimizers/fused_sgd.py -> build/lib/apex/contrib/optimizers\n",
            "  copying apex/contrib/optimizers/distributed_fused_adam_v3.py -> build/lib/apex/contrib/optimizers\n",
            "  creating build/lib/apex/contrib/groupbn\n",
            "  copying apex/contrib/groupbn/__init__.py -> build/lib/apex/contrib/groupbn\n",
            "  copying apex/contrib/groupbn/batch_norm.py -> build/lib/apex/contrib/groupbn\n",
            "  creating build/lib/apex/contrib/xentropy\n",
            "  copying apex/contrib/xentropy/__init__.py -> build/lib/apex/contrib/xentropy\n",
            "  copying apex/contrib/xentropy/softmax_xentropy.py -> build/lib/apex/contrib/xentropy\n",
            "  creating build/lib/apex/amp/lists\n",
            "  copying apex/amp/lists/__init__.py -> build/lib/apex/amp/lists\n",
            "  copying apex/amp/lists/tensor_overrides.py -> build/lib/apex/amp/lists\n",
            "  copying apex/amp/lists/functional_overrides.py -> build/lib/apex/amp/lists\n",
            "  copying apex/amp/lists/torch_overrides.py -> build/lib/apex/amp/lists\n",
            "  installing to build/bdist.linux-x86_64/wheel\n",
            "  running install\n",
            "  running install_lib\n",
            "  creating build/bdist.linux-x86_64\n",
            "  creating build/bdist.linux-x86_64/wheel\n",
            "  creating build/bdist.linux-x86_64/wheel/apex\n",
            "  copying build/lib/apex/__init__.py -> build/bdist.linux-x86_64/wheel/apex\n",
            "  creating build/bdist.linux-x86_64/wheel/apex/multi_tensor_apply\n",
            "  copying build/lib/apex/multi_tensor_apply/__init__.py -> build/bdist.linux-x86_64/wheel/apex/multi_tensor_apply\n",
            "  copying build/lib/apex/multi_tensor_apply/multi_tensor_apply.py -> build/bdist.linux-x86_64/wheel/apex/multi_tensor_apply\n",
            "  creating build/bdist.linux-x86_64/wheel/apex/pyprof\n",
            "  copying build/lib/apex/pyprof/__init__.py -> build/bdist.linux-x86_64/wheel/apex/pyprof\n",
            "  creating build/bdist.linux-x86_64/wheel/apex/pyprof/nvtx\n",
            "  copying build/lib/apex/pyprof/nvtx/__init__.py -> build/bdist.linux-x86_64/wheel/apex/pyprof/nvtx\n",
            "  copying build/lib/apex/pyprof/nvtx/nvmarker.py -> build/bdist.linux-x86_64/wheel/apex/pyprof/nvtx\n",
            "  creating build/bdist.linux-x86_64/wheel/apex/pyprof/parse\n",
            "  copying build/lib/apex/pyprof/parse/__init__.py -> build/bdist.linux-x86_64/wheel/apex/pyprof/parse\n",
            "  copying build/lib/apex/pyprof/parse/parse.py -> build/bdist.linux-x86_64/wheel/apex/pyprof/parse\n",
            "  copying build/lib/apex/pyprof/parse/nvvp.py -> build/bdist.linux-x86_64/wheel/apex/pyprof/parse\n",
            "  copying build/lib/apex/pyprof/parse/__main__.py -> build/bdist.linux-x86_64/wheel/apex/pyprof/parse\n",
            "  copying build/lib/apex/pyprof/parse/kernel.py -> build/bdist.linux-x86_64/wheel/apex/pyprof/parse\n",
            "  copying build/lib/apex/pyprof/parse/db.py -> build/bdist.linux-x86_64/wheel/apex/pyprof/parse\n",
            "  creating build/bdist.linux-x86_64/wheel/apex/pyprof/prof\n",
            "  copying build/lib/apex/pyprof/prof/blas.py -> build/bdist.linux-x86_64/wheel/apex/pyprof/prof\n",
            "  copying build/lib/apex/pyprof/prof/usage.py -> build/bdist.linux-x86_64/wheel/apex/pyprof/prof\n",
            "  copying build/lib/apex/pyprof/prof/softmax.py -> build/bdist.linux-x86_64/wheel/apex/pyprof/prof\n",
            "  copying build/lib/apex/pyprof/prof/dropout.py -> build/bdist.linux-x86_64/wheel/apex/pyprof/prof\n",
            "  copying build/lib/apex/pyprof/prof/__init__.py -> build/bdist.linux-x86_64/wheel/apex/pyprof/prof\n",
            "  copying build/lib/apex/pyprof/prof/linear.py -> build/bdist.linux-x86_64/wheel/apex/pyprof/prof\n",
            "  copying build/lib/apex/pyprof/prof/utility.py -> build/bdist.linux-x86_64/wheel/apex/pyprof/prof\n",
            "  copying build/lib/apex/pyprof/prof/misc.py -> build/bdist.linux-x86_64/wheel/apex/pyprof/prof\n",
            "  copying build/lib/apex/pyprof/prof/conv.py -> build/bdist.linux-x86_64/wheel/apex/pyprof/prof\n",
            "  copying build/lib/apex/pyprof/prof/reduction.py -> build/bdist.linux-x86_64/wheel/apex/pyprof/prof\n",
            "  copying build/lib/apex/pyprof/prof/prof.py -> build/bdist.linux-x86_64/wheel/apex/pyprof/prof\n",
            "  copying build/lib/apex/pyprof/prof/optim.py -> build/bdist.linux-x86_64/wheel/apex/pyprof/prof\n",
            "  copying build/lib/apex/pyprof/prof/recurrentCell.py -> build/bdist.linux-x86_64/wheel/apex/pyprof/prof\n",
            "  copying build/lib/apex/pyprof/prof/normalization.py -> build/bdist.linux-x86_64/wheel/apex/pyprof/prof\n",
            "  copying build/lib/apex/pyprof/prof/data.py -> build/bdist.linux-x86_64/wheel/apex/pyprof/prof\n",
            "  copying build/lib/apex/pyprof/prof/convert.py -> build/bdist.linux-x86_64/wheel/apex/pyprof/prof\n",
            "  copying build/lib/apex/pyprof/prof/loss.py -> build/bdist.linux-x86_64/wheel/apex/pyprof/prof\n",
            "  copying build/lib/apex/pyprof/prof/pooling.py -> build/bdist.linux-x86_64/wheel/apex/pyprof/prof\n",
            "  copying build/lib/apex/pyprof/prof/__main__.py -> build/bdist.linux-x86_64/wheel/apex/pyprof/prof\n",
            "  copying build/lib/apex/pyprof/prof/index_slice_join_mutate.py -> build/bdist.linux-x86_64/wheel/apex/pyprof/prof\n",
            "  copying build/lib/apex/pyprof/prof/pointwise.py -> build/bdist.linux-x86_64/wheel/apex/pyprof/prof\n",
            "  copying build/lib/apex/pyprof/prof/embedding.py -> build/bdist.linux-x86_64/wheel/apex/pyprof/prof\n",
            "  copying build/lib/apex/pyprof/prof/randomSample.py -> build/bdist.linux-x86_64/wheel/apex/pyprof/prof\n",
            "  copying build/lib/apex/pyprof/prof/base.py -> build/bdist.linux-x86_64/wheel/apex/pyprof/prof\n",
            "  copying build/lib/apex/pyprof/prof/output.py -> build/bdist.linux-x86_64/wheel/apex/pyprof/prof\n",
            "  copying build/lib/apex/pyprof/prof/activation.py -> build/bdist.linux-x86_64/wheel/apex/pyprof/prof\n",
            "  creating build/bdist.linux-x86_64/wheel/apex/optimizers\n",
            "  copying build/lib/apex/optimizers/__init__.py -> build/bdist.linux-x86_64/wheel/apex/optimizers\n",
            "  copying build/lib/apex/optimizers/fused_lamb.py -> build/bdist.linux-x86_64/wheel/apex/optimizers\n",
            "  copying build/lib/apex/optimizers/fused_adam.py -> build/bdist.linux-x86_64/wheel/apex/optimizers\n",
            "  copying build/lib/apex/optimizers/fused_sgd.py -> build/bdist.linux-x86_64/wheel/apex/optimizers\n",
            "  copying build/lib/apex/optimizers/fused_novograd.py -> build/bdist.linux-x86_64/wheel/apex/optimizers\n",
            "  creating build/bdist.linux-x86_64/wheel/apex/mlp\n",
            "  copying build/lib/apex/mlp/__init__.py -> build/bdist.linux-x86_64/wheel/apex/mlp\n",
            "  copying build/lib/apex/mlp/mlp.py -> build/bdist.linux-x86_64/wheel/apex/mlp\n",
            "  creating build/bdist.linux-x86_64/wheel/apex/fp16_utils\n",
            "  copying build/lib/apex/fp16_utils/__init__.py -> build/bdist.linux-x86_64/wheel/apex/fp16_utils\n",
            "  copying build/lib/apex/fp16_utils/fp16_optimizer.py -> build/bdist.linux-x86_64/wheel/apex/fp16_utils\n",
            "  copying build/lib/apex/fp16_utils/fp16util.py -> build/bdist.linux-x86_64/wheel/apex/fp16_utils\n",
            "  copying build/lib/apex/fp16_utils/loss_scaler.py -> build/bdist.linux-x86_64/wheel/apex/fp16_utils\n",
            "  creating build/bdist.linux-x86_64/wheel/apex/parallel\n",
            "  copying build/lib/apex/parallel/__init__.py -> build/bdist.linux-x86_64/wheel/apex/parallel\n",
            "  copying build/lib/apex/parallel/sync_batchnorm_kernel.py -> build/bdist.linux-x86_64/wheel/apex/parallel\n",
            "  copying build/lib/apex/parallel/sync_batchnorm.py -> build/bdist.linux-x86_64/wheel/apex/parallel\n",
            "  copying build/lib/apex/parallel/distributed.py -> build/bdist.linux-x86_64/wheel/apex/parallel\n",
            "  copying build/lib/apex/parallel/optimized_sync_batchnorm.py -> build/bdist.linux-x86_64/wheel/apex/parallel\n",
            "  copying build/lib/apex/parallel/LARC.py -> build/bdist.linux-x86_64/wheel/apex/parallel\n",
            "  copying build/lib/apex/parallel/multiproc.py -> build/bdist.linux-x86_64/wheel/apex/parallel\n",
            "  copying build/lib/apex/parallel/optimized_sync_batchnorm_kernel.py -> build/bdist.linux-x86_64/wheel/apex/parallel\n",
            "  creating build/bdist.linux-x86_64/wheel/apex/RNN\n",
            "  copying build/lib/apex/RNN/__init__.py -> build/bdist.linux-x86_64/wheel/apex/RNN\n",
            "  copying build/lib/apex/RNN/RNNBackend.py -> build/bdist.linux-x86_64/wheel/apex/RNN\n",
            "  copying build/lib/apex/RNN/models.py -> build/bdist.linux-x86_64/wheel/apex/RNN\n",
            "  copying build/lib/apex/RNN/cells.py -> build/bdist.linux-x86_64/wheel/apex/RNN\n",
            "  creating build/bdist.linux-x86_64/wheel/apex/reparameterization\n",
            "  copying build/lib/apex/reparameterization/__init__.py -> build/bdist.linux-x86_64/wheel/apex/reparameterization\n",
            "  copying build/lib/apex/reparameterization/reparameterization.py -> build/bdist.linux-x86_64/wheel/apex/reparameterization\n",
            "  copying build/lib/apex/reparameterization/weight_norm.py -> build/bdist.linux-x86_64/wheel/apex/reparameterization\n",
            "  creating build/bdist.linux-x86_64/wheel/apex/contrib\n",
            "  copying build/lib/apex/contrib/__init__.py -> build/bdist.linux-x86_64/wheel/apex/contrib\n",
            "  creating build/bdist.linux-x86_64/wheel/apex/contrib/multihead_attn\n",
            "  copying build/lib/apex/contrib/multihead_attn/__init__.py -> build/bdist.linux-x86_64/wheel/apex/contrib/multihead_attn\n",
            "  copying build/lib/apex/contrib/multihead_attn/fast_self_multihead_attn_func.py -> build/bdist.linux-x86_64/wheel/apex/contrib/multihead_attn\n",
            "  copying build/lib/apex/contrib/multihead_attn/self_multihead_attn.py -> build/bdist.linux-x86_64/wheel/apex/contrib/multihead_attn\n",
            "  copying build/lib/apex/contrib/multihead_attn/encdec_multihead_attn_func.py -> build/bdist.linux-x86_64/wheel/apex/contrib/multihead_attn\n",
            "  copying build/lib/apex/contrib/multihead_attn/self_multihead_attn_func.py -> build/bdist.linux-x86_64/wheel/apex/contrib/multihead_attn\n",
            "  copying build/lib/apex/contrib/multihead_attn/fast_encdec_multihead_attn_func.py -> build/bdist.linux-x86_64/wheel/apex/contrib/multihead_attn\n",
            "  copying build/lib/apex/contrib/multihead_attn/encdec_multihead_attn.py -> build/bdist.linux-x86_64/wheel/apex/contrib/multihead_attn\n",
            "  copying build/lib/apex/contrib/multihead_attn/fast_self_multihead_attn_norm_add_func.py -> build/bdist.linux-x86_64/wheel/apex/contrib/multihead_attn\n",
            "  copying build/lib/apex/contrib/multihead_attn/fast_encdec_multihead_attn_norm_add_func.py -> build/bdist.linux-x86_64/wheel/apex/contrib/multihead_attn\n",
            "  creating build/bdist.linux-x86_64/wheel/apex/contrib/optimizers\n",
            "  copying build/lib/apex/contrib/optimizers/__init__.py -> build/bdist.linux-x86_64/wheel/apex/contrib/optimizers\n",
            "  copying build/lib/apex/contrib/optimizers/fused_lamb.py -> build/bdist.linux-x86_64/wheel/apex/contrib/optimizers\n",
            "  copying build/lib/apex/contrib/optimizers/fused_adam.py -> build/bdist.linux-x86_64/wheel/apex/contrib/optimizers\n",
            "  copying build/lib/apex/contrib/optimizers/distributed_fused_adam.py -> build/bdist.linux-x86_64/wheel/apex/contrib/optimizers\n",
            "  copying build/lib/apex/contrib/optimizers/fp16_optimizer.py -> build/bdist.linux-x86_64/wheel/apex/contrib/optimizers\n",
            "  copying build/lib/apex/contrib/optimizers/distributed_fused_adam_v2.py -> build/bdist.linux-x86_64/wheel/apex/contrib/optimizers\n",
            "  copying build/lib/apex/contrib/optimizers/fused_sgd.py -> build/bdist.linux-x86_64/wheel/apex/contrib/optimizers\n",
            "  copying build/lib/apex/contrib/optimizers/distributed_fused_adam_v3.py -> build/bdist.linux-x86_64/wheel/apex/contrib/optimizers\n",
            "  creating build/bdist.linux-x86_64/wheel/apex/contrib/groupbn\n",
            "  copying build/lib/apex/contrib/groupbn/__init__.py -> build/bdist.linux-x86_64/wheel/apex/contrib/groupbn\n",
            "  copying build/lib/apex/contrib/groupbn/batch_norm.py -> build/bdist.linux-x86_64/wheel/apex/contrib/groupbn\n",
            "  creating build/bdist.linux-x86_64/wheel/apex/contrib/xentropy\n",
            "  copying build/lib/apex/contrib/xentropy/__init__.py -> build/bdist.linux-x86_64/wheel/apex/contrib/xentropy\n",
            "  copying build/lib/apex/contrib/xentropy/softmax_xentropy.py -> build/bdist.linux-x86_64/wheel/apex/contrib/xentropy\n",
            "  creating build/bdist.linux-x86_64/wheel/apex/normalization\n",
            "  copying build/lib/apex/normalization/__init__.py -> build/bdist.linux-x86_64/wheel/apex/normalization\n",
            "  copying build/lib/apex/normalization/fused_layer_norm.py -> build/bdist.linux-x86_64/wheel/apex/normalization\n",
            "  creating build/bdist.linux-x86_64/wheel/apex/amp\n",
            "  copying build/lib/apex/amp/__init__.py -> build/bdist.linux-x86_64/wheel/apex/amp\n",
            "  copying build/lib/apex/amp/frontend.py -> build/bdist.linux-x86_64/wheel/apex/amp\n",
            "  copying build/lib/apex/amp/opt.py -> build/bdist.linux-x86_64/wheel/apex/amp\n",
            "  copying build/lib/apex/amp/wrap.py -> build/bdist.linux-x86_64/wheel/apex/amp\n",
            "  copying build/lib/apex/amp/utils.py -> build/bdist.linux-x86_64/wheel/apex/amp\n",
            "  copying build/lib/apex/amp/__version__.py -> build/bdist.linux-x86_64/wheel/apex/amp\n",
            "  copying build/lib/apex/amp/rnn_compat.py -> build/bdist.linux-x86_64/wheel/apex/amp\n",
            "  copying build/lib/apex/amp/amp.py -> build/bdist.linux-x86_64/wheel/apex/amp\n",
            "  copying build/lib/apex/amp/_process_optimizer.py -> build/bdist.linux-x86_64/wheel/apex/amp\n",
            "  copying build/lib/apex/amp/_amp_state.py -> build/bdist.linux-x86_64/wheel/apex/amp\n",
            "  copying build/lib/apex/amp/handle.py -> build/bdist.linux-x86_64/wheel/apex/amp\n",
            "  copying build/lib/apex/amp/compat.py -> build/bdist.linux-x86_64/wheel/apex/amp\n",
            "  creating build/bdist.linux-x86_64/wheel/apex/amp/lists\n",
            "  copying build/lib/apex/amp/lists/__init__.py -> build/bdist.linux-x86_64/wheel/apex/amp/lists\n",
            "  copying build/lib/apex/amp/lists/tensor_overrides.py -> build/bdist.linux-x86_64/wheel/apex/amp/lists\n",
            "  copying build/lib/apex/amp/lists/functional_overrides.py -> build/bdist.linux-x86_64/wheel/apex/amp/lists\n",
            "  copying build/lib/apex/amp/lists/torch_overrides.py -> build/bdist.linux-x86_64/wheel/apex/amp/lists\n",
            "  copying build/lib/apex/amp/scaler.py -> build/bdist.linux-x86_64/wheel/apex/amp\n",
            "  copying build/lib/apex/amp/_initialize.py -> build/bdist.linux-x86_64/wheel/apex/amp\n",
            "  running install_egg_info\n",
            "  running egg_info\n",
            "  creating apex.egg-info\n",
            "  writing apex.egg-info/PKG-INFO\n",
            "  writing dependency_links to apex.egg-info/dependency_links.txt\n",
            "  writing top-level names to apex.egg-info/top_level.txt\n",
            "  writing manifest file 'apex.egg-info/SOURCES.txt'\n",
            "  writing manifest file 'apex.egg-info/SOURCES.txt'\n",
            "  Copying apex.egg-info to build/bdist.linux-x86_64/wheel/apex-0.1-py3.6.egg-info\n",
            "  running install_scripts\n",
            "  adding license file \"LICENSE\" (matched pattern \"LICEN[CS]E*\")\n",
            "  creating build/bdist.linux-x86_64/wheel/apex-0.1.dist-info/WHEEL\n",
            "  creating '/tmp/pip-wheel-muvscor2/apex-0.1-cp36-none-any.whl' and adding 'build/bdist.linux-x86_64/wheel' to it\n",
            "  adding 'apex/__init__.py'\n",
            "  adding 'apex/RNN/RNNBackend.py'\n",
            "  adding 'apex/RNN/__init__.py'\n",
            "  adding 'apex/RNN/cells.py'\n",
            "  adding 'apex/RNN/models.py'\n",
            "  adding 'apex/amp/__init__.py'\n",
            "  adding 'apex/amp/__version__.py'\n",
            "  adding 'apex/amp/_amp_state.py'\n",
            "  adding 'apex/amp/_initialize.py'\n",
            "  adding 'apex/amp/_process_optimizer.py'\n",
            "  adding 'apex/amp/amp.py'\n",
            "  adding 'apex/amp/compat.py'\n",
            "  adding 'apex/amp/frontend.py'\n",
            "  adding 'apex/amp/handle.py'\n",
            "  adding 'apex/amp/opt.py'\n",
            "  adding 'apex/amp/rnn_compat.py'\n",
            "  adding 'apex/amp/scaler.py'\n",
            "  adding 'apex/amp/utils.py'\n",
            "  adding 'apex/amp/wrap.py'\n",
            "  adding 'apex/amp/lists/__init__.py'\n",
            "  adding 'apex/amp/lists/functional_overrides.py'\n",
            "  adding 'apex/amp/lists/tensor_overrides.py'\n",
            "  adding 'apex/amp/lists/torch_overrides.py'\n",
            "  adding 'apex/contrib/__init__.py'\n",
            "  adding 'apex/contrib/groupbn/__init__.py'\n",
            "  adding 'apex/contrib/groupbn/batch_norm.py'\n",
            "  adding 'apex/contrib/multihead_attn/__init__.py'\n",
            "  adding 'apex/contrib/multihead_attn/encdec_multihead_attn.py'\n",
            "  adding 'apex/contrib/multihead_attn/encdec_multihead_attn_func.py'\n",
            "  adding 'apex/contrib/multihead_attn/fast_encdec_multihead_attn_func.py'\n",
            "  adding 'apex/contrib/multihead_attn/fast_encdec_multihead_attn_norm_add_func.py'\n",
            "  adding 'apex/contrib/multihead_attn/fast_self_multihead_attn_func.py'\n",
            "  adding 'apex/contrib/multihead_attn/fast_self_multihead_attn_norm_add_func.py'\n",
            "  adding 'apex/contrib/multihead_attn/self_multihead_attn.py'\n",
            "  adding 'apex/contrib/multihead_attn/self_multihead_attn_func.py'\n",
            "  adding 'apex/contrib/optimizers/__init__.py'\n",
            "  adding 'apex/contrib/optimizers/distributed_fused_adam.py'\n",
            "  adding 'apex/contrib/optimizers/distributed_fused_adam_v2.py'\n",
            "  adding 'apex/contrib/optimizers/distributed_fused_adam_v3.py'\n",
            "  adding 'apex/contrib/optimizers/fp16_optimizer.py'\n",
            "  adding 'apex/contrib/optimizers/fused_adam.py'\n",
            "  adding 'apex/contrib/optimizers/fused_lamb.py'\n",
            "  adding 'apex/contrib/optimizers/fused_sgd.py'\n",
            "  adding 'apex/contrib/xentropy/__init__.py'\n",
            "  adding 'apex/contrib/xentropy/softmax_xentropy.py'\n",
            "  adding 'apex/fp16_utils/__init__.py'\n",
            "  adding 'apex/fp16_utils/fp16_optimizer.py'\n",
            "  adding 'apex/fp16_utils/fp16util.py'\n",
            "  adding 'apex/fp16_utils/loss_scaler.py'\n",
            "  adding 'apex/mlp/__init__.py'\n",
            "  adding 'apex/mlp/mlp.py'\n",
            "  adding 'apex/multi_tensor_apply/__init__.py'\n",
            "  adding 'apex/multi_tensor_apply/multi_tensor_apply.py'\n",
            "  adding 'apex/normalization/__init__.py'\n",
            "  adding 'apex/normalization/fused_layer_norm.py'\n",
            "  adding 'apex/optimizers/__init__.py'\n",
            "  adding 'apex/optimizers/fused_adam.py'\n",
            "  adding 'apex/optimizers/fused_lamb.py'\n",
            "  adding 'apex/optimizers/fused_novograd.py'\n",
            "  adding 'apex/optimizers/fused_sgd.py'\n",
            "  adding 'apex/parallel/LARC.py'\n",
            "  adding 'apex/parallel/__init__.py'\n",
            "  adding 'apex/parallel/distributed.py'\n",
            "  adding 'apex/parallel/multiproc.py'\n",
            "  adding 'apex/parallel/optimized_sync_batchnorm.py'\n",
            "  adding 'apex/parallel/optimized_sync_batchnorm_kernel.py'\n",
            "  adding 'apex/parallel/sync_batchnorm.py'\n",
            "  adding 'apex/parallel/sync_batchnorm_kernel.py'\n",
            "  adding 'apex/pyprof/__init__.py'\n",
            "  adding 'apex/pyprof/nvtx/__init__.py'\n",
            "  adding 'apex/pyprof/nvtx/nvmarker.py'\n",
            "  adding 'apex/pyprof/parse/__init__.py'\n",
            "  adding 'apex/pyprof/parse/__main__.py'\n",
            "  adding 'apex/pyprof/parse/db.py'\n",
            "  adding 'apex/pyprof/parse/kernel.py'\n",
            "  adding 'apex/pyprof/parse/nvvp.py'\n",
            "  adding 'apex/pyprof/parse/parse.py'\n",
            "  adding 'apex/pyprof/prof/__init__.py'\n",
            "  adding 'apex/pyprof/prof/__main__.py'\n",
            "  adding 'apex/pyprof/prof/activation.py'\n",
            "  adding 'apex/pyprof/prof/base.py'\n",
            "  adding 'apex/pyprof/prof/blas.py'\n",
            "  adding 'apex/pyprof/prof/conv.py'\n",
            "  adding 'apex/pyprof/prof/convert.py'\n",
            "  adding 'apex/pyprof/prof/data.py'\n",
            "  adding 'apex/pyprof/prof/dropout.py'\n",
            "  adding 'apex/pyprof/prof/embedding.py'\n",
            "  adding 'apex/pyprof/prof/index_slice_join_mutate.py'\n",
            "  adding 'apex/pyprof/prof/linear.py'\n",
            "  adding 'apex/pyprof/prof/loss.py'\n",
            "  adding 'apex/pyprof/prof/misc.py'\n",
            "  adding 'apex/pyprof/prof/normalization.py'\n",
            "  adding 'apex/pyprof/prof/optim.py'\n",
            "  adding 'apex/pyprof/prof/output.py'\n",
            "  adding 'apex/pyprof/prof/pointwise.py'\n",
            "  adding 'apex/pyprof/prof/pooling.py'\n",
            "  adding 'apex/pyprof/prof/prof.py'\n",
            "  adding 'apex/pyprof/prof/randomSample.py'\n",
            "  adding 'apex/pyprof/prof/recurrentCell.py'\n",
            "  adding 'apex/pyprof/prof/reduction.py'\n",
            "  adding 'apex/pyprof/prof/softmax.py'\n",
            "  adding 'apex/pyprof/prof/usage.py'\n",
            "  adding 'apex/pyprof/prof/utility.py'\n",
            "  adding 'apex/reparameterization/__init__.py'\n",
            "  adding 'apex/reparameterization/reparameterization.py'\n",
            "  adding 'apex/reparameterization/weight_norm.py'\n",
            "  adding 'apex-0.1.dist-info/LICENSE'\n",
            "  adding 'apex-0.1.dist-info/METADATA'\n",
            "  adding 'apex-0.1.dist-info/WHEEL'\n",
            "  adding 'apex-0.1.dist-info/top_level.txt'\n",
            "  adding 'apex-0.1.dist-info/RECORD'\n",
            "  removing build/bdist.linux-x86_64/wheel\n",
            "\u001b[?25hdone\n",
            "  Created wheel for apex: filename=apex-0.1-cp36-none-any.whl size=175322 sha256=48163cfcec237278f86dac33ee28a48f751114ca8005e05655d3c66ef6d5f82c\n",
            "  Stored in directory: /tmp/pip-ephem-wheel-cache-4xptsqbo/wheels/b1/3a/aa/d84906eaab780ae580c7a5686a33bf2820d8590ac3b60d5967\n",
            "  Removing source in /tmp/pip-req-build-81jv9bm7\n",
            "Successfully built apex\n",
            "Installing collected packages: apex\n",
            "\n",
            "Successfully installed apex-0.1\n",
            "Cleaning up...\n",
            "Removed build tracker '/tmp/pip-req-tracker-2e8wriga'\n"
          ],
          "name": "stdout"
        }
      ]
    },
    {
      "cell_type": "code",
      "metadata": {
        "id": "D66nQbzO9cYu",
        "colab_type": "code",
        "outputId": "5e8b4be0-9922-4ec8-e6a6-767f0c11a093",
        "colab": {
          "base_uri": "https://localhost:8080/",
          "height": 52
        }
      },
      "source": [
        "import pandas as pd\n",
        "import numpy as np\n",
        "from transformers import *\n",
        "\n",
        "import nltk\n",
        "nltk.download('stopwords')\n",
        "from nltk.corpus import stopwords\n",
        "from nltk.util import ngrams\n",
        "stop = stopwords.words('english')\n",
        "stop.pop(118)\n",
        "\n",
        "from sklearn.model_selection import train_test_split\n",
        "\n",
        "from simpletransformers.classification import ClassificationModel\n",
        "\n",
        "from sklearn.metrics import mean_absolute_error, accuracy_score"
      ],
      "execution_count": 3,
      "outputs": [
        {
          "output_type": "stream",
          "text": [
            "[nltk_data] Downloading package stopwords to /root/nltk_data...\n",
            "[nltk_data]   Unzipping corpora/stopwords.zip.\n"
          ],
          "name": "stdout"
        }
      ]
    },
    {
      "cell_type": "code",
      "metadata": {
        "id": "mMQlRnxa-LXO",
        "colab_type": "code",
        "outputId": "7d6787a2-863a-4677-f53e-4706109a83f0",
        "colab": {
          "base_uri": "https://localhost:8080/",
          "height": 124
        }
      },
      "source": [
        "from google.colab import drive\n",
        "drive.mount('/content/drive')"
      ],
      "execution_count": 4,
      "outputs": [
        {
          "output_type": "stream",
          "text": [
            "Go to this URL in a browser: https://accounts.google.com/o/oauth2/auth?client_id=947318989803-6bn6qk8qdgf4n4g3pfee6491hc0brc4i.apps.googleusercontent.com&redirect_uri=urn%3aietf%3awg%3aoauth%3a2.0%3aoob&response_type=code&scope=email%20https%3a%2f%2fwww.googleapis.com%2fauth%2fdocs.test%20https%3a%2f%2fwww.googleapis.com%2fauth%2fdrive%20https%3a%2f%2fwww.googleapis.com%2fauth%2fdrive.photos.readonly%20https%3a%2f%2fwww.googleapis.com%2fauth%2fpeopleapi.readonly\n",
            "\n",
            "Enter your authorization code:\n",
            "··········\n",
            "Mounted at /content/drive\n"
          ],
          "name": "stdout"
        }
      ]
    },
    {
      "cell_type": "code",
      "metadata": {
        "id": "YiVsjf9N9cYy",
        "colab_type": "code",
        "colab": {}
      },
      "source": [
        "read_path = \"/content/drive/My Drive/cs182final/yelp_review_training_dataset.jsonl\"\n",
        "data = pd.read_json(read_path, lines = True)"
      ],
      "execution_count": 0,
      "outputs": []
    },
    {
      "cell_type": "code",
      "metadata": {
        "scrolled": true,
        "id": "-70ArtTD9cY2",
        "colab_type": "code",
        "colab": {}
      },
      "source": [
        "data = data.drop([\"review_id\"], axis =1)"
      ],
      "execution_count": 0,
      "outputs": []
    },
    {
      "cell_type": "code",
      "metadata": {
        "id": "gtFeqclA9cY6",
        "colab_type": "code",
        "outputId": "94121932-b5f3-4e2f-b166-5a36e5d1eeaa",
        "colab": {
          "base_uri": "https://localhost:8080/",
          "height": 202
        }
      },
      "source": [
        "data.head()"
      ],
      "execution_count": 7,
      "outputs": [
        {
          "output_type": "execute_result",
          "data": {
            "text/html": [
              "<div>\n",
              "<style scoped>\n",
              "    .dataframe tbody tr th:only-of-type {\n",
              "        vertical-align: middle;\n",
              "    }\n",
              "\n",
              "    .dataframe tbody tr th {\n",
              "        vertical-align: top;\n",
              "    }\n",
              "\n",
              "    .dataframe thead th {\n",
              "        text-align: right;\n",
              "    }\n",
              "</style>\n",
              "<table border=\"1\" class=\"dataframe\">\n",
              "  <thead>\n",
              "    <tr style=\"text-align: right;\">\n",
              "      <th></th>\n",
              "      <th>text</th>\n",
              "      <th>stars</th>\n",
              "    </tr>\n",
              "  </thead>\n",
              "  <tbody>\n",
              "    <tr>\n",
              "      <th>0</th>\n",
              "      <td>Total bill for this horrible service? Over $8G...</td>\n",
              "      <td>1</td>\n",
              "    </tr>\n",
              "    <tr>\n",
              "      <th>1</th>\n",
              "      <td>I *adore* Travis at the Hard Rock's new Kelly ...</td>\n",
              "      <td>5</td>\n",
              "    </tr>\n",
              "    <tr>\n",
              "      <th>2</th>\n",
              "      <td>I have to say that this office really has it t...</td>\n",
              "      <td>5</td>\n",
              "    </tr>\n",
              "    <tr>\n",
              "      <th>3</th>\n",
              "      <td>Went in for a lunch. Steak sandwich was delici...</td>\n",
              "      <td>5</td>\n",
              "    </tr>\n",
              "    <tr>\n",
              "      <th>4</th>\n",
              "      <td>Today was my second out of three sessions I ha...</td>\n",
              "      <td>1</td>\n",
              "    </tr>\n",
              "  </tbody>\n",
              "</table>\n",
              "</div>"
            ],
            "text/plain": [
              "                                                text  stars\n",
              "0  Total bill for this horrible service? Over $8G...      1\n",
              "1  I *adore* Travis at the Hard Rock's new Kelly ...      5\n",
              "2  I have to say that this office really has it t...      5\n",
              "3  Went in for a lunch. Steak sandwich was delici...      5\n",
              "4  Today was my second out of three sessions I ha...      1"
            ]
          },
          "metadata": {
            "tags": []
          },
          "execution_count": 7
        }
      ]
    },
    {
      "cell_type": "code",
      "metadata": {
        "id": "EDHaIovB9cY9",
        "colab_type": "code",
        "outputId": "6cf7c7df-fcbc-411b-c3da-0ad66938f12c",
        "colab": {
          "base_uri": "https://localhost:8080/",
          "height": 202
        }
      },
      "source": [
        "data[\"text\"] = data['text'].str.replace('[^\\w\\s]','').str.lower()\n",
        "data[\"text\"] = data['text'].str.replace('\\d+', '')\n",
        "data['text'] = data['text'].apply(lambda x: [item for item in x.split() if item not in stop])\n",
        "data['text'] = data['text'].apply(lambda x: ' '.join(x))\n",
        "\n",
        "data.head()"
      ],
      "execution_count": 8,
      "outputs": [
        {
          "output_type": "execute_result",
          "data": {
            "text/html": [
              "<div>\n",
              "<style scoped>\n",
              "    .dataframe tbody tr th:only-of-type {\n",
              "        vertical-align: middle;\n",
              "    }\n",
              "\n",
              "    .dataframe tbody tr th {\n",
              "        vertical-align: top;\n",
              "    }\n",
              "\n",
              "    .dataframe thead th {\n",
              "        text-align: right;\n",
              "    }\n",
              "</style>\n",
              "<table border=\"1\" class=\"dataframe\">\n",
              "  <thead>\n",
              "    <tr style=\"text-align: right;\">\n",
              "      <th></th>\n",
              "      <th>text</th>\n",
              "      <th>stars</th>\n",
              "    </tr>\n",
              "  </thead>\n",
              "  <tbody>\n",
              "    <tr>\n",
              "      <th>0</th>\n",
              "      <td>total bill horrible service gs crooks actually...</td>\n",
              "      <td>1</td>\n",
              "    </tr>\n",
              "    <tr>\n",
              "      <th>1</th>\n",
              "      <td>adore travis hard rocks new kelly cardenas sal...</td>\n",
              "      <td>5</td>\n",
              "    </tr>\n",
              "    <tr>\n",
              "      <th>2</th>\n",
              "      <td>say office really together organized friendly ...</td>\n",
              "      <td>5</td>\n",
              "    </tr>\n",
              "    <tr>\n",
              "      <th>3</th>\n",
              "      <td>went lunch steak sandwich delicious caesar sal...</td>\n",
              "      <td>5</td>\n",
              "    </tr>\n",
              "    <tr>\n",
              "      <th>4</th>\n",
              "      <td>today second three sessions paid although firs...</td>\n",
              "      <td>1</td>\n",
              "    </tr>\n",
              "  </tbody>\n",
              "</table>\n",
              "</div>"
            ],
            "text/plain": [
              "                                                text  stars\n",
              "0  total bill horrible service gs crooks actually...      1\n",
              "1  adore travis hard rocks new kelly cardenas sal...      5\n",
              "2  say office really together organized friendly ...      5\n",
              "3  went lunch steak sandwich delicious caesar sal...      5\n",
              "4  today second three sessions paid although firs...      1"
            ]
          },
          "metadata": {
            "tags": []
          },
          "execution_count": 8
        }
      ]
    },
    {
      "cell_type": "code",
      "metadata": {
        "id": "5W9SqjhP9cZA",
        "colab_type": "code",
        "outputId": "e7b0d440-c8a5-491a-cb6b-9bc2aec30486",
        "colab": {
          "base_uri": "https://localhost:8080/",
          "height": 35
        }
      },
      "source": [
        "data.sample(frac=1)\n",
        "data_sample = data.iloc[:10000]\n",
        "data_sample.columns = ['text', 'labels']\n",
        "train, validation = train_test_split(data_sample, test_size=0.2)\n",
        "data_sample.shape"
      ],
      "execution_count": 9,
      "outputs": [
        {
          "output_type": "execute_result",
          "data": {
            "text/plain": [
              "(10000, 2)"
            ]
          },
          "metadata": {
            "tags": []
          },
          "execution_count": 9
        }
      ]
    },
    {
      "cell_type": "code",
      "metadata": {
        "id": "aGH2k6h09cZF",
        "colab_type": "code",
        "outputId": "2e11fd43-de95-4033-bd52-d4e2da610f55",
        "colab": {
          "base_uri": "https://localhost:8080/",
          "height": 215,
          "referenced_widgets": [
            "5863fcc3f83b41a885b1db76cf06cd0a",
            "1255bdf6b95b47a0b7d90fb22d763d56",
            "5b1ee62218734c4fa44ee63578dfb7ee",
            "903dd2f893dc4e119952df757ae30179",
            "6e6cb0db4a924fa3861da2b6facfe3b0",
            "e08e37cd97244f8d8f3edf7b28290252",
            "40bfe41ffdf745b7bf91529fb0283cda",
            "b12a0122c0ab4eb7b9599c660e52c85b",
            "6e767d4ddf064fa9a48515cc1562023b",
            "8cfaa326821a4583b65e7d06ec71c843",
            "6531c162c875492d8c446a36107a5f40",
            "064cc55f80fc4ab6be22270970a5a81e",
            "2590cc3f30c54c3ba252da0ac07cb87e",
            "f09f253c37014f64ac0df610e5707960",
            "535e518be3da454ca56e3215c7042bbb",
            "e8491934663d4359ae0dbda0a1a0981f",
            "bdba5c8ed2f143faae45751c11eb125b",
            "9d0d89c50d0e4f39bf280c1da788ff39",
            "e856e792822243828d3286cc912236b0",
            "4d24aa8ea707401fa100c54cbdcfde83",
            "405c1fc5dea8408f8f31754339eeaf2a",
            "f2fe9809cadf41408ffbfd42e1b19fdf",
            "82fa5234e6274f7d804388fd84ff246e",
            "522d3fe6bf664f85a797a632fa0b2d9d",
            "0ee0ea513d254fb1a4aed409187a07b0",
            "1e9c227a379b46af809474da4525f55f",
            "8acbce97dd764f37bc3f05ade9967ff3",
            "466412a4d06b411d97a3b1b9c89bebe2",
            "795a920b579d43bfbade601065bdefb1",
            "4539357d5d5e4ea4a1b66845efed0382",
            "9f26ffba3a8244598b5488f0694b0db7",
            "65761d1bc7754865beeeea01a723da4e"
          ]
        }
      },
      "source": [
        "model = ClassificationModel('roberta', 'roberta-base', num_labels=6, use_cuda=True, args = {'output_dir' : \"outputs_roberta/\", \"overwrite_output_dir\" : True})"
      ],
      "execution_count": 10,
      "outputs": [
        {
          "output_type": "display_data",
          "data": {
            "application/vnd.jupyter.widget-view+json": {
              "model_id": "5863fcc3f83b41a885b1db76cf06cd0a",
              "version_minor": 0,
              "version_major": 2
            },
            "text/plain": [
              "HBox(children=(FloatProgress(value=0.0, description='Downloading', max=481.0, style=ProgressStyle(description_…"
            ]
          },
          "metadata": {
            "tags": []
          }
        },
        {
          "output_type": "stream",
          "text": [
            "\n"
          ],
          "name": "stdout"
        },
        {
          "output_type": "display_data",
          "data": {
            "application/vnd.jupyter.widget-view+json": {
              "model_id": "6e767d4ddf064fa9a48515cc1562023b",
              "version_minor": 0,
              "version_major": 2
            },
            "text/plain": [
              "HBox(children=(FloatProgress(value=0.0, description='Downloading', max=501200538.0, style=ProgressStyle(descri…"
            ]
          },
          "metadata": {
            "tags": []
          }
        },
        {
          "output_type": "stream",
          "text": [
            "\n"
          ],
          "name": "stdout"
        },
        {
          "output_type": "display_data",
          "data": {
            "application/vnd.jupyter.widget-view+json": {
              "model_id": "bdba5c8ed2f143faae45751c11eb125b",
              "version_minor": 0,
              "version_major": 2
            },
            "text/plain": [
              "HBox(children=(FloatProgress(value=0.0, description='Downloading', max=898823.0, style=ProgressStyle(descripti…"
            ]
          },
          "metadata": {
            "tags": []
          }
        },
        {
          "output_type": "stream",
          "text": [
            "\n"
          ],
          "name": "stdout"
        },
        {
          "output_type": "display_data",
          "data": {
            "application/vnd.jupyter.widget-view+json": {
              "model_id": "0ee0ea513d254fb1a4aed409187a07b0",
              "version_minor": 0,
              "version_major": 2
            },
            "text/plain": [
              "HBox(children=(FloatProgress(value=0.0, description='Downloading', max=456318.0, style=ProgressStyle(descripti…"
            ]
          },
          "metadata": {
            "tags": []
          }
        },
        {
          "output_type": "stream",
          "text": [
            "\n"
          ],
          "name": "stdout"
        }
      ]
    },
    {
      "cell_type": "markdown",
      "metadata": {
        "id": "WcyATNwhxMuo",
        "colab_type": "text"
      },
      "source": [
        ""
      ]
    },
    {
      "cell_type": "code",
      "metadata": {
        "id": "JSti0QtC9cZH",
        "colab_type": "code",
        "outputId": "d316c5be-fc9f-4a17-96a6-9a7dbf76b9a8",
        "colab": {
          "base_uri": "https://localhost:8080/",
          "height": 775,
          "referenced_widgets": [
            "2c73c3ae9ef34864a16571294e4112c1",
            "77c9fd5bd40b4c2a80c246d9c4a372a9",
            "111aac041eba4fb8a134561413019b6c",
            "e9e73ee04c1f4eabb377461684f8fb45",
            "5420c804cd3448d994b2415646d463be",
            "a0a06f42648948478edb35e3375f9696",
            "b4db81bfd7474b46a4f90274c44a7e53",
            "396426fec94f44eab0d7b957df619c43",
            "2e2801217757421d9995599d6d297590",
            "9090172459584ff4a790448c74c53a50",
            "34f39718fc1f4ee2becbb7fc97e89e9f",
            "11a9cb557345448d8042aaaa13528fdc",
            "f4e0aebcc9ca407f99c03b3532ac5ce0",
            "07c60714b122401289f6b300a89f7b7c",
            "65c0632bbfa64781a5be1fb3d2d91bf6",
            "bf26c2a005eb4177b85e5a3781693742",
            "68c6a3d501d94d129b8ad3d588a80f25",
            "20c2531f370d4beea3c668c5a59d22fb",
            "ec358242ea494231927cbe789a4d89e2",
            "004df367b4f949bc8d69551239709c91",
            "f2b288f30763478c83ae77d28aab451b",
            "375b88c3eaf24410a2c504db3dab2b19",
            "90d02570ced1470abc14652101862bf1",
            "7c4ae93b35d8443794467fa3532c6076"
          ]
        }
      },
      "source": [
        "model.train_model(train)"
      ],
      "execution_count": 11,
      "outputs": [
        {
          "output_type": "display_data",
          "data": {
            "application/vnd.jupyter.widget-view+json": {
              "model_id": "2c73c3ae9ef34864a16571294e4112c1",
              "version_minor": 0,
              "version_major": 2
            },
            "text/plain": [
              "HBox(children=(FloatProgress(value=0.0, max=8000.0), HTML(value='')))"
            ]
          },
          "metadata": {
            "tags": []
          }
        },
        {
          "output_type": "stream",
          "text": [
            "\n",
            "Selected optimization level O1:  Insert automatic casts around Pytorch functions and Tensor methods.\n",
            "\n",
            "Defaults for this optimization level are:\n",
            "enabled                : True\n",
            "opt_level              : O1\n",
            "cast_model_type        : None\n",
            "patch_torch_functions  : True\n",
            "keep_batchnorm_fp32    : None\n",
            "master_weights         : None\n",
            "loss_scale             : dynamic\n",
            "Processing user overrides (additional kwargs that are not None)...\n",
            "After processing overrides, optimization options are:\n",
            "enabled                : True\n",
            "opt_level              : O1\n",
            "cast_model_type        : None\n",
            "patch_torch_functions  : True\n",
            "keep_batchnorm_fp32    : None\n",
            "master_weights         : None\n",
            "loss_scale             : dynamic\n",
            "Warning:  multi_tensor_applier fused unscale kernel is unavailable, possibly because apex was installed without --cuda_ext --cpp_ext. Using Python fallback.  Original ImportError was: ModuleNotFoundError(\"No module named 'amp_C'\",)\n"
          ],
          "name": "stdout"
        },
        {
          "output_type": "display_data",
          "data": {
            "application/vnd.jupyter.widget-view+json": {
              "model_id": "2e2801217757421d9995599d6d297590",
              "version_minor": 0,
              "version_major": 2
            },
            "text/plain": [
              "HBox(children=(FloatProgress(value=0.0, description='Epoch', max=1.0, style=ProgressStyle(description_width='i…"
            ]
          },
          "metadata": {
            "tags": []
          }
        },
        {
          "output_type": "display_data",
          "data": {
            "application/vnd.jupyter.widget-view+json": {
              "model_id": "68c6a3d501d94d129b8ad3d588a80f25",
              "version_minor": 0,
              "version_major": 2
            },
            "text/plain": [
              "HBox(children=(FloatProgress(value=0.0, description='Current iteration', max=1000.0, style=ProgressStyle(descr…"
            ]
          },
          "metadata": {
            "tags": []
          }
        },
        {
          "output_type": "stream",
          "text": [
            "\rRunning loss: 1.759040"
          ],
          "name": "stdout"
        },
        {
          "output_type": "stream",
          "text": [
            "/pytorch/torch/csrc/utils/python_arg_parser.cpp:756: UserWarning: This overload of add_ is deprecated:\n",
            "\tadd_(Number alpha, Tensor other)\n",
            "Consider using one of the following signatures instead:\n",
            "\tadd_(Tensor other, *, Number alpha)\n",
            "/usr/local/lib/python3.6/dist-packages/torch/optim/lr_scheduler.py:114: UserWarning: Seems like `optimizer.step()` has been overridden after learning rate scheduler initialization. Please, make sure to call `optimizer.step()` before `lr_scheduler.step()`. See more details at https://pytorch.org/docs/stable/optim.html#how-to-adjust-learning-rate\n",
            "  \"https://pytorch.org/docs/stable/optim.html#how-to-adjust-learning-rate\", UserWarning)\n"
          ],
          "name": "stderr"
        },
        {
          "output_type": "stream",
          "text": [
            "Running loss: 1.650070"
          ],
          "name": "stdout"
        },
        {
          "output_type": "stream",
          "text": [
            "/usr/local/lib/python3.6/dist-packages/torch/optim/lr_scheduler.py:231: UserWarning: To get the last learning rate computed by the scheduler, please use `get_last_lr()`.\n",
            "  warnings.warn(\"To get the last learning rate computed by the scheduler, \"\n"
          ],
          "name": "stderr"
        },
        {
          "output_type": "stream",
          "text": [
            "Running loss: 1.156027Gradient overflow.  Skipping step, loss scaler 0 reducing loss scale to 32768.0\n",
            "Running loss: 1.171499Gradient overflow.  Skipping step, loss scaler 0 reducing loss scale to 16384.0\n",
            "Running loss: 0.766126Gradient overflow.  Skipping step, loss scaler 0 reducing loss scale to 8192.0\n",
            "Running loss: 0.620604Gradient overflow.  Skipping step, loss scaler 0 reducing loss scale to 4096.0\n",
            "Running loss: 1.031548\n"
          ],
          "name": "stdout"
        },
        {
          "output_type": "stream",
          "text": [
            "/usr/local/lib/python3.6/dist-packages/torch/optim/lr_scheduler.py:200: UserWarning: Please also save or load the state of the optimzer when saving or loading the scheduler.\n",
            "  warnings.warn(SAVE_STATE_WARNING, UserWarning)\n"
          ],
          "name": "stderr"
        },
        {
          "output_type": "stream",
          "text": [
            "\n"
          ],
          "name": "stdout"
        }
      ]
    },
    {
      "cell_type": "code",
      "metadata": {
        "id": "wng0h64i9cZN",
        "colab_type": "code",
        "outputId": "de8c516e-57d0-45f9-838f-9102c46b42a9",
        "colab": {
          "base_uri": "https://localhost:8080/",
          "height": 116,
          "referenced_widgets": [
            "14eb107097134a1081200120b4855bd9",
            "31d0f6f38236478bb6f9997a60ea4638",
            "155aba58f4dd411db6679b5c1772e18a",
            "8a6cc7b57bff49cf80b288c75400189a",
            "2c555bb502974fd097f3e7e01c40d9a7",
            "161081284b4c43e6a458fbd81d5071b2",
            "613850f7732d480c90c119d8fb65ff8f",
            "77da921c1b5640b991f454c7acf72dde",
            "cc1080de8a9b40078fb1225afeb74bc0",
            "c210b5f6fa4746529d3e4d295c16fe50",
            "5fb94cb841f24351b9608037bd02c027",
            "4b8ac5454f214866a41afbde8dcbc997",
            "f040e69c3d8c424b9d16147c569e2092",
            "8c4dc85895c74eb28a36cf6941bbe3a0",
            "05de7590466f491cb03c63740ae36923",
            "df36f089a62a481d8a74f5098cb28438"
          ]
        }
      },
      "source": [
        "result, model_outputs, wrong_predictions = model.eval_model(validation, MAE=mean_absolute_error, acc=accuracy_score)"
      ],
      "execution_count": 12,
      "outputs": [
        {
          "output_type": "display_data",
          "data": {
            "application/vnd.jupyter.widget-view+json": {
              "model_id": "14eb107097134a1081200120b4855bd9",
              "version_minor": 0,
              "version_major": 2
            },
            "text/plain": [
              "HBox(children=(FloatProgress(value=0.0, max=2000.0), HTML(value='')))"
            ]
          },
          "metadata": {
            "tags": []
          }
        },
        {
          "output_type": "stream",
          "text": [
            "\n"
          ],
          "name": "stdout"
        },
        {
          "output_type": "display_data",
          "data": {
            "application/vnd.jupyter.widget-view+json": {
              "model_id": "cc1080de8a9b40078fb1225afeb74bc0",
              "version_minor": 0,
              "version_major": 2
            },
            "text/plain": [
              "HBox(children=(FloatProgress(value=0.0, max=250.0), HTML(value='')))"
            ]
          },
          "metadata": {
            "tags": []
          }
        },
        {
          "output_type": "stream",
          "text": [
            "\n"
          ],
          "name": "stdout"
        }
      ]
    },
    {
      "cell_type": "code",
      "metadata": {
        "id": "L0WatXFv9cZQ",
        "colab_type": "code",
        "outputId": "99f084a9-244a-48e5-adfe-d60d839484f7",
        "colab": {
          "base_uri": "https://localhost:8080/",
          "height": 35
        }
      },
      "source": [
        "print(result)"
      ],
      "execution_count": 13,
      "outputs": [
        {
          "output_type": "stream",
          "text": [
            "{'mcc': 0.5723544056597207, 'MAE': 0.4085, 'acc': 0.7015, 'eval_loss': 0.7503936570882798}\n"
          ],
          "name": "stdout"
        }
      ]
    },
    {
      "cell_type": "code",
      "metadata": {
        "id": "weNA3qrq9cZp",
        "colab_type": "code",
        "colab": {
          "base_uri": "https://localhost:8080/",
          "height": 139
        },
        "outputId": "e9e5ab56-931a-4559-8ca3-3c36c911ca95"
      },
      "source": [
        "print(model_outputs)"
      ],
      "execution_count": 14,
      "outputs": [
        {
          "output_type": "stream",
          "text": [
            "[[-2.8378906  -2.4199219  -1.8896484   0.37548828  2.8476562   3.8984375 ]\n",
            " [-3.7304688   0.07617188 -0.3828125   0.27001953  1.2265625   2.4355469 ]\n",
            " [-2.40625    -1.5048828  -2.0019531  -0.8232422   1.8017578   5.125     ]\n",
            " ...\n",
            " [-2.8203125  -1.9375     -1.9580078  -0.16699219  2.4335938   4.46875   ]\n",
            " [-2.4707031  -1.4541016  -1.9355469  -0.7841797   1.7998047   5.0859375 ]\n",
            " [-2.703125   -1.2734375  -1.8330078  -0.77783203  1.7060547   4.9882812 ]]\n"
          ],
          "name": "stdout"
        }
      ]
    },
    {
      "cell_type": "code",
      "metadata": {
        "id": "mBltR6wjtcyu",
        "colab_type": "code",
        "colab": {
          "base_uri": "https://localhost:8080/",
          "height": 55
        },
        "outputId": "e35d215b-7f10-471a-d4d6-72d530353281"
      },
      "source": [
        "print(wrong_predictions)"
      ],
      "execution_count": 15,
      "outputs": [
        {
          "output_type": "stream",
          "text": [
            "[<simpletransformers.classification.classification_utils.InputExample object at 0x7f39a47d6898>, <simpletransformers.classification.classification_utils.InputExample object at 0x7f39a67c9e80>, <simpletransformers.classification.classification_utils.InputExample object at 0x7f39a67c92b0>, <simpletransformers.classification.classification_utils.InputExample object at 0x7f39a67c90f0>, <simpletransformers.classification.classification_utils.InputExample object at 0x7f39a67c9320>, <simpletransformers.classification.classification_utils.InputExample object at 0x7f39a67c9550>, <simpletransformers.classification.classification_utils.InputExample object at 0x7f39a67c95f8>, <simpletransformers.classification.classification_utils.InputExample object at 0x7f39a67c9860>, <simpletransformers.classification.classification_utils.InputExample object at 0x7f39a67c9898>, <simpletransformers.classification.classification_utils.InputExample object at 0x7f39a67c9940>, <simpletransformers.classification.classification_utils.InputExample object at 0x7f39a67c9978>, <simpletransformers.classification.classification_utils.InputExample object at 0x7f39a67c9da0>, <simpletransformers.classification.classification_utils.InputExample object at 0x7f39a67c9ac8>, <simpletransformers.classification.classification_utils.InputExample object at 0x7f39a67c9cc0>, <simpletransformers.classification.classification_utils.InputExample object at 0x7f39a7fc2470>, <simpletransformers.classification.classification_utils.InputExample object at 0x7f3990f5bf98>, <simpletransformers.classification.classification_utils.InputExample object at 0x7f39a671de48>, <simpletransformers.classification.classification_utils.InputExample object at 0x7f3992673080>, <simpletransformers.classification.classification_utils.InputExample object at 0x7f3992673a58>, <simpletransformers.classification.classification_utils.InputExample object at 0x7f3992673550>, <simpletransformers.classification.classification_utils.InputExample object at 0x7f3992673438>, <simpletransformers.classification.classification_utils.InputExample object at 0x7f3992673860>, <simpletransformers.classification.classification_utils.InputExample object at 0x7f3992673470>, <simpletransformers.classification.classification_utils.InputExample object at 0x7f39926734a8>, <simpletransformers.classification.classification_utils.InputExample object at 0x7f39a6f145c0>, <simpletransformers.classification.classification_utils.InputExample object at 0x7f39a6f14438>, <simpletransformers.classification.classification_utils.InputExample object at 0x7f39a6f14518>, <simpletransformers.classification.classification_utils.InputExample object at 0x7f39a86b96d8>, <simpletransformers.classification.classification_utils.InputExample object at 0x7f39a3023e80>, <simpletransformers.classification.classification_utils.InputExample object at 0x7f39a30235f8>, <simpletransformers.classification.classification_utils.InputExample object at 0x7f39a3023c88>, <simpletransformers.classification.classification_utils.InputExample object at 0x7f39a30234e0>, <simpletransformers.classification.classification_utils.InputExample object at 0x7f39a3023630>, <simpletransformers.classification.classification_utils.InputExample object at 0x7f39a30236a0>, <simpletransformers.classification.classification_utils.InputExample object at 0x7f39a3023748>, <simpletransformers.classification.classification_utils.InputExample object at 0x7f39a3023d30>, <simpletransformers.classification.classification_utils.InputExample object at 0x7f39a3023cc0>, <simpletransformers.classification.classification_utils.InputExample object at 0x7f39a3023940>, <simpletransformers.classification.classification_utils.InputExample object at 0x7f39a3023588>, <simpletransformers.classification.classification_utils.InputExample object at 0x7f39a3023b70>, <simpletransformers.classification.classification_utils.InputExample object at 0x7f39a3023f60>, <simpletransformers.classification.classification_utils.InputExample object at 0x7f39a3023b38>, <simpletransformers.classification.classification_utils.InputExample object at 0x7f397aac5a90>, <simpletransformers.classification.classification_utils.InputExample object at 0x7f397aac5b00>, <simpletransformers.classification.classification_utils.InputExample object at 0x7f397aac5da0>, <simpletransformers.classification.classification_utils.InputExample object at 0x7f397aac55c0>, <simpletransformers.classification.classification_utils.InputExample object at 0x7f397aac5160>, <simpletransformers.classification.classification_utils.InputExample object at 0x7f397aac5198>, <simpletransformers.classification.classification_utils.InputExample object at 0x7f397aac57b8>, <simpletransformers.classification.classification_utils.InputExample object at 0x7f397aac5240>, <simpletransformers.classification.classification_utils.InputExample object at 0x7f397aac52e8>, <simpletransformers.classification.classification_utils.InputExample object at 0x7f397aac54a8>, <simpletransformers.classification.classification_utils.InputExample object at 0x7f397aac5550>, <simpletransformers.classification.classification_utils.InputExample object at 0x7f397aac5630>, <simpletransformers.classification.classification_utils.InputExample object at 0x7f397aac5668>, <simpletransformers.classification.classification_utils.InputExample object at 0x7f397aac57f0>, <simpletransformers.classification.classification_utils.InputExample object at 0x7f397aac5860>, <simpletransformers.classification.classification_utils.InputExample object at 0x7f397aac5908>, <simpletransformers.classification.classification_utils.InputExample object at 0x7f397aac5978>, <simpletransformers.classification.classification_utils.InputExample object at 0x7f397aac59b0>, <simpletransformers.classification.classification_utils.InputExample object at 0x7f397aac5a58>, <simpletransformers.classification.classification_utils.InputExample object at 0x7f397aac5ba8>, <simpletransformers.classification.classification_utils.InputExample object at 0x7f397aac5be0>, <simpletransformers.classification.classification_utils.InputExample object at 0x7f397aac5748>, <simpletransformers.classification.classification_utils.InputExample object at 0x7f397aac5e48>, <simpletransformers.classification.classification_utils.InputExample object at 0x7f397aac5e80>, <simpletransformers.classification.classification_utils.InputExample object at 0x7f397aac5eb8>, <simpletransformers.classification.classification_utils.InputExample object at 0x7f39a590e278>, <simpletransformers.classification.classification_utils.InputExample object at 0x7f39a590ef98>, <simpletransformers.classification.classification_utils.InputExample object at 0x7f39a590e668>, <simpletransformers.classification.classification_utils.InputExample object at 0x7f39a590ee48>, <simpletransformers.classification.classification_utils.InputExample object at 0x7f39a590e710>, <simpletransformers.classification.classification_utils.InputExample object at 0x7f39a590e5c0>, <simpletransformers.classification.classification_utils.InputExample object at 0x7f39a590e3c8>, <simpletransformers.classification.classification_utils.InputExample object at 0x7f39a590e7b8>, <simpletransformers.classification.classification_utils.InputExample object at 0x7f39a590e470>, <simpletransformers.classification.classification_utils.InputExample object at 0x7f39a6862278>, <simpletransformers.classification.classification_utils.InputExample object at 0x7f39a68624a8>, <simpletransformers.classification.classification_utils.InputExample object at 0x7f39a68627b8>, <simpletransformers.classification.classification_utils.InputExample object at 0x7f39a6862828>, <simpletransformers.classification.classification_utils.InputExample object at 0x7f39a6862a58>, <simpletransformers.classification.classification_utils.InputExample object at 0x7f39a6862b70>, <simpletransformers.classification.classification_utils.InputExample object at 0x7f39a6862d68>, <simpletransformers.classification.classification_utils.InputExample object at 0x7f39a6862ef0>, <simpletransformers.classification.classification_utils.InputExample object at 0x7f39a6862438>, <simpletransformers.classification.classification_utils.InputExample object at 0x7f39a5257f98>, <simpletransformers.classification.classification_utils.InputExample object at 0x7f39a5257ef0>, <simpletransformers.classification.classification_utils.InputExample object at 0x7f39a52570b8>, <simpletransformers.classification.classification_utils.InputExample object at 0x7f39a5257358>, <simpletransformers.classification.classification_utils.InputExample object at 0x7f39a5257390>, <simpletransformers.classification.classification_utils.InputExample object at 0x7f39a5257400>, <simpletransformers.classification.classification_utils.InputExample object at 0x7f39a5257470>, <simpletransformers.classification.classification_utils.InputExample object at 0x7f39a52579b0>, <simpletransformers.classification.classification_utils.InputExample object at 0x7f39a5257c18>, <simpletransformers.classification.classification_utils.InputExample object at 0x7f39a5257e80>, <simpletransformers.classification.classification_utils.InputExample object at 0x7f3991e71128>, <simpletransformers.classification.classification_utils.InputExample object at 0x7f3991e71518>, <simpletransformers.classification.classification_utils.InputExample object at 0x7f3991e715c0>, <simpletransformers.classification.classification_utils.InputExample object at 0x7f3991e719b0>, <simpletransformers.classification.classification_utils.InputExample object at 0x7f3991e71a58>, <simpletransformers.classification.classification_utils.InputExample object at 0x7f3991e71cf8>, <simpletransformers.classification.classification_utils.InputExample object at 0x7f3991e71860>, <simpletransformers.classification.classification_utils.InputExample object at 0x7f3991e71080>, <simpletransformers.classification.classification_utils.InputExample object at 0x7f3991e71470>, <simpletransformers.classification.classification_utils.InputExample object at 0x7f3991e71320>, <simpletransformers.classification.classification_utils.InputExample object at 0x7f39365de908>, <simpletransformers.classification.classification_utils.InputExample object at 0x7f39365dee10>, <simpletransformers.classification.classification_utils.InputExample object at 0x7f39a71e54e0>, <simpletransformers.classification.classification_utils.InputExample object at 0x7f39a71e5f98>, <simpletransformers.classification.classification_utils.InputExample object at 0x7f39a71e5ac8>, <simpletransformers.classification.classification_utils.InputExample object at 0x7f39a71e5cc0>, <simpletransformers.classification.classification_utils.InputExample object at 0x7f39781a1198>, <simpletransformers.classification.classification_utils.InputExample object at 0x7f39781a1080>, <simpletransformers.classification.classification_utils.InputExample object at 0x7f39781a11d0>, <simpletransformers.classification.classification_utils.InputExample object at 0x7f3991e773c8>, <simpletransformers.classification.classification_utils.InputExample object at 0x7f3991e775c0>, <simpletransformers.classification.classification_utils.InputExample object at 0x7f3991e77320>, <simpletransformers.classification.classification_utils.InputExample object at 0x7f3991e77b00>, <simpletransformers.classification.classification_utils.InputExample object at 0x7f3991e77080>, <simpletransformers.classification.classification_utils.InputExample object at 0x7f3991e771d0>, <simpletransformers.classification.classification_utils.InputExample object at 0x7f3991e779b0>, <simpletransformers.classification.classification_utils.InputExample object at 0x7f3991e77ba8>, <simpletransformers.classification.classification_utils.InputExample object at 0x7f3991e77128>, <simpletransformers.classification.classification_utils.InputExample object at 0x7f3991e77da0>, <simpletransformers.classification.classification_utils.InputExample object at 0x7f39a4202e48>, <simpletransformers.classification.classification_utils.InputExample object at 0x7f39a4202080>, <simpletransformers.classification.classification_utils.InputExample object at 0x7f39a4202860>, <simpletransformers.classification.classification_utils.InputExample object at 0x7f39a4202b00>, <simpletransformers.classification.classification_utils.InputExample object at 0x7f39a4202cf8>, <simpletransformers.classification.classification_utils.InputExample object at 0x7f39a4202908>, <simpletransformers.classification.classification_utils.InputExample object at 0x7f39a42029b0>, <simpletransformers.classification.classification_utils.InputExample object at 0x7f399aacee10>, <simpletransformers.classification.classification_utils.InputExample object at 0x7f399aace9b0>, <simpletransformers.classification.classification_utils.InputExample object at 0x7f399aace780>, <simpletransformers.classification.classification_utils.InputExample object at 0x7f399aacec18>, <simpletransformers.classification.classification_utils.InputExample object at 0x7f399aace0b8>, <simpletransformers.classification.classification_utils.InputExample object at 0x7f39a58ee908>, <simpletransformers.classification.classification_utils.InputExample object at 0x7f39a58ee9b0>, <simpletransformers.classification.classification_utils.InputExample object at 0x7f39a58ee518>, <simpletransformers.classification.classification_utils.InputExample object at 0x7f39a58ee320>, <simpletransformers.classification.classification_utils.InputExample object at 0x7f39a58ee668>, <simpletransformers.classification.classification_utils.InputExample object at 0x7f39a635e748>, <simpletransformers.classification.classification_utils.InputExample object at 0x7f39a635e828>, <simpletransformers.classification.classification_utils.InputExample object at 0x7f39a635eda0>, <simpletransformers.classification.classification_utils.InputExample object at 0x7f39a635e438>, <simpletransformers.classification.classification_utils.InputExample object at 0x7f39a635e9e8>, <simpletransformers.classification.classification_utils.InputExample object at 0x7f39a635e4e0>, <simpletransformers.classification.classification_utils.InputExample object at 0x7f39a635eb00>, <simpletransformers.classification.classification_utils.InputExample object at 0x7f39a635eb70>, <simpletransformers.classification.classification_utils.InputExample object at 0x7f39a635ec50>, <simpletransformers.classification.classification_utils.InputExample object at 0x7f39a3e89438>, <simpletransformers.classification.classification_utils.InputExample object at 0x7f39a3e89630>, <simpletransformers.classification.classification_utils.InputExample object at 0x7f39a3e89668>, <simpletransformers.classification.classification_utils.InputExample object at 0x7f39a3e89748>, <simpletransformers.classification.classification_utils.InputExample object at 0x7f39a3e897b8>, <simpletransformers.classification.classification_utils.InputExample object at 0x7f39a3e897f0>, <simpletransformers.classification.classification_utils.InputExample object at 0x7f39a3e89940>, <simpletransformers.classification.classification_utils.InputExample object at 0x7f39a3e899b0>, <simpletransformers.classification.classification_utils.InputExample object at 0x7f39a3e89a20>, <simpletransformers.classification.classification_utils.InputExample object at 0x7f39a3e89a58>, <simpletransformers.classification.classification_utils.InputExample object at 0x7f39a3e89b38>, <simpletransformers.classification.classification_utils.InputExample object at 0x7f39a3e89ba8>, <simpletransformers.classification.classification_utils.InputExample object at 0x7f39a3e89c18>, <simpletransformers.classification.classification_utils.InputExample object at 0x7f39a3e89d68>, <simpletransformers.classification.classification_utils.InputExample object at 0x7f39a3e89da0>, <simpletransformers.classification.classification_utils.InputExample object at 0x7f39a3e89f60>, <simpletransformers.classification.classification_utils.InputExample object at 0x7f39a4dd5080>, <simpletransformers.classification.classification_utils.InputExample object at 0x7f39a4dd50b8>, <simpletransformers.classification.classification_utils.InputExample object at 0x7f39a4dd5198>, <simpletransformers.classification.classification_utils.InputExample object at 0x7f39a4dd52b0>, <simpletransformers.classification.classification_utils.InputExample object at 0x7f39a4dd54a8>, <simpletransformers.classification.classification_utils.InputExample object at 0x7f39a4dd5550>, <simpletransformers.classification.classification_utils.InputExample object at 0x7f39a4dd56d8>, <simpletransformers.classification.classification_utils.InputExample object at 0x7f39a4dd5828>, <simpletransformers.classification.classification_utils.InputExample object at 0x7f39a4dd5ac8>, <simpletransformers.classification.classification_utils.InputExample object at 0x7f39a4dd5b38>, <simpletransformers.classification.classification_utils.InputExample object at 0x7f39a4dd5b70>, <simpletransformers.classification.classification_utils.InputExample object at 0x7f39a4dd5ba8>, <simpletransformers.classification.classification_utils.InputExample object at 0x7f39a4dd5cc0>, <simpletransformers.classification.classification_utils.InputExample object at 0x7f39a4dd5cf8>, <simpletransformers.classification.classification_utils.InputExample object at 0x7f39a4dd5e48>, <simpletransformers.classification.classification_utils.InputExample object at 0x7f39a4dd5e80>, <simpletransformers.classification.classification_utils.InputExample object at 0x7f39a4dd5eb8>, <simpletransformers.classification.classification_utils.InputExample object at 0x7f39a4dd5f60>, <simpletransformers.classification.classification_utils.InputExample object at 0x7f39a42080b8>, <simpletransformers.classification.classification_utils.InputExample object at 0x7f39a4208208>, <simpletransformers.classification.classification_utils.InputExample object at 0x7f39a4208240>, <simpletransformers.classification.classification_utils.InputExample object at 0x7f39a42082e8>, <simpletransformers.classification.classification_utils.InputExample object at 0x7f39a4208438>, <simpletransformers.classification.classification_utils.InputExample object at 0x7f39a4208550>, <simpletransformers.classification.classification_utils.InputExample object at 0x7f39a4208630>, <simpletransformers.classification.classification_utils.InputExample object at 0x7f39a42087f0>, <simpletransformers.classification.classification_utils.InputExample object at 0x7f39a4208860>, <simpletransformers.classification.classification_utils.InputExample object at 0x7f39a4208b00>, <simpletransformers.classification.classification_utils.InputExample object at 0x7f39a4208b38>, <simpletransformers.classification.classification_utils.InputExample object at 0x7f39a4208b70>, <simpletransformers.classification.classification_utils.InputExample object at 0x7f39a4208c88>, <simpletransformers.classification.classification_utils.InputExample object at 0x7f39a4208d30>, <simpletransformers.classification.classification_utils.InputExample object at 0x7f39a4208da0>, <simpletransformers.classification.classification_utils.InputExample object at 0x7f39a4208f28>, <simpletransformers.classification.classification_utils.InputExample object at 0x7f39a4208f60>, <simpletransformers.classification.classification_utils.InputExample object at 0x7f39a4208f98>, <simpletransformers.classification.classification_utils.InputExample object at 0x7f39a41da128>, <simpletransformers.classification.classification_utils.InputExample object at 0x7f39a41da208>, <simpletransformers.classification.classification_utils.InputExample object at 0x7f39a41da2b0>, <simpletransformers.classification.classification_utils.InputExample object at 0x7f39a41da358>, <simpletransformers.classification.classification_utils.InputExample object at 0x7f39a41da3c8>, <simpletransformers.classification.classification_utils.InputExample object at 0x7f39a41da4a8>, <simpletransformers.classification.classification_utils.InputExample object at 0x7f39a41da4e0>, <simpletransformers.classification.classification_utils.InputExample object at 0x7f39a41da518>, <simpletransformers.classification.classification_utils.InputExample object at 0x7f39a41da5c0>, <simpletransformers.classification.classification_utils.InputExample object at 0x7f39a41da630>, <simpletransformers.classification.classification_utils.InputExample object at 0x7f39a41da6a0>, <simpletransformers.classification.classification_utils.InputExample object at 0x7f39a41da7f0>, <simpletransformers.classification.classification_utils.InputExample object at 0x7f39a41da898>, <simpletransformers.classification.classification_utils.InputExample object at 0x7f39a41daa20>, <simpletransformers.classification.classification_utils.InputExample object at 0x7f39a41dab38>, <simpletransformers.classification.classification_utils.InputExample object at 0x7f39a41daba8>, <simpletransformers.classification.classification_utils.InputExample object at 0x7f39a41dac18>, <simpletransformers.classification.classification_utils.InputExample object at 0x7f39a41dae10>, <simpletransformers.classification.classification_utils.InputExample object at 0x7f39a41dae48>, <simpletransformers.classification.classification_utils.InputExample object at 0x7f39a41daef0>, <simpletransformers.classification.classification_utils.InputExample object at 0x7f39a41daf60>, <simpletransformers.classification.classification_utils.InputExample object at 0x7f39a3ded208>, <simpletransformers.classification.classification_utils.InputExample object at 0x7f39a3ded240>, <simpletransformers.classification.classification_utils.InputExample object at 0x7f39a3ded2b0>, <simpletransformers.classification.classification_utils.InputExample object at 0x7f39a3ded2e8>, <simpletransformers.classification.classification_utils.InputExample object at 0x7f39a3ded358>, <simpletransformers.classification.classification_utils.InputExample object at 0x7f39a3ded470>, <simpletransformers.classification.classification_utils.InputExample object at 0x7f39a3ded550>, <simpletransformers.classification.classification_utils.InputExample object at 0x7f39a3ded588>, <simpletransformers.classification.classification_utils.InputExample object at 0x7f39a3ded630>, <simpletransformers.classification.classification_utils.InputExample object at 0x7f39a3ded780>, <simpletransformers.classification.classification_utils.InputExample object at 0x7f39a3ded828>, <simpletransformers.classification.classification_utils.InputExample object at 0x7f39a3ded860>, <simpletransformers.classification.classification_utils.InputExample object at 0x7f39a3ded8d0>, <simpletransformers.classification.classification_utils.InputExample object at 0x7f39a3ded908>, <simpletransformers.classification.classification_utils.InputExample object at 0x7f39a3deda20>, <simpletransformers.classification.classification_utils.InputExample object at 0x7f39a3deda58>, <simpletransformers.classification.classification_utils.InputExample object at 0x7f39a3dedb38>, <simpletransformers.classification.classification_utils.InputExample object at 0x7f39a3dedc88>, <simpletransformers.classification.classification_utils.InputExample object at 0x7f39a3dedd30>, <simpletransformers.classification.classification_utils.InputExample object at 0x7f39a3dedda0>, <simpletransformers.classification.classification_utils.InputExample object at 0x7f39a3deddd8>, <simpletransformers.classification.classification_utils.InputExample object at 0x7f39a3dedeb8>, <simpletransformers.classification.classification_utils.InputExample object at 0x7f39a3dedf28>, <simpletransformers.classification.classification_utils.InputExample object at 0x7f39a67d00b8>, <simpletransformers.classification.classification_utils.InputExample object at 0x7f39a67d0128>, <simpletransformers.classification.classification_utils.InputExample object at 0x7f39a67d0160>, <simpletransformers.classification.classification_utils.InputExample object at 0x7f39a67d0208>, <simpletransformers.classification.classification_utils.InputExample object at 0x7f39a67d0278>, <simpletransformers.classification.classification_utils.InputExample object at 0x7f39a67d0390>, <simpletransformers.classification.classification_utils.InputExample object at 0x7f39a67d03c8>, <simpletransformers.classification.classification_utils.InputExample object at 0x7f39a67d0400>, <simpletransformers.classification.classification_utils.InputExample object at 0x7f39a67d0438>, <simpletransformers.classification.classification_utils.InputExample object at 0x7f39a67d04a8>, <simpletransformers.classification.classification_utils.InputExample object at 0x7f39a67d0550>, <simpletransformers.classification.classification_utils.InputExample object at 0x7f39a67d0588>, <simpletransformers.classification.classification_utils.InputExample object at 0x7f39a67d05f8>, <simpletransformers.classification.classification_utils.InputExample object at 0x7f39a67d0630>, <simpletransformers.classification.classification_utils.InputExample object at 0x7f39a67d0710>, <simpletransformers.classification.classification_utils.InputExample object at 0x7f39a67d0748>, <simpletransformers.classification.classification_utils.InputExample object at 0x7f39a67d07f0>, <simpletransformers.classification.classification_utils.InputExample object at 0x7f39a67d0908>, <simpletransformers.classification.classification_utils.InputExample object at 0x7f39a67d0940>, <simpletransformers.classification.classification_utils.InputExample object at 0x7f39a67d09e8>, <simpletransformers.classification.classification_utils.InputExample object at 0x7f39a67d0b00>, <simpletransformers.classification.classification_utils.InputExample object at 0x7f39a67d0be0>, <simpletransformers.classification.classification_utils.InputExample object at 0x7f39a67d0d68>, <simpletransformers.classification.classification_utils.InputExample object at 0x7f3991e61080>, <simpletransformers.classification.classification_utils.InputExample object at 0x7f3991e611d0>, <simpletransformers.classification.classification_utils.InputExample object at 0x7f3991e612e8>, <simpletransformers.classification.classification_utils.InputExample object at 0x7f3991e61320>, <simpletransformers.classification.classification_utils.InputExample object at 0x7f3991e613c8>, <simpletransformers.classification.classification_utils.InputExample object at 0x7f3991e614e0>, <simpletransformers.classification.classification_utils.InputExample object at 0x7f3991e61518>, <simpletransformers.classification.classification_utils.InputExample object at 0x7f3991e61550>, <simpletransformers.classification.classification_utils.InputExample object at 0x7f3991e615c0>, <simpletransformers.classification.classification_utils.InputExample object at 0x7f3991e61710>, <simpletransformers.classification.classification_utils.InputExample object at 0x7f3991e61780>, <simpletransformers.classification.classification_utils.InputExample object at 0x7f3991e619e8>, <simpletransformers.classification.classification_utils.InputExample object at 0x7f3991e61a20>, <simpletransformers.classification.classification_utils.InputExample object at 0x7f3991e61c18>, <simpletransformers.classification.classification_utils.InputExample object at 0x7f3991e61cc0>, <simpletransformers.classification.classification_utils.InputExample object at 0x7f3991e61dd8>, <simpletransformers.classification.classification_utils.InputExample object at 0x7f3991e61ef0>, <simpletransformers.classification.classification_utils.InputExample object at 0x7f3992273128>, <simpletransformers.classification.classification_utils.InputExample object at 0x7f3992273160>, <simpletransformers.classification.classification_utils.InputExample object at 0x7f39922732b0>, <simpletransformers.classification.classification_utils.InputExample object at 0x7f39922732e8>, <simpletransformers.classification.classification_utils.InputExample object at 0x7f3992273358>, <simpletransformers.classification.classification_utils.InputExample object at 0x7f39922734e0>, <simpletransformers.classification.classification_utils.InputExample object at 0x7f3992273550>, <simpletransformers.classification.classification_utils.InputExample object at 0x7f3992273630>, <simpletransformers.classification.classification_utils.InputExample object at 0x7f39922736a0>, <simpletransformers.classification.classification_utils.InputExample object at 0x7f3992273748>, <simpletransformers.classification.classification_utils.InputExample object at 0x7f3992273898>, <simpletransformers.classification.classification_utils.InputExample object at 0x7f3992273978>, <simpletransformers.classification.classification_utils.InputExample object at 0x7f39922739b0>, <simpletransformers.classification.classification_utils.InputExample object at 0x7f3992273a58>, <simpletransformers.classification.classification_utils.InputExample object at 0x7f3992273a90>, <simpletransformers.classification.classification_utils.InputExample object at 0x7f3992273ba8>, <simpletransformers.classification.classification_utils.InputExample object at 0x7f3992273c18>, <simpletransformers.classification.classification_utils.InputExample object at 0x7f3992273c50>, <simpletransformers.classification.classification_utils.InputExample object at 0x7f3992273c88>, <simpletransformers.classification.classification_utils.InputExample object at 0x7f3992273dd8>, <simpletransformers.classification.classification_utils.InputExample object at 0x7f3992273ef0>, <simpletransformers.classification.classification_utils.InputExample object at 0x7f3992273fd0>, <simpletransformers.classification.classification_utils.InputExample object at 0x7f39922870f0>, <simpletransformers.classification.classification_utils.InputExample object at 0x7f3992287198>, <simpletransformers.classification.classification_utils.InputExample object at 0x7f3992287518>, <simpletransformers.classification.classification_utils.InputExample object at 0x7f3992287588>, <simpletransformers.classification.classification_utils.InputExample object at 0x7f3992287668>, <simpletransformers.classification.classification_utils.InputExample object at 0x7f39922876d8>, <simpletransformers.classification.classification_utils.InputExample object at 0x7f3992287710>, <simpletransformers.classification.classification_utils.InputExample object at 0x7f3992287748>, <simpletransformers.classification.classification_utils.InputExample object at 0x7f39922877b8>, <simpletransformers.classification.classification_utils.InputExample object at 0x7f3992287908>, <simpletransformers.classification.classification_utils.InputExample object at 0x7f3992287978>, <simpletransformers.classification.classification_utils.InputExample object at 0x7f39922879e8>, <simpletransformers.classification.classification_utils.InputExample object at 0x7f3992287a58>, <simpletransformers.classification.classification_utils.InputExample object at 0x7f3992287b00>, <simpletransformers.classification.classification_utils.InputExample object at 0x7f3992287b38>, <simpletransformers.classification.classification_utils.InputExample object at 0x7f3992287ba8>, <simpletransformers.classification.classification_utils.InputExample object at 0x7f3992287cc0>, <simpletransformers.classification.classification_utils.InputExample object at 0x7f3992287cf8>, <simpletransformers.classification.classification_utils.InputExample object at 0x7f3992287d68>, <simpletransformers.classification.classification_utils.InputExample object at 0x7f3992287da0>, <simpletransformers.classification.classification_utils.InputExample object at 0x7f3992287e48>, <simpletransformers.classification.classification_utils.InputExample object at 0x7f3992287eb8>, <simpletransformers.classification.classification_utils.InputExample object at 0x7f3992287f98>, <simpletransformers.classification.classification_utils.InputExample object at 0x7f39a3e61160>, <simpletransformers.classification.classification_utils.InputExample object at 0x7f39a3e61240>, <simpletransformers.classification.classification_utils.InputExample object at 0x7f39a3e612b0>, <simpletransformers.classification.classification_utils.InputExample object at 0x7f39a3e61320>, <simpletransformers.classification.classification_utils.InputExample object at 0x7f39a3e61400>, <simpletransformers.classification.classification_utils.InputExample object at 0x7f39a3e61470>, <simpletransformers.classification.classification_utils.InputExample object at 0x7f39a3e614e0>, <simpletransformers.classification.classification_utils.InputExample object at 0x7f39a3e61550>, <simpletransformers.classification.classification_utils.InputExample object at 0x7f39a3e615f8>, <simpletransformers.classification.classification_utils.InputExample object at 0x7f39a3e61630>, <simpletransformers.classification.classification_utils.InputExample object at 0x7f39a3e61748>, <simpletransformers.classification.classification_utils.InputExample object at 0x7f39a3e61898>, <simpletransformers.classification.classification_utils.InputExample object at 0x7f39a3e61908>, <simpletransformers.classification.classification_utils.InputExample object at 0x7f39a3e61940>, <simpletransformers.classification.classification_utils.InputExample object at 0x7f39a3e61a20>, <simpletransformers.classification.classification_utils.InputExample object at 0x7f39a3e61ba8>, <simpletransformers.classification.classification_utils.InputExample object at 0x7f39a3e61c18>, <simpletransformers.classification.classification_utils.InputExample object at 0x7f39a3e61c88>, <simpletransformers.classification.classification_utils.InputExample object at 0x7f39a3e61cf8>, <simpletransformers.classification.classification_utils.InputExample object at 0x7f39a3e61dd8>, <simpletransformers.classification.classification_utils.InputExample object at 0x7f39a3e61e10>, <simpletransformers.classification.classification_utils.InputExample object at 0x7f39a3e61eb8>, <simpletransformers.classification.classification_utils.InputExample object at 0x7f39a3e7a0f0>, <simpletransformers.classification.classification_utils.InputExample object at 0x7f39a3e7a1d0>, <simpletransformers.classification.classification_utils.InputExample object at 0x7f39a3e7a2b0>, <simpletransformers.classification.classification_utils.InputExample object at 0x7f39a3e7a3c8>, <simpletransformers.classification.classification_utils.InputExample object at 0x7f39a3e7a400>, <simpletransformers.classification.classification_utils.InputExample object at 0x7f39a3e7a470>, <simpletransformers.classification.classification_utils.InputExample object at 0x7f39a3e7a518>, <simpletransformers.classification.classification_utils.InputExample object at 0x7f39a3e7a668>, <simpletransformers.classification.classification_utils.InputExample object at 0x7f39a3e7a710>, <simpletransformers.classification.classification_utils.InputExample object at 0x7f39a3e7a8d0>, <simpletransformers.classification.classification_utils.InputExample object at 0x7f39a3e7a9b0>, <simpletransformers.classification.classification_utils.InputExample object at 0x7f39a3e7a9e8>, <simpletransformers.classification.classification_utils.InputExample object at 0x7f39a3e7aa90>, <simpletransformers.classification.classification_utils.InputExample object at 0x7f39a3e7aba8>, <simpletransformers.classification.classification_utils.InputExample object at 0x7f39a3e7ac18>, <simpletransformers.classification.classification_utils.InputExample object at 0x7f39a3e7ac88>, <simpletransformers.classification.classification_utils.InputExample object at 0x7f39a3e7acc0>, <simpletransformers.classification.classification_utils.InputExample object at 0x7f39a3e7add8>, <simpletransformers.classification.classification_utils.InputExample object at 0x7f39a3e7ae80>, <simpletransformers.classification.classification_utils.InputExample object at 0x7f39a3e7aeb8>, <simpletransformers.classification.classification_utils.InputExample object at 0x7f39a3e7af28>, <simpletransformers.classification.classification_utils.InputExample object at 0x7f39a3e7af60>, <simpletransformers.classification.classification_utils.InputExample object at 0x7f3992654160>, <simpletransformers.classification.classification_utils.InputExample object at 0x7f3992654400>, <simpletransformers.classification.classification_utils.InputExample object at 0x7f3992654588>, <simpletransformers.classification.classification_utils.InputExample object at 0x7f39926546d8>, <simpletransformers.classification.classification_utils.InputExample object at 0x7f3992654710>, <simpletransformers.classification.classification_utils.InputExample object at 0x7f3992654860>, <simpletransformers.classification.classification_utils.InputExample object at 0x7f3992654898>, <simpletransformers.classification.classification_utils.InputExample object at 0x7f3992654908>, <simpletransformers.classification.classification_utils.InputExample object at 0x7f3992654978>, <simpletransformers.classification.classification_utils.InputExample object at 0x7f39926549e8>, <simpletransformers.classification.classification_utils.InputExample object at 0x7f3992654a58>, <simpletransformers.classification.classification_utils.InputExample object at 0x7f3992654b70>, <simpletransformers.classification.classification_utils.InputExample object at 0x7f3992654c50>, <simpletransformers.classification.classification_utils.InputExample object at 0x7f3992654c88>, <simpletransformers.classification.classification_utils.InputExample object at 0x7f3992654cf8>, <simpletransformers.classification.classification_utils.InputExample object at 0x7f3992654dd8>, <simpletransformers.classification.classification_utils.InputExample object at 0x7f3992654e48>, <simpletransformers.classification.classification_utils.InputExample object at 0x7f3992654eb8>, <simpletransformers.classification.classification_utils.InputExample object at 0x7f3992654f28>, <simpletransformers.classification.classification_utils.InputExample object at 0x7f3992674080>, <simpletransformers.classification.classification_utils.InputExample object at 0x7f39926740b8>, <simpletransformers.classification.classification_utils.InputExample object at 0x7f39926740f0>, <simpletransformers.classification.classification_utils.InputExample object at 0x7f3992674128>, <simpletransformers.classification.classification_utils.InputExample object at 0x7f3992674208>, <simpletransformers.classification.classification_utils.InputExample object at 0x7f3992674320>, <simpletransformers.classification.classification_utils.InputExample object at 0x7f3992674390>, <simpletransformers.classification.classification_utils.InputExample object at 0x7f3992674470>, <simpletransformers.classification.classification_utils.InputExample object at 0x7f39926744a8>, <simpletransformers.classification.classification_utils.InputExample object at 0x7f39926746d8>, <simpletransformers.classification.classification_utils.InputExample object at 0x7f3992674748>, <simpletransformers.classification.classification_utils.InputExample object at 0x7f3992674828>, <simpletransformers.classification.classification_utils.InputExample object at 0x7f3992674908>, <simpletransformers.classification.classification_utils.InputExample object at 0x7f39926749b0>, <simpletransformers.classification.classification_utils.InputExample object at 0x7f3992674b38>, <simpletransformers.classification.classification_utils.InputExample object at 0x7f3992674b70>, <simpletransformers.classification.classification_utils.InputExample object at 0x7f3992674cf8>, <simpletransformers.classification.classification_utils.InputExample object at 0x7f3992674d68>, <simpletransformers.classification.classification_utils.InputExample object at 0x7f3992674e80>, <simpletransformers.classification.classification_utils.InputExample object at 0x7f3992672048>, <simpletransformers.classification.classification_utils.InputExample object at 0x7f3992672160>, <simpletransformers.classification.classification_utils.InputExample object at 0x7f3992672208>, <simpletransformers.classification.classification_utils.InputExample object at 0x7f3992672320>, <simpletransformers.classification.classification_utils.InputExample object at 0x7f3992672400>, <simpletransformers.classification.classification_utils.InputExample object at 0x7f3992672438>, <simpletransformers.classification.classification_utils.InputExample object at 0x7f39926724a8>, <simpletransformers.classification.classification_utils.InputExample object at 0x7f3992672518>, <simpletransformers.classification.classification_utils.InputExample object at 0x7f3992672550>, <simpletransformers.classification.classification_utils.InputExample object at 0x7f39926725c0>, <simpletransformers.classification.classification_utils.InputExample object at 0x7f3992672668>, <simpletransformers.classification.classification_utils.InputExample object at 0x7f39926726d8>, <simpletransformers.classification.classification_utils.InputExample object at 0x7f3992672710>, <simpletransformers.classification.classification_utils.InputExample object at 0x7f3992672780>, <simpletransformers.classification.classification_utils.InputExample object at 0x7f39926727b8>, <simpletransformers.classification.classification_utils.InputExample object at 0x7f3992672860>, <simpletransformers.classification.classification_utils.InputExample object at 0x7f3992672908>, <simpletransformers.classification.classification_utils.InputExample object at 0x7f3992672940>, <simpletransformers.classification.classification_utils.InputExample object at 0x7f3992672978>, <simpletransformers.classification.classification_utils.InputExample object at 0x7f3992672a58>, <simpletransformers.classification.classification_utils.InputExample object at 0x7f3992672ac8>, <simpletransformers.classification.classification_utils.InputExample object at 0x7f3992672cc0>, <simpletransformers.classification.classification_utils.InputExample object at 0x7f3992672cf8>, <simpletransformers.classification.classification_utils.InputExample object at 0x7f3992672d30>, <simpletransformers.classification.classification_utils.InputExample object at 0x7f3992672e48>, <simpletransformers.classification.classification_utils.InputExample object at 0x7f3992672f28>, <simpletransformers.classification.classification_utils.InputExample object at 0x7f3992672f98>, <simpletransformers.classification.classification_utils.InputExample object at 0x7f39926850b8>, <simpletransformers.classification.classification_utils.InputExample object at 0x7f39926850f0>, <simpletransformers.classification.classification_utils.InputExample object at 0x7f3992685160>, <simpletransformers.classification.classification_utils.InputExample object at 0x7f39926852e8>, <simpletransformers.classification.classification_utils.InputExample object at 0x7f39926853c8>, <simpletransformers.classification.classification_utils.InputExample object at 0x7f39926854e0>, <simpletransformers.classification.classification_utils.InputExample object at 0x7f3992685630>, <simpletransformers.classification.classification_utils.InputExample object at 0x7f3992685710>, <simpletransformers.classification.classification_utils.InputExample object at 0x7f3992685780>, <simpletransformers.classification.classification_utils.InputExample object at 0x7f3992685978>, <simpletransformers.classification.classification_utils.InputExample object at 0x7f39926859b0>, <simpletransformers.classification.classification_utils.InputExample object at 0x7f3992685b38>, <simpletransformers.classification.classification_utils.InputExample object at 0x7f3992685da0>, <simpletransformers.classification.classification_utils.InputExample object at 0x7f3992685dd8>, <simpletransformers.classification.classification_utils.InputExample object at 0x7f3992685e10>, <simpletransformers.classification.classification_utils.InputExample object at 0x7f3992685eb8>, <simpletransformers.classification.classification_utils.InputExample object at 0x7f3992685fd0>, <simpletransformers.classification.classification_utils.InputExample object at 0x7f39926820b8>, <simpletransformers.classification.classification_utils.InputExample object at 0x7f39926820f0>, <simpletransformers.classification.classification_utils.InputExample object at 0x7f3992682358>, <simpletransformers.classification.classification_utils.InputExample object at 0x7f3992682438>, <simpletransformers.classification.classification_utils.InputExample object at 0x7f39926824a8>, <simpletransformers.classification.classification_utils.InputExample object at 0x7f39926824e0>, <simpletransformers.classification.classification_utils.InputExample object at 0x7f3992682588>, <simpletransformers.classification.classification_utils.InputExample object at 0x7f39926825f8>, <simpletransformers.classification.classification_utils.InputExample object at 0x7f39926826d8>, <simpletransformers.classification.classification_utils.InputExample object at 0x7f3992682748>, <simpletransformers.classification.classification_utils.InputExample object at 0x7f3992682898>, <simpletransformers.classification.classification_utils.InputExample object at 0x7f39926828d0>, <simpletransformers.classification.classification_utils.InputExample object at 0x7f3992682940>, <simpletransformers.classification.classification_utils.InputExample object at 0x7f3992682a58>, <simpletransformers.classification.classification_utils.InputExample object at 0x7f3992682ba8>, <simpletransformers.classification.classification_utils.InputExample object at 0x7f3992682c18>, <simpletransformers.classification.classification_utils.InputExample object at 0x7f3992682c50>, <simpletransformers.classification.classification_utils.InputExample object at 0x7f3992682cc0>, <simpletransformers.classification.classification_utils.InputExample object at 0x7f3992682f60>, <simpletransformers.classification.classification_utils.InputExample object at 0x7f3992682f98>, <simpletransformers.classification.classification_utils.InputExample object at 0x7f39a3b5f048>, <simpletransformers.classification.classification_utils.InputExample object at 0x7f39a3b5f080>, <simpletransformers.classification.classification_utils.InputExample object at 0x7f39a3b5f0b8>, <simpletransformers.classification.classification_utils.InputExample object at 0x7f39a3b5f128>, <simpletransformers.classification.classification_utils.InputExample object at 0x7f39a3b5f198>, <simpletransformers.classification.classification_utils.InputExample object at 0x7f39a3b5f208>, <simpletransformers.classification.classification_utils.InputExample object at 0x7f39a3b5f240>, <simpletransformers.classification.classification_utils.InputExample object at 0x7f39a3b5f390>, <simpletransformers.classification.classification_utils.InputExample object at 0x7f39a3b5f470>, <simpletransformers.classification.classification_utils.InputExample object at 0x7f39a3b5f4a8>, <simpletransformers.classification.classification_utils.InputExample object at 0x7f39a3b5f4e0>, <simpletransformers.classification.classification_utils.InputExample object at 0x7f39a3b5f5f8>, <simpletransformers.classification.classification_utils.InputExample object at 0x7f39a3b5f630>, <simpletransformers.classification.classification_utils.InputExample object at 0x7f39a3b5f6d8>, <simpletransformers.classification.classification_utils.InputExample object at 0x7f39a3b5fb38>, <simpletransformers.classification.classification_utils.InputExample object at 0x7f39a3b5fc88>, <simpletransformers.classification.classification_utils.InputExample object at 0x7f39a3b5fe10>, <simpletransformers.classification.classification_utils.InputExample object at 0x7f39a3b5fe48>, <simpletransformers.classification.classification_utils.InputExample object at 0x7f39a3b5feb8>, <simpletransformers.classification.classification_utils.InputExample object at 0x7f39a3b5fef0>, <simpletransformers.classification.classification_utils.InputExample object at 0x7f39a3b5ffd0>, <simpletransformers.classification.classification_utils.InputExample object at 0x7f39a3b93080>, <simpletransformers.classification.classification_utils.InputExample object at 0x7f39a3b930b8>, <simpletransformers.classification.classification_utils.InputExample object at 0x7f39a3b930f0>, <simpletransformers.classification.classification_utils.InputExample object at 0x7f39a3b93240>, <simpletransformers.classification.classification_utils.InputExample object at 0x7f39a3b932b0>, <simpletransformers.classification.classification_utils.InputExample object at 0x7f39a3b93320>, <simpletransformers.classification.classification_utils.InputExample object at 0x7f39a3b933c8>, <simpletransformers.classification.classification_utils.InputExample object at 0x7f39a3b93438>, <simpletransformers.classification.classification_utils.InputExample object at 0x7f39a3b934e0>, <simpletransformers.classification.classification_utils.InputExample object at 0x7f39a3b93518>, <simpletransformers.classification.classification_utils.InputExample object at 0x7f39a3b936a0>, <simpletransformers.classification.classification_utils.InputExample object at 0x7f39a3b93748>, <simpletransformers.classification.classification_utils.InputExample object at 0x7f39a3b93780>, <simpletransformers.classification.classification_utils.InputExample object at 0x7f39a3b93908>, <simpletransformers.classification.classification_utils.InputExample object at 0x7f39a3b939b0>, <simpletransformers.classification.classification_utils.InputExample object at 0x7f39a3b93cc0>, <simpletransformers.classification.classification_utils.InputExample object at 0x7f39a3b93d68>, <simpletransformers.classification.classification_utils.InputExample object at 0x7f39a3b93da0>, <simpletransformers.classification.classification_utils.InputExample object at 0x7f39a3b93dd8>, <simpletransformers.classification.classification_utils.InputExample object at 0x7f39a3b93e48>, <simpletransformers.classification.classification_utils.InputExample object at 0x7f39a3b93fd0>, <simpletransformers.classification.classification_utils.InputExample object at 0x7f39a3b6b048>, <simpletransformers.classification.classification_utils.InputExample object at 0x7f39a3b6b080>, <simpletransformers.classification.classification_utils.InputExample object at 0x7f39a3b6b128>, <simpletransformers.classification.classification_utils.InputExample object at 0x7f39a3b6b1d0>, <simpletransformers.classification.classification_utils.InputExample object at 0x7f39a3b6b240>, <simpletransformers.classification.classification_utils.InputExample object at 0x7f39a3b6b2b0>, <simpletransformers.classification.classification_utils.InputExample object at 0x7f39a3b6b320>, <simpletransformers.classification.classification_utils.InputExample object at 0x7f39a3b6b5f8>, <simpletransformers.classification.classification_utils.InputExample object at 0x7f39a3b6b630>, <simpletransformers.classification.classification_utils.InputExample object at 0x7f39a3b6b668>, <simpletransformers.classification.classification_utils.InputExample object at 0x7f39a3b6b6d8>, <simpletransformers.classification.classification_utils.InputExample object at 0x7f39a3b6b7b8>, <simpletransformers.classification.classification_utils.InputExample object at 0x7f39a3b6b828>, <simpletransformers.classification.classification_utils.InputExample object at 0x7f39a3b6b898>, <simpletransformers.classification.classification_utils.InputExample object at 0x7f39a3b6b978>, <simpletransformers.classification.classification_utils.InputExample object at 0x7f39a3b6bb38>, <simpletransformers.classification.classification_utils.InputExample object at 0x7f39a3b6bba8>, <simpletransformers.classification.classification_utils.InputExample object at 0x7f39a3b6bbe0>, <simpletransformers.classification.classification_utils.InputExample object at 0x7f39a3b6bc50>, <simpletransformers.classification.classification_utils.InputExample object at 0x7f39a3b6bd30>, <simpletransformers.classification.classification_utils.InputExample object at 0x7f39a3b6be10>, <simpletransformers.classification.classification_utils.InputExample object at 0x7f39a3b6bef0>, <simpletransformers.classification.classification_utils.InputExample object at 0x7f39a3b6bf60>, <simpletransformers.classification.classification_utils.InputExample object at 0x7f39a3b6bf98>, <simpletransformers.classification.classification_utils.InputExample object at 0x7f39a3b6bfd0>, <simpletransformers.classification.classification_utils.InputExample object at 0x7f39a3b83198>, <simpletransformers.classification.classification_utils.InputExample object at 0x7f39a3b832e8>, <simpletransformers.classification.classification_utils.InputExample object at 0x7f39a3b83390>, <simpletransformers.classification.classification_utils.InputExample object at 0x7f39a3b833c8>, <simpletransformers.classification.classification_utils.InputExample object at 0x7f39a3b83470>, <simpletransformers.classification.classification_utils.InputExample object at 0x7f39a3b834e0>, <simpletransformers.classification.classification_utils.InputExample object at 0x7f39a3b83518>, <simpletransformers.classification.classification_utils.InputExample object at 0x7f39a3b835c0>, <simpletransformers.classification.classification_utils.InputExample object at 0x7f39a3b835f8>, <simpletransformers.classification.classification_utils.InputExample object at 0x7f39a3b83630>, <simpletransformers.classification.classification_utils.InputExample object at 0x7f39a3b836d8>, <simpletransformers.classification.classification_utils.InputExample object at 0x7f39a3b837b8>, <simpletransformers.classification.classification_utils.InputExample object at 0x7f39a3b83828>, <simpletransformers.classification.classification_utils.InputExample object at 0x7f39a3b83978>, <simpletransformers.classification.classification_utils.InputExample object at 0x7f39a3b839e8>, <simpletransformers.classification.classification_utils.InputExample object at 0x7f39a3b83a20>, <simpletransformers.classification.classification_utils.InputExample object at 0x7f39a3b83b00>, <simpletransformers.classification.classification_utils.InputExample object at 0x7f39a3b83c88>, <simpletransformers.classification.classification_utils.InputExample object at 0x7f39a3b83e80>, <simpletransformers.classification.classification_utils.InputExample object at 0x7f39a3b83f28>, <simpletransformers.classification.classification_utils.InputExample object at 0x7f39a3b83f98>, <simpletransformers.classification.classification_utils.InputExample object at 0x7f39a3b83fd0>, <simpletransformers.classification.classification_utils.InputExample object at 0x7f3991f4f048>, <simpletransformers.classification.classification_utils.InputExample object at 0x7f3991f4f0f0>, <simpletransformers.classification.classification_utils.InputExample object at 0x7f3991f4f198>, <simpletransformers.classification.classification_utils.InputExample object at 0x7f3991f4f240>, <simpletransformers.classification.classification_utils.InputExample object at 0x7f3991f4f3c8>, <simpletransformers.classification.classification_utils.InputExample object at 0x7f3991f4f438>, <simpletransformers.classification.classification_utils.InputExample object at 0x7f3991f4f4e0>, <simpletransformers.classification.classification_utils.InputExample object at 0x7f3991f4f5c0>, <simpletransformers.classification.classification_utils.InputExample object at 0x7f3991f4f668>, <simpletransformers.classification.classification_utils.InputExample object at 0x7f3991f4f6a0>, <simpletransformers.classification.classification_utils.InputExample object at 0x7f3991f4f6d8>, <simpletransformers.classification.classification_utils.InputExample object at 0x7f3991f4f748>, <simpletransformers.classification.classification_utils.InputExample object at 0x7f3991f4f780>, <simpletransformers.classification.classification_utils.InputExample object at 0x7f3991f4f898>, <simpletransformers.classification.classification_utils.InputExample object at 0x7f3991f4fb00>, <simpletransformers.classification.classification_utils.InputExample object at 0x7f3991f4fb70>, <simpletransformers.classification.classification_utils.InputExample object at 0x7f3991f4fbe0>, <simpletransformers.classification.classification_utils.InputExample object at 0x7f3991f4fc50>, <simpletransformers.classification.classification_utils.InputExample object at 0x7f3991f4fd68>, <simpletransformers.classification.classification_utils.InputExample object at 0x7f3991f4fe48>, <simpletransformers.classification.classification_utils.InputExample object at 0x7f3991f4fe80>, <simpletransformers.classification.classification_utils.InputExample object at 0x7f3991f4ff60>, <simpletransformers.classification.classification_utils.InputExample object at 0x7f3991f420b8>, <simpletransformers.classification.classification_utils.InputExample object at 0x7f3991f420f0>, <simpletransformers.classification.classification_utils.InputExample object at 0x7f3991f42240>, <simpletransformers.classification.classification_utils.InputExample object at 0x7f3991f42278>, <simpletransformers.classification.classification_utils.InputExample object at 0x7f3991f42320>, <simpletransformers.classification.classification_utils.InputExample object at 0x7f3991f42358>, <simpletransformers.classification.classification_utils.InputExample object at 0x7f3991f42400>, <simpletransformers.classification.classification_utils.InputExample object at 0x7f3991f425f8>, <simpletransformers.classification.classification_utils.InputExample object at 0x7f3991f42668>]\n"
          ],
          "name": "stdout"
        }
      ]
    },
    {
      "cell_type": "code",
      "metadata": {
        "id": "Wlk8328nxLCO",
        "colab_type": "code",
        "colab": {
          "base_uri": "https://localhost:8080/",
          "height": 35
        },
        "outputId": "124b9b2e-b7c0-4597-9992-de16841c9b3e"
      },
      "source": [
        "model_outputs.shape"
      ],
      "execution_count": 16,
      "outputs": [
        {
          "output_type": "execute_result",
          "data": {
            "text/plain": [
              "(2000, 6)"
            ]
          },
          "metadata": {
            "tags": []
          },
          "execution_count": 16
        }
      ]
    },
    {
      "cell_type": "code",
      "metadata": {
        "id": "JxVfka90xMwm",
        "colab_type": "code",
        "colab": {
          "base_uri": "https://localhost:8080/",
          "height": 35
        },
        "outputId": "ca48bb7f-1966-41b8-842d-1ad01c0aafac"
      },
      "source": [
        "from keras.preprocessing.text import Tokenizer\n",
        "from keras.preprocessing.sequence import pad_sequences\n",
        "from keras.layers import Dense, Input, LSTM, Embedding, Dropout, Activation, SpatialDropout1D, GRU\n",
        "from keras.layers import Bidirectional, GlobalAveragePooling1D, GlobalMaxPooling1D, concatenate\n",
        "from keras.models import Model, Sequential\n",
        "from keras import initializers, regularizers, constraints, optimizers, layers\n",
        "from keras.utils import to_categorical\n",
        "from keras.callbacks import EarlyStopping, ModelCheckpoint"
      ],
      "execution_count": 17,
      "outputs": [
        {
          "output_type": "stream",
          "text": [
            "Using TensorFlow backend.\n"
          ],
          "name": "stderr"
        }
      ]
    },
    {
      "cell_type": "code",
      "metadata": {
        "id": "L9BXLYRiydoW",
        "colab_type": "code",
        "colab": {
          "base_uri": "https://localhost:8080/",
          "height": 202
        },
        "outputId": "bdd40507-0aa5-404c-fc65-17875db12c84"
      },
      "source": [
        "train.head()"
      ],
      "execution_count": 18,
      "outputs": [
        {
          "output_type": "execute_result",
          "data": {
            "text/html": [
              "<div>\n",
              "<style scoped>\n",
              "    .dataframe tbody tr th:only-of-type {\n",
              "        vertical-align: middle;\n",
              "    }\n",
              "\n",
              "    .dataframe tbody tr th {\n",
              "        vertical-align: top;\n",
              "    }\n",
              "\n",
              "    .dataframe thead th {\n",
              "        text-align: right;\n",
              "    }\n",
              "</style>\n",
              "<table border=\"1\" class=\"dataframe\">\n",
              "  <thead>\n",
              "    <tr style=\"text-align: right;\">\n",
              "      <th></th>\n",
              "      <th>text</th>\n",
              "      <th>labels</th>\n",
              "    </tr>\n",
              "  </thead>\n",
              "  <tbody>\n",
              "    <tr>\n",
              "      <th>4226</th>\n",
              "      <td>not sure good got coupon try went closed cater...</td>\n",
              "      <td>1</td>\n",
              "    </tr>\n",
              "    <tr>\n",
              "      <th>8636</th>\n",
              "      <td>wish could leave zero stars always get order w...</td>\n",
              "      <td>1</td>\n",
              "    </tr>\n",
              "    <tr>\n",
              "      <th>2434</th>\n",
              "      <td>wish could give negative stars restaurant far ...</td>\n",
              "      <td>1</td>\n",
              "    </tr>\n",
              "    <tr>\n",
              "      <th>4094</th>\n",
              "      <td>took children visiting sister champaign expect...</td>\n",
              "      <td>2</td>\n",
              "    </tr>\n",
              "    <tr>\n",
              "      <th>8208</th>\n",
              "      <td>horrendously expensive chocolate paid two tiny...</td>\n",
              "      <td>2</td>\n",
              "    </tr>\n",
              "  </tbody>\n",
              "</table>\n",
              "</div>"
            ],
            "text/plain": [
              "                                                   text  labels\n",
              "4226  not sure good got coupon try went closed cater...       1\n",
              "8636  wish could leave zero stars always get order w...       1\n",
              "2434  wish could give negative stars restaurant far ...       1\n",
              "4094  took children visiting sister champaign expect...       2\n",
              "8208  horrendously expensive chocolate paid two tiny...       2"
            ]
          },
          "metadata": {
            "tags": []
          },
          "execution_count": 18
        }
      ]
    },
    {
      "cell_type": "code",
      "metadata": {
        "id": "v0nChXWqyv2b",
        "colab_type": "code",
        "colab": {
          "base_uri": "https://localhost:8080/",
          "height": 202
        },
        "outputId": "459bf960-2cfb-4445-8581-ccd34add8bc4"
      },
      "source": [
        "train = pd.get_dummies(train, columns = ['labels'])\n",
        "train.head()"
      ],
      "execution_count": 19,
      "outputs": [
        {
          "output_type": "execute_result",
          "data": {
            "text/html": [
              "<div>\n",
              "<style scoped>\n",
              "    .dataframe tbody tr th:only-of-type {\n",
              "        vertical-align: middle;\n",
              "    }\n",
              "\n",
              "    .dataframe tbody tr th {\n",
              "        vertical-align: top;\n",
              "    }\n",
              "\n",
              "    .dataframe thead th {\n",
              "        text-align: right;\n",
              "    }\n",
              "</style>\n",
              "<table border=\"1\" class=\"dataframe\">\n",
              "  <thead>\n",
              "    <tr style=\"text-align: right;\">\n",
              "      <th></th>\n",
              "      <th>text</th>\n",
              "      <th>labels_1</th>\n",
              "      <th>labels_2</th>\n",
              "      <th>labels_3</th>\n",
              "      <th>labels_4</th>\n",
              "      <th>labels_5</th>\n",
              "    </tr>\n",
              "  </thead>\n",
              "  <tbody>\n",
              "    <tr>\n",
              "      <th>4226</th>\n",
              "      <td>not sure good got coupon try went closed cater...</td>\n",
              "      <td>1</td>\n",
              "      <td>0</td>\n",
              "      <td>0</td>\n",
              "      <td>0</td>\n",
              "      <td>0</td>\n",
              "    </tr>\n",
              "    <tr>\n",
              "      <th>8636</th>\n",
              "      <td>wish could leave zero stars always get order w...</td>\n",
              "      <td>1</td>\n",
              "      <td>0</td>\n",
              "      <td>0</td>\n",
              "      <td>0</td>\n",
              "      <td>0</td>\n",
              "    </tr>\n",
              "    <tr>\n",
              "      <th>2434</th>\n",
              "      <td>wish could give negative stars restaurant far ...</td>\n",
              "      <td>1</td>\n",
              "      <td>0</td>\n",
              "      <td>0</td>\n",
              "      <td>0</td>\n",
              "      <td>0</td>\n",
              "    </tr>\n",
              "    <tr>\n",
              "      <th>4094</th>\n",
              "      <td>took children visiting sister champaign expect...</td>\n",
              "      <td>0</td>\n",
              "      <td>1</td>\n",
              "      <td>0</td>\n",
              "      <td>0</td>\n",
              "      <td>0</td>\n",
              "    </tr>\n",
              "    <tr>\n",
              "      <th>8208</th>\n",
              "      <td>horrendously expensive chocolate paid two tiny...</td>\n",
              "      <td>0</td>\n",
              "      <td>1</td>\n",
              "      <td>0</td>\n",
              "      <td>0</td>\n",
              "      <td>0</td>\n",
              "    </tr>\n",
              "  </tbody>\n",
              "</table>\n",
              "</div>"
            ],
            "text/plain": [
              "                                                   text  ...  labels_5\n",
              "4226  not sure good got coupon try went closed cater...  ...         0\n",
              "8636  wish could leave zero stars always get order w...  ...         0\n",
              "2434  wish could give negative stars restaurant far ...  ...         0\n",
              "4094  took children visiting sister champaign expect...  ...         0\n",
              "8208  horrendously expensive chocolate paid two tiny...  ...         0\n",
              "\n",
              "[5 rows x 6 columns]"
            ]
          },
          "metadata": {
            "tags": []
          },
          "execution_count": 19
        }
      ]
    },
    {
      "cell_type": "code",
      "metadata": {
        "id": "oLYS0x8cyzyE",
        "colab_type": "code",
        "colab": {
          "base_uri": "https://localhost:8080/",
          "height": 35
        },
        "outputId": "b0dd5cfa-3519-44cd-e0fc-1b2b84cc026a"
      },
      "source": [
        "validation = pd.get_dummies(validation, columns = ['labels'])\n",
        "train.shape, validation.shape"
      ],
      "execution_count": 20,
      "outputs": [
        {
          "output_type": "execute_result",
          "data": {
            "text/plain": [
              "((8000, 6), (2000, 6))"
            ]
          },
          "metadata": {
            "tags": []
          },
          "execution_count": 20
        }
      ]
    },
    {
      "cell_type": "code",
      "metadata": {
        "id": "a7SrPYj9y4tu",
        "colab_type": "code",
        "colab": {
          "base_uri": "https://localhost:8080/",
          "height": 139
        },
        "outputId": "d18bc116-3abb-4ff1-8a52-f93ea509dfa9"
      },
      "source": [
        "class_names = ['labels_1', 'labels_2', 'labels_3', 'labels_4', 'labels_5']\n",
        "# Splitting off y variable\n",
        "y = train[class_names].values\n",
        "y"
      ],
      "execution_count": 21,
      "outputs": [
        {
          "output_type": "execute_result",
          "data": {
            "text/plain": [
              "array([[1, 0, 0, 0, 0],\n",
              "       [1, 0, 0, 0, 0],\n",
              "       [1, 0, 0, 0, 0],\n",
              "       ...,\n",
              "       [1, 0, 0, 0, 0],\n",
              "       [0, 0, 0, 0, 1],\n",
              "       [1, 0, 0, 0, 0]], dtype=uint8)"
            ]
          },
          "metadata": {
            "tags": []
          },
          "execution_count": 21
        }
      ]
    },
    {
      "cell_type": "code",
      "metadata": {
        "id": "s_IVq7HUy_wV",
        "colab_type": "code",
        "colab": {}
      },
      "source": [
        "# max number of unique words \n",
        "max_features = 20000\n",
        "# max number of words from review to use\n",
        "maxlen = 200\n",
        "# batch size\n",
        "batchsize = 32"
      ],
      "execution_count": 0,
      "outputs": []
    },
    {
      "cell_type": "code",
      "metadata": {
        "id": "qq_8NHqbzAxu",
        "colab_type": "code",
        "colab": {
          "base_uri": "https://localhost:8080/",
          "height": 139
        },
        "outputId": "ed743fa1-fb09-4df9-f7b4-781452faf8a1"
      },
      "source": [
        "tokenizer = Tokenizer(num_words=max_features)\n",
        "tokenizer.fit_on_texts(list(train['text'].values))\n",
        "X_train = tokenizer.texts_to_sequences(train['text'].values)\n",
        "X_validation = tokenizer.texts_to_sequences(validation['text'].values)\n",
        "x_train = pad_sequences(X_train, maxlen = maxlen)\n",
        "x_validation = pad_sequences(X_validation, maxlen = maxlen)\n",
        "x_train"
      ],
      "execution_count": 23,
      "outputs": [
        {
          "output_type": "execute_result",
          "data": {
            "text/plain": [
              "array([[   0,    0,    0, ..., 1596,  558,  444],\n",
              "       [   0,    0,    0, ...,   18,  100,   12],\n",
              "       [   0,    0,    0, ..., 1788,   76,   45],\n",
              "       ...,\n",
              "       [   0,    0,    0, ..., 2713, 2413,  352],\n",
              "       [   0,    0,    0, ...,  966,  446,  153],\n",
              "       [   0,    0,    0, ...,  167,  873,  414]], dtype=int32)"
            ]
          },
          "metadata": {
            "tags": []
          },
          "execution_count": 23
        }
      ]
    },
    {
      "cell_type": "code",
      "metadata": {
        "id": "S20OstlCzHLb",
        "colab_type": "code",
        "colab": {
          "base_uri": "https://localhost:8080/",
          "height": 35
        },
        "outputId": "11f0e1eb-4f72-4be4-f9c2-a637d09c54b3"
      },
      "source": [
        "x_train.shape"
      ],
      "execution_count": 24,
      "outputs": [
        {
          "output_type": "execute_result",
          "data": {
            "text/plain": [
              "(8000, 200)"
            ]
          },
          "metadata": {
            "tags": []
          },
          "execution_count": 24
        }
      ]
    },
    {
      "cell_type": "code",
      "metadata": {
        "id": "raVET_YGxVNJ",
        "colab_type": "code",
        "colab": {}
      },
      "source": [
        "model_LSTM = Sequential()"
      ],
      "execution_count": 0,
      "outputs": []
    },
    {
      "cell_type": "code",
      "metadata": {
        "id": "Yt61uT1dxsdB",
        "colab_type": "code",
        "colab": {}
      },
      "source": [
        "model_LSTM.add(Embedding(*model_outputs.shape, weights=[model_outputs], input_length=200, trainable=False))"
      ],
      "execution_count": 0,
      "outputs": []
    },
    {
      "cell_type": "code",
      "metadata": {
        "id": "danYybygyIta",
        "colab_type": "code",
        "colab": {}
      },
      "source": [
        "model_LSTM.add(Bidirectional(LSTM(50)))\n",
        "model_LSTM.add(Dropout(0.1))\n",
        "model_LSTM.add(Dense(5, activation='softmax'))\n",
        "model_LSTM.compile(optimizer='adam', loss='categorical_crossentropy', metrics=['accuracy'])"
      ],
      "execution_count": 0,
      "outputs": []
    },
    {
      "cell_type": "code",
      "metadata": {
        "id": "BKWNMguVyMiB",
        "colab_type": "code",
        "colab": {
          "base_uri": "https://localhost:8080/",
          "height": 381
        },
        "outputId": "e1125b71-2cf3-49a0-b7b4-796698fe1b0c"
      },
      "source": [
        "model_LSTM.fit(x_train, y, batch_size = batchsize, epochs = 10)"
      ],
      "execution_count": 28,
      "outputs": [
        {
          "output_type": "stream",
          "text": [
            "Epoch 1/10\n",
            "8000/8000 [==============================] - 151s 19ms/step - loss: 1.4077 - accuracy: 0.4546\n",
            "Epoch 2/10\n",
            "8000/8000 [==============================] - 149s 19ms/step - loss: 1.3901 - accuracy: 0.4608\n",
            "Epoch 3/10\n",
            "8000/8000 [==============================] - 148s 18ms/step - loss: 1.3795 - accuracy: 0.4627\n",
            "Epoch 4/10\n",
            "8000/8000 [==============================] - 152s 19ms/step - loss: 1.3766 - accuracy: 0.4650\n",
            "Epoch 5/10\n",
            "8000/8000 [==============================] - 152s 19ms/step - loss: 1.3698 - accuracy: 0.4684\n",
            "Epoch 6/10\n",
            "8000/8000 [==============================] - 149s 19ms/step - loss: 1.3623 - accuracy: 0.4711\n",
            "Epoch 7/10\n",
            "8000/8000 [==============================] - 148s 18ms/step - loss: 1.3546 - accuracy: 0.4706\n",
            "Epoch 8/10\n",
            "8000/8000 [==============================] - 145s 18ms/step - loss: 1.3480 - accuracy: 0.4749\n",
            "Epoch 9/10\n",
            "8000/8000 [==============================] - 143s 18ms/step - loss: 1.3410 - accuracy: 0.4787\n",
            "Epoch 10/10\n",
            "8000/8000 [==============================] - 144s 18ms/step - loss: 1.3337 - accuracy: 0.4784\n"
          ],
          "name": "stdout"
        },
        {
          "output_type": "execute_result",
          "data": {
            "text/plain": [
              "<keras.callbacks.callbacks.History at 0x7f39a6e3a898>"
            ]
          },
          "metadata": {
            "tags": []
          },
          "execution_count": 28
        }
      ]
    },
    {
      "cell_type": "code",
      "metadata": {
        "id": "WTh7AuYAzMGG",
        "colab_type": "code",
        "colab": {
          "base_uri": "https://localhost:8080/",
          "height": 35
        },
        "outputId": "bca794c7-4e0a-46d2-e787-5aaf88dfa27e"
      },
      "source": [
        "y_validation = model_LSTM.predict([x_validation], batch_size=batchsize, verbose = 1)"
      ],
      "execution_count": 29,
      "outputs": [
        {
          "output_type": "stream",
          "text": [
            "2000/2000 [==============================] - 4s 2ms/step\n"
          ],
          "name": "stdout"
        }
      ]
    },
    {
      "cell_type": "code",
      "metadata": {
        "id": "ckP81Kfo2dct",
        "colab_type": "code",
        "colab": {
          "base_uri": "https://localhost:8080/",
          "height": 52
        },
        "outputId": "044dbd15-2066-4d26-8e4d-64aeeaf8c0fb"
      },
      "source": [
        "model_LSTM.evaluate(x_validation, validation[class_names].values, verbose = 1, batch_size=batchsize)"
      ],
      "execution_count": 30,
      "outputs": [
        {
          "output_type": "stream",
          "text": [
            "2000/2000 [==============================] - 4s 2ms/step\n"
          ],
          "name": "stdout"
        },
        {
          "output_type": "execute_result",
          "data": {
            "text/plain": [
              "[1.3509935522079468, 0.4740000069141388]"
            ]
          },
          "metadata": {
            "tags": []
          },
          "execution_count": 30
        }
      ]
    },
    {
      "cell_type": "code",
      "metadata": {
        "id": "CGl4f1vq-any",
        "colab_type": "code",
        "colab": {}
      },
      "source": [
        ""
      ],
      "execution_count": 0,
      "outputs": []
    }
  ]
}